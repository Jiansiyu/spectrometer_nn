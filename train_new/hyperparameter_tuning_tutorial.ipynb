{
 "cells": [
  {
   "cell_type": "code",
   "execution_count": 15,
   "metadata": {
    "collapsed": false
   },
   "outputs": [],
   "source": [
    "%matplotlib inline"
   ]
  },
  {
   "cell_type": "markdown",
   "metadata": {},
   "source": [
    "\n",
    "Hyperparameter tuning with Ray Tune\n",
    "===================================\n",
    "\n",
    "Hyperparameter tuning can make the difference between an average model and a highly\n",
    "accurate one. Often simple things like choosing a different learning rate or changing\n",
    "a network layer size can have a dramatic impact on your model performance.\n",
    "\n",
    "Fortunately, there are tools that help with finding the best combination of parameters.\n",
    "`Ray Tune <https://docs.ray.io/en/latest/tune.html>`_ is an industry standard tool for\n",
    "distributed hyperparameter tuning. Ray Tune includes the latest hyperparameter search\n",
    "algorithms, integrates with TensorBoard and other analysis libraries, and natively\n",
    "supports distributed training through `Ray's distributed machine learning engine\n",
    "<https://ray.io/>`_.\n",
    "\n",
    "In this tutorial, we will show you how to integrate Ray Tune into your PyTorch\n",
    "training workflow. We will extend `this tutorial from the PyTorch documentation\n",
    "<https://pytorch.org/tutorials/beginner/blitz/cifar10_tutorial.html>`_ for training\n",
    "a CIFAR10 image classifier.\n",
    "\n",
    "As you will see, we only need to add some slight modifications. In particular, we\n",
    "need to\n",
    "\n",
    "1. wrap data loading and training in functions,\n",
    "2. make some network parameters configurable,\n",
    "3. add checkpointing (optional),\n",
    "4. and define the search space for the model tuning\n",
    "\n",
    "|\n",
    "\n",
    "To run this tutorial, please make sure the following packages are\n",
    "installed:\n",
    "\n",
    "-  ``ray[tune]``: Distributed hyperparameter tuning library\n",
    "-  ``torchvision``: For the data transformers\n",
    "\n",
    "Setup / Imports\n",
    "---------------\n",
    "Let's start with the imports:\n",
    "\n"
   ]
  },
  {
   "cell_type": "code",
   "execution_count": 16,
   "metadata": {
    "collapsed": false
   },
   "outputs": [],
   "source": [
    "from functools import partial\n",
    "import numpy as np\n",
    "import os\n",
    "import torch\n",
    "import torch.nn as nn\n",
    "import torch.nn.functional as F\n",
    "import torch.optim as optim\n",
    "from torch.utils.data import random_split\n",
    "import torchvision\n",
    "import torchvision.transforms as transforms\n",
    "from ray import tune\n",
    "from ray.tune import CLIReporter\n",
    "from ray.tune.schedulers import ASHAScheduler"
   ]
  },
  {
   "cell_type": "markdown",
   "metadata": {},
   "source": [
    "Most of the imports are needed for building the PyTorch model. Only the last three\n",
    "imports are for Ray Tune.\n",
    "\n",
    "Data loaders\n",
    "------------\n",
    "We wrap the data loaders in their own function and pass a global data directory.\n",
    "This way we can share a data directory between different trials.\n",
    "\n"
   ]
  },
  {
   "cell_type": "code",
   "execution_count": 17,
   "metadata": {
    "collapsed": false
   },
   "outputs": [],
   "source": [
    "def load_data(data_dir=\"./data\"):\n",
    "    transform = transforms.Compose([\n",
    "        transforms.ToTensor(),\n",
    "        transforms.Normalize((0.5, 0.5, 0.5), (0.5, 0.5, 0.5))\n",
    "    ])\n",
    "\n",
    "    trainset = torchvision.datasets.CIFAR10(\n",
    "        root=data_dir, train=True, download=True, transform=transform)\n",
    "\n",
    "    testset = torchvision.datasets.CIFAR10(\n",
    "        root=data_dir, train=False, download=True, transform=transform)\n",
    "\n",
    "    return trainset, testset"
   ]
  },
  {
   "cell_type": "markdown",
   "metadata": {},
   "source": [
    "Configurable neural network\n",
    "---------------------------\n",
    "We can only tune those parameters that are configurable. In this example, we can specify\n",
    "the layer sizes of the fully connected layers:\n",
    "\n"
   ]
  },
  {
   "cell_type": "code",
   "execution_count": 18,
   "metadata": {
    "collapsed": false
   },
   "outputs": [],
   "source": [
    "class Net(nn.Module):\n",
    "    def __init__(self, l1=120, l2=84):\n",
    "        super(Net, self).__init__()\n",
    "        self.conv1 = nn.Conv2d(3, 6, 5)\n",
    "        self.pool = nn.MaxPool2d(2, 2)\n",
    "        self.conv2 = nn.Conv2d(6, 16, 5)\n",
    "        self.fc1 = nn.Linear(16 * 5 * 5, l1)\n",
    "        self.fc2 = nn.Linear(l1, l2)\n",
    "        self.fc3 = nn.Linear(l2, 10)\n",
    "\n",
    "    def forward(self, x):\n",
    "        x = self.pool(F.relu(self.conv1(x)))\n",
    "        x = self.pool(F.relu(self.conv2(x)))\n",
    "        x = x.view(-1, 16 * 5 * 5)\n",
    "        x = F.relu(self.fc1(x))\n",
    "        x = F.relu(self.fc2(x))\n",
    "        x = self.fc3(x)\n",
    "        return x"
   ]
  },
  {
   "cell_type": "markdown",
   "metadata": {},
   "source": [
    "The train function\n",
    "------------------\n",
    "Now it gets interesting, because we introduce some changes to the example `from the PyTorch\n",
    "documentation <https://pytorch.org/tutorials/beginner/blitz/cifar10_tutorial.html>`_.\n",
    "\n",
    "We wrap the training script in a function ``train_cifar(config, checkpoint_dir=None, data_dir=None)``.\n",
    "As you can guess, the ``config`` parameter will receive the hyperparameters we would like to\n",
    "train with. The ``checkpoint_dir`` parameter is used to restore checkpoints. The ``data_dir`` specifies\n",
    "the directory where we load and store the data, so multiple runs can share the same data source.\n",
    "\n",
    ".. code-block:: python\n",
    "\n",
    "    net = Net(config[\"l1\"], config[\"l2\"])\n",
    "\n",
    "    if checkpoint_dir:\n",
    "        model_state, optimizer_state = torch.load(\n",
    "            os.path.join(checkpoint_dir, \"checkpoint\"))\n",
    "        net.load_state_dict(model_state)\n",
    "        optimizer.load_state_dict(optimizer_state)\n",
    "\n",
    "The learning rate of the optimizer is made configurable, too:\n",
    "\n",
    ".. code-block:: python\n",
    "\n",
    "    optimizer = optim.SGD(net.parameters(), lr=config[\"lr\"], momentum=0.9)\n",
    "\n",
    "We also split the training data into a training and validation subset. We thus train on\n",
    "80% of the data and calculate the validation loss on the remaining 20%. The batch sizes\n",
    "with which we iterate through the training and test sets are configurable as well.\n",
    "\n",
    "Adding (multi) GPU support with DataParallel\n",
    "~~~~~~~~~~~~~~~~~~~~~~~~~~~~~~~~~~~~~~~~~~~~\n",
    "Image classification benefits largely from GPUs. Luckily, we can continue to use\n",
    "PyTorch's abstractions in Ray Tune. Thus, we can wrap our model in ``nn.DataParallel``\n",
    "to support data parallel training on multiple GPUs:\n",
    "\n",
    ".. code-block:: python\n",
    "\n",
    "    device = \"cpu\"\n",
    "    if torch.cuda.is_available():\n",
    "        device = \"cuda:0\"\n",
    "        if torch.cuda.device_count() > 1:\n",
    "            net = nn.DataParallel(net)\n",
    "    net.to(device)\n",
    "\n",
    "By using a ``device`` variable we make sure that training also works when we have\n",
    "no GPUs available. PyTorch requires us to send our data to the GPU memory explicitly,\n",
    "like this:\n",
    "\n",
    ".. code-block:: python\n",
    "\n",
    "    for i, data in enumerate(trainloader, 0):\n",
    "        inputs, labels = data\n",
    "        inputs, labels = inputs.to(device), labels.to(device)\n",
    "\n",
    "The code now supports training on CPUs, on a single GPU, and on multiple GPUs. Notably, Ray\n",
    "also supports `fractional GPUs <https://docs.ray.io/en/master/using-ray-with-gpus.html#fractional-gpus>`_\n",
    "so we can share GPUs among trials, as long as the model still fits on the GPU memory. We'll come back\n",
    "to that later.\n",
    "\n",
    "Communicating with Ray Tune\n",
    "~~~~~~~~~~~~~~~~~~~~~~~~~~~\n",
    "\n",
    "The most interesting part is the communication with Ray Tune:\n",
    "\n",
    ".. code-block:: python\n",
    "\n",
    "    with tune.checkpoint_dir(epoch) as checkpoint_dir:\n",
    "        path = os.path.join(checkpoint_dir, \"checkpoint\")\n",
    "        torch.save((net.state_dict(), optimizer.state_dict()), path)\n",
    "\n",
    "    tune.report(loss=(val_loss / val_steps), accuracy=correct / total)\n",
    "\n",
    "Here we first save a checkpoint and then report some metrics back to Ray Tune. Specifically,\n",
    "we send the validation loss and accuracy back to Ray Tune. Ray Tune can then use these metrics\n",
    "to decide which hyperparameter configuration lead to the best results. These metrics\n",
    "can also be used to stop bad performing trials early in order to avoid wasting\n",
    "resources on those trials.\n",
    "\n",
    "The checkpoint saving is optional, however, it is necessary if we wanted to use advanced\n",
    "schedulers like\n",
    "`Population Based Training <https://docs.ray.io/en/master/tune/tutorials/tune-advanced-tutorial.html>`_.\n",
    "Also, by saving the checkpoint we can later load the trained models and validate them\n",
    "on a test set.\n",
    "\n",
    "Full training function\n",
    "~~~~~~~~~~~~~~~~~~~~~~\n",
    "\n",
    "The full code example looks like this:\n",
    "\n"
   ]
  },
  {
   "cell_type": "code",
   "execution_count": 20,
   "metadata": {
    "collapsed": false
   },
   "outputs": [
    {
     "ename": "RuntimeError",
     "evalue": "Error(s) in loading state_dict for Net:\n\tMissing key(s) in state_dict: \"conv1.weight\", \"conv1.bias\", \"conv2.weight\", \"conv2.bias\", \"fc3.weight\", \"fc3.bias\". \n\tUnexpected key(s) in state_dict: \"output.weight\", \"output.bias\". \n\tsize mismatch for fc1.weight: copying a param with shape torch.Size([126, 126]) from checkpoint, the shape in current model is torch.Size([126, 400]).",
     "output_type": "error",
     "traceback": [
      "\u001B[0;31m---------------------------------------------------------------------------\u001B[0m",
      "\u001B[0;31mRuntimeError\u001B[0m                              Traceback (most recent call last)",
      "\u001B[0;32m<ipython-input-20-506616984d54>\u001B[0m in \u001B[0;36m<module>\u001B[0;34m\u001B[0m\n\u001B[1;32m     91\u001B[0m     \u001B[0;34m\"batch_size\"\u001B[0m\u001B[0;34m:\u001B[0m \u001B[0;36m16\u001B[0m\u001B[0;34m\u001B[0m\u001B[0;34m\u001B[0m\u001B[0m\n\u001B[1;32m     92\u001B[0m }\n\u001B[0;32m---> 93\u001B[0;31m \u001B[0mtrain_cifar\u001B[0m\u001B[0;34m(\u001B[0m\u001B[0mconfig\u001B[0m\u001B[0;34m,\u001B[0m\u001B[0mcheckpoint_dir\u001B[0m\u001B[0;34m=\u001B[0m\u001B[0;34m\"./\"\u001B[0m\u001B[0;34m,\u001B[0m\u001B[0mdata_dir\u001B[0m\u001B[0;34m=\u001B[0m\u001B[0;34m\"./data\"\u001B[0m\u001B[0;34m)\u001B[0m\u001B[0;34m\u001B[0m\u001B[0;34m\u001B[0m\u001B[0m\n\u001B[0m",
      "\u001B[0;32m<ipython-input-20-506616984d54>\u001B[0m in \u001B[0;36mtrain_cifar\u001B[0;34m(config, checkpoint_dir, data_dir)\u001B[0m\n\u001B[1;32m     15\u001B[0m         model_state, optimizer_state = torch.load(\n\u001B[1;32m     16\u001B[0m             os.path.join(checkpoint_dir, \"checkpoint\"))\n\u001B[0;32m---> 17\u001B[0;31m         \u001B[0mnet\u001B[0m\u001B[0;34m.\u001B[0m\u001B[0mload_state_dict\u001B[0m\u001B[0;34m(\u001B[0m\u001B[0mmodel_state\u001B[0m\u001B[0;34m)\u001B[0m\u001B[0;34m\u001B[0m\u001B[0;34m\u001B[0m\u001B[0m\n\u001B[0m\u001B[1;32m     18\u001B[0m         \u001B[0moptimizer\u001B[0m\u001B[0;34m.\u001B[0m\u001B[0mload_state_dict\u001B[0m\u001B[0;34m(\u001B[0m\u001B[0moptimizer_state\u001B[0m\u001B[0;34m)\u001B[0m\u001B[0;34m\u001B[0m\u001B[0;34m\u001B[0m\u001B[0m\n\u001B[1;32m     19\u001B[0m \u001B[0;34m\u001B[0m\u001B[0m\n",
      "\u001B[0;32m~/Storage/HomeDir/Learning/spectrometer_nn/train_new/venv/lib/python3.8/site-packages/torch/nn/modules/module.py\u001B[0m in \u001B[0;36mload_state_dict\u001B[0;34m(self, state_dict, strict)\u001B[0m\n\u001B[1;32m   1221\u001B[0m \u001B[0;34m\u001B[0m\u001B[0m\n\u001B[1;32m   1222\u001B[0m         \u001B[0;32mif\u001B[0m \u001B[0mlen\u001B[0m\u001B[0;34m(\u001B[0m\u001B[0merror_msgs\u001B[0m\u001B[0;34m)\u001B[0m \u001B[0;34m>\u001B[0m \u001B[0;36m0\u001B[0m\u001B[0;34m:\u001B[0m\u001B[0;34m\u001B[0m\u001B[0;34m\u001B[0m\u001B[0m\n\u001B[0;32m-> 1223\u001B[0;31m             raise RuntimeError('Error(s) in loading state_dict for {}:\\n\\t{}'.format(\n\u001B[0m\u001B[1;32m   1224\u001B[0m                                self.__class__.__name__, \"\\n\\t\".join(error_msgs)))\n\u001B[1;32m   1225\u001B[0m         \u001B[0;32mreturn\u001B[0m \u001B[0m_IncompatibleKeys\u001B[0m\u001B[0;34m(\u001B[0m\u001B[0mmissing_keys\u001B[0m\u001B[0;34m,\u001B[0m \u001B[0munexpected_keys\u001B[0m\u001B[0;34m)\u001B[0m\u001B[0;34m\u001B[0m\u001B[0;34m\u001B[0m\u001B[0m\n",
      "\u001B[0;31mRuntimeError\u001B[0m: Error(s) in loading state_dict for Net:\n\tMissing key(s) in state_dict: \"conv1.weight\", \"conv1.bias\", \"conv2.weight\", \"conv2.bias\", \"fc3.weight\", \"fc3.bias\". \n\tUnexpected key(s) in state_dict: \"output.weight\", \"output.bias\". \n\tsize mismatch for fc1.weight: copying a param with shape torch.Size([126, 126]) from checkpoint, the shape in current model is torch.Size([126, 400])."
     ]
    }
   ],
   "source": [
    "def train_cifar(config, checkpoint_dir=None, data_dir=None):\n",
    "    net = Net(config[\"l1\"], config[\"l2\"])\n",
    "\n",
    "    device = \"cpu\"\n",
    "    if torch.cuda.is_available():\n",
    "        device = \"cuda:0\"\n",
    "        if torch.cuda.device_count() > 1:\n",
    "            net = nn.DataParallel(net)\n",
    "    net.to(device)\n",
    "\n",
    "    criterion = nn.CrossEntropyLoss()\n",
    "    optimizer = optim.SGD(net.parameters(), lr=config[\"lr\"], momentum=0.9)\n",
    "\n",
    "    if checkpoint_dir:\n",
    "        model_state, optimizer_state = torch.load(\n",
    "            os.path.join(checkpoint_dir, \"checkpoint\"))\n",
    "        net.load_state_dict(model_state)\n",
    "        optimizer.load_state_dict(optimizer_state)\n",
    "\n",
    "    trainset, testset = load_data(data_dir)\n",
    "\n",
    "    test_abs = int(len(trainset) * 0.8)\n",
    "    train_subset, val_subset = random_split(\n",
    "        trainset, [test_abs, len(trainset) - test_abs])\n",
    "\n",
    "    trainloader = torch.utils.data.DataLoader(\n",
    "        train_subset,\n",
    "        batch_size=int(config[\"batch_size\"]),\n",
    "        shuffle=True,\n",
    "        num_workers=8)\n",
    "    valloader = torch.utils.data.DataLoader(\n",
    "        val_subset,\n",
    "        batch_size=int(config[\"batch_size\"]),\n",
    "        shuffle=True,\n",
    "        num_workers=8)\n",
    "\n",
    "    for epoch in range(10):  # loop over the dataset multiple times\n",
    "        running_loss = 0.0\n",
    "        epoch_steps = 0\n",
    "        for i, data in enumerate(trainloader, 0):\n",
    "            # get the inputs; data is a list of [inputs, labels]\n",
    "            inputs, labels = data\n",
    "            inputs, labels = inputs.to(device), labels.to(device)\n",
    "\n",
    "            # zero the parameter gradients\n",
    "            optimizer.zero_grad()\n",
    "\n",
    "            # forward + backward + optimize\n",
    "            outputs = net(inputs)\n",
    "            loss = criterion(outputs, labels)\n",
    "            loss.backward()\n",
    "            optimizer.step()\n",
    "\n",
    "            # print statistics\n",
    "            running_loss += loss.item()\n",
    "            epoch_steps += 1\n",
    "            if i % 2000 == 1999:  # print every 2000 mini-batches\n",
    "                print(\"[%d, %5d] loss: %.3f\" % (epoch + 1, i + 1,\n",
    "                                                running_loss / epoch_steps))\n",
    "                running_loss = 0.0\n",
    "\n",
    "        # Validation loss\n",
    "        val_loss = 0.0\n",
    "        val_steps = 0\n",
    "        total = 0\n",
    "        correct = 0\n",
    "        for i, data in enumerate(valloader, 0):\n",
    "            with torch.no_grad():\n",
    "                inputs, labels = data\n",
    "                inputs, labels = inputs.to(device), labels.to(device)\n",
    "\n",
    "                outputs = net(inputs)\n",
    "                _, predicted = torch.max(outputs.data, 1)\n",
    "                total += labels.size(0)\n",
    "                correct += (predicted == labels).sum().item()\n",
    "\n",
    "                loss = criterion(outputs, labels)\n",
    "                val_loss += loss.cpu().numpy()\n",
    "                val_steps += 1\n",
    "\n",
    "        with tune.checkpoint_dir(epoch) as checkpoint_dir:\n",
    "            path = os.path.join(checkpoint_dir, \"checkpoint\")\n",
    "            torch.save((net.state_dict(), optimizer.state_dict()), path)\n",
    "\n",
    "        tune.report(loss=(val_loss / val_steps), accuracy=correct / total)\n",
    "    print(\"Finished Training\")"
   ]
  },
  {
   "cell_type": "markdown",
   "metadata": {},
   "source": [
    "As you can see, most of the code is adapted directly from the original example.\n\nTest set accuracy\n-----------------\nCommonly the performance of a machine learning model is tested on a hold-out test\nset with data that has not been used for training the model. We also wrap this in a\nfunction:\n\n"
   ]
  },
  {
   "cell_type": "code",
   "execution_count": null,
   "metadata": {
    "collapsed": false
   },
   "outputs": [],
   "source": [
    "def test_accuracy(net, device=\"cpu\"):\n    trainset, testset = load_data()\n\n    testloader = torch.utils.data.DataLoader(\n        testset, batch_size=4, shuffle=False, num_workers=2)\n\n    correct = 0\n    total = 0\n    with torch.no_grad():\n        for data in testloader:\n            images, labels = data\n            images, labels = images.to(device), labels.to(device)\n            outputs = net(images)\n            _, predicted = torch.max(outputs.data, 1)\n            total += labels.size(0)\n            correct += (predicted == labels).sum().item()\n\n    return correct / total"
   ]
  },
  {
   "cell_type": "markdown",
   "metadata": {},
   "source": [
    "The function also expects a ``device`` parameter, so we can do the\ntest set validation on a GPU.\n\nConfiguring the search space\n----------------------------\nLastly, we need to define Ray Tune's search space. Here is an example:\n\n.. code-block:: python\n\n    config = {\n        \"l1\": tune.sample_from(lambda _: 2**np.random.randint(2, 9)),\n        \"l2\": tune.sample_from(lambda _: 2**np.random.randint(2, 9)),\n        \"lr\": tune.loguniform(1e-4, 1e-1),\n        \"batch_size\": tune.choice([2, 4, 8, 16])\n    }\n\nThe ``tune.sample_from()`` function makes it possible to define your own sample\nmethods to obtain hyperparameters. In this example, the ``l1`` and ``l2`` parameters\nshould be powers of 2 between 4 and 256, so either 4, 8, 16, 32, 64, 128, or 256.\nThe ``lr`` (learning rate) should be uniformly sampled between 0.0001 and 0.1. Lastly,\nthe batch size is a choice between 2, 4, 8, and 16.\n\nAt each trial, Ray Tune will now randomly sample a combination of parameters from these\nsearch spaces. It will then train a number of models in parallel and find the best\nperforming one among these. We also use the ``ASHAScheduler`` which will terminate bad\nperforming trials early.\n\nWe wrap the ``train_cifar`` function with ``functools.partial`` to set the constant\n``data_dir`` parameter. We can also tell Ray Tune what resources should be\navailable for each trial:\n\n.. code-block:: python\n\n    gpus_per_trial = 2\n    # ...\n    result = tune.run(\n        partial(train_cifar, data_dir=data_dir),\n        resources_per_trial={\"cpu\": 8, \"gpu\": gpus_per_trial},\n        config=config,\n        num_samples=num_samples,\n        scheduler=scheduler,\n        progress_reporter=reporter,\n        checkpoint_at_end=True)\n\nYou can specify the number of CPUs, which are then available e.g.\nto increase the ``num_workers`` of the PyTorch ``DataLoader`` instances. The selected\nnumber of GPUs are made visible to PyTorch in each trial. Trials do not have access to\nGPUs that haven't been requested for them - so you don't have to care about two trials\nusing the same set of resources.\n\nHere we can also specify fractional GPUs, so something like ``gpus_per_trial=0.5`` is\ncompletely valid. The trials will then share GPUs among each other.\nYou just have to make sure that the models still fit in the GPU memory.\n\nAfter training the models, we will find the best performing one and load the trained\nnetwork from the checkpoint file. We then obtain the test set accuracy and report\neverything by printing.\n\nThe full main function looks like this:\n\n"
   ]
  },
  {
   "cell_type": "code",
   "execution_count": null,
   "metadata": {
    "collapsed": false
   },
   "outputs": [
    {
     "name": "stdout",
     "output_type": "stream",
     "text": [
      "\u001B[2m\u001B[36m(pid=17013)\u001B[0m [1,  2000] loss: 2.301\n",
      "\u001B[2m\u001B[36m(pid=21040)\u001B[0m [1,  2000] loss: 2.269\n",
      "\u001B[2m\u001B[36m(pid=21041)\u001B[0m [1,  2000] loss: 2.341\n",
      "\u001B[2m\u001B[36m(pid=21043)\u001B[0m [1,  2000] loss: 2.304\n",
      "\u001B[2m\u001B[36m(pid=17013)\u001B[0m [1,  4000] loss: 1.133\n",
      "\u001B[2m\u001B[36m(pid=21040)\u001B[0m [1,  4000] loss: 1.007\n",
      "\u001B[2m\u001B[36m(pid=21041)\u001B[0m [1,  4000] loss: 1.172\n",
      "\u001B[2m\u001B[36m(pid=17013)\u001B[0m [1,  6000] loss: 0.701\n",
      "\u001B[2m\u001B[36m(pid=21040)\u001B[0m [1,  6000] loss: 0.608\n",
      "\u001B[2m\u001B[36m(pid=21041)\u001B[0m [1,  6000] loss: 0.782\n",
      "\u001B[2m\u001B[36m(pid=17013)\u001B[0m [1,  8000] loss: 0.509\n",
      "\u001B[2m\u001B[36m(pid=21040)\u001B[0m [1,  8000] loss: 0.441\n",
      "\u001B[2m\u001B[36m(pid=21041)\u001B[0m [1,  8000] loss: 0.586\n",
      "\u001B[2m\u001B[36m(pid=17013)\u001B[0m [1, 10000] loss: 0.392\n",
      "\u001B[2m\u001B[36m(pid=21040)\u001B[0m [1, 10000] loss: 0.331\n",
      "\u001B[2m\u001B[36m(pid=17013)\u001B[0m [1, 12000] loss: 0.313\n",
      "\u001B[2m\u001B[36m(pid=21040)\u001B[0m [1, 12000] loss: 0.280\n",
      "\u001B[2m\u001B[36m(pid=21041)\u001B[0m [1, 10000] loss: 0.469\n",
      "\u001B[2m\u001B[36m(pid=17013)\u001B[0m [1, 14000] loss: 0.261\n",
      "\u001B[2m\u001B[36m(pid=21040)\u001B[0m [1, 14000] loss: 0.233\n",
      "\u001B[2m\u001B[36m(pid=17013)\u001B[0m [1, 16000] loss: 0.220\n",
      "\u001B[2m\u001B[36m(pid=21040)\u001B[0m [1, 16000] loss: 0.197\n",
      "\u001B[2m\u001B[36m(pid=17013)\u001B[0m [1, 18000] loss: 0.194\n",
      "\u001B[2m\u001B[36m(pid=21040)\u001B[0m [1, 18000] loss: 0.168\n"
     ]
    }
   ],
   "source": [
    "def main(num_samples=10, max_num_epochs=10, gpus_per_trial=2):\n    data_dir = os.path.abspath(\"./data\")\n    load_data(data_dir)\n    config = {\n        \"l1\": tune.sample_from(lambda _: 2 ** np.random.randint(2, 9)),\n        \"l2\": tune.sample_from(lambda _: 2 ** np.random.randint(2, 9)),\n        \"lr\": tune.loguniform(1e-4, 1e-1),\n        \"batch_size\": tune.choice([2, 4, 8, 16])\n    }\n    scheduler = ASHAScheduler(\n        metric=\"loss\",\n        mode=\"min\",\n        max_t=max_num_epochs,\n        grace_period=1,\n        reduction_factor=2)\n    reporter = CLIReporter(\n        # parameter_columns=[\"l1\", \"l2\", \"lr\", \"batch_size\"],\n        metric_columns=[\"loss\", \"accuracy\", \"training_iteration\"])\n    result = tune.run(\n        partial(train_cifar, data_dir=data_dir),\n        resources_per_trial={\"cpu\": 2, \"gpu\": gpus_per_trial},\n        config=config,\n        num_samples=num_samples,\n        scheduler=scheduler,\n        progress_reporter=reporter)\n\n    best_trial = result.get_best_trial(\"loss\", \"min\", \"last\")\n    print(\"Best trial config: {}\".format(best_trial.config))\n    print(\"Best trial final validation loss: {}\".format(\n        best_trial.last_result[\"loss\"]))\n    print(\"Best trial final validation accuracy: {}\".format(\n        best_trial.last_result[\"accuracy\"]))\n\n    best_trained_model = Net(best_trial.config[\"l1\"], best_trial.config[\"l2\"])\n    device = \"cpu\"\n    if torch.cuda.is_available():\n        device = \"cuda:0\"\n        if gpus_per_trial > 1:\n            best_trained_model = nn.DataParallel(best_trained_model)\n    best_trained_model.to(device)\n\n    best_checkpoint_dir = best_trial.checkpoint.value\n    model_state, optimizer_state = torch.load(os.path.join(\n        best_checkpoint_dir, \"checkpoint\"))\n    best_trained_model.load_state_dict(model_state)\n\n    test_acc = test_accuracy(best_trained_model, device)\n    print(\"Best trial test set accuracy: {}\".format(test_acc))\n\n\nif __name__ == \"__main__\":\n    # You can change the number of GPUs per trial here:\n    main(num_samples=10, max_num_epochs=10, gpus_per_trial=0)"
   ]
  },
  {
   "cell_type": "markdown",
   "metadata": {},
   "source": [
    "If you run the code, an example output could look like this:\n\n.. code-block::\n\n    Number of trials: 10 (10 TERMINATED)\n    +-----+------+------+-------------+--------------+---------+------------+--------------------+\n    | ... |   l1 |   l2 |          lr |   batch_size |    loss |   accuracy | training_iteration |\n    |-----+------+------+-------------+--------------+---------+------------+--------------------|\n    | ... |   64 |    4 | 0.00011629  |            2 | 1.87273 |     0.244  |                  2 |\n    | ... |   32 |   64 | 0.000339763 |            8 | 1.23603 |     0.567  |                  8 |\n    | ... |    8 |   16 | 0.00276249  |           16 | 1.1815  |     0.5836 |                 10 |\n    | ... |    4 |   64 | 0.000648721 |            4 | 1.31131 |     0.5224 |                  8 |\n    | ... |   32 |   16 | 0.000340753 |            8 | 1.26454 |     0.5444 |                  8 |\n    | ... |    8 |    4 | 0.000699775 |            8 | 1.99594 |     0.1983 |                  2 |\n    | ... |  256 |    8 | 0.0839654   |           16 | 2.3119  |     0.0993 |                  1 |\n    | ... |   16 |  128 | 0.0758154   |           16 | 2.33575 |     0.1327 |                  1 |\n    | ... |   16 |    8 | 0.0763312   |           16 | 2.31129 |     0.1042 |                  4 |\n    | ... |  128 |   16 | 0.000124903 |            4 | 2.26917 |     0.1945 |                  1 |\n    +-----+------+------+-------------+--------------+---------+------------+--------------------+\n\n\n    Best trial config: {'l1': 8, 'l2': 16, 'lr': 0.00276249, 'batch_size': 16, 'data_dir': '...'}\n    Best trial final validation loss: 1.181501\n    Best trial final validation accuracy: 0.5836\n    Best trial test set accuracy: 0.5806\n\nMost trials have been stopped early in order to avoid wasting resources.\nThe best performing trial achieved a validation accuracy of about 58%, which could\nbe confirmed on the test set.\n\nSo that's it! You can now tune the parameters of your PyTorch models.\n\n"
   ]
  }
 ],
 "metadata": {
  "kernelspec": {
   "display_name": "Python 3",
   "language": "python",
   "name": "python3"
  },
  "language_info": {
   "codemirror_mode": {
    "name": "ipython",
    "version": 3
   },
   "file_extension": ".py",
   "mimetype": "text/x-python",
   "name": "python",
   "nbconvert_exporter": "python",
   "pygments_lexer": "ipython3",
   "version": "3.6.12"
  }
 },
 "nbformat": 4,
 "nbformat_minor": 0
}