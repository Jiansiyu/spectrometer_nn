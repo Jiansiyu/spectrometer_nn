{
 "cells": [
  {
   "cell_type": "markdown",
   "source": [
    "# HRS Spectrometer Neural Network Model\n",
    "- [ ] add auto feature detection\n",
    "- [ ] auto generate the data"
   ],
   "metadata": {
    "collapsed": false
   }
  },
  {
   "cell_type": "code",
   "execution_count": 10,
   "outputs": [],
   "source": [
    "import  pandas as pd\n",
    "import numpy as np\n",
    "import sklearn\n",
    "import math\n",
    "import matplotlib\n",
    "%matplotlib inline\n",
    "import urllib"
   ],
   "metadata": {
    "collapsed": false,
    "pycharm": {
     "name": "#%%\n"
    }
   }
  },
  {
   "cell_type": "markdown",
   "source": [
    "## Prepare the data\n",
    "| dataset | Coord | Intro                                                                                    | baseDir                                                                       |\n",
    "| ------- | ----- | ---------------------------------------------------------------------------------------- | ----------------------------------------------------------------------------- |\n",
    "| 1       | focal | \\- focal plane coord<br>\\- only x,y,theta,phi<br>\\- used for Deep Neural Network | [http://216.197.71.44/Data/spectro_nn/focalPlane/EqEvt731/](http://216.197.71.44/Data/spectro_nn/focalPlane/EqEvt731/order0/) |\n",
    "| 2       | det plane | \\- detector plane coord<br>\\- used for Deep Neural Network<br>\\- **equal** event number | [http://216.197.71.44/Data/spectro_nn/DetPlane/EqEvt731/](http://localhost/Data/spectro_nn/DetPlane/EqEvt731/) |\n",
    "| 3       | det plane | \\- detector plane coord<br>\\- used for Deep Neural Network<br>\\- **Unequal** event number | [http://216.197.71.44/Data/spectro_nn/DetPlane/UnEqEvt731/](http://localhost/Data/spectro_nn/DetPlane/UnEqEvt731/) |\n",
    "\n",
    "- **Two type of dataset**\n",
    "Only x,y,theta,phi : PRex_DataSet_xxx.csv\n",
    "All the combinations: PRex_DataSet_Ful_xxx.csv\n",
    "### 1). Load the files"
   ],
   "metadata": {
    "collapsed": false
   }
  },
  {
   "cell_type": "code",
   "execution_count": 11,
   "outputs": [
    {
     "name": "stdout",
     "output_type": "stream",
     "text": [
      "Loading the file http://localhost/Data/spectro_nn/focalPlane/Equal/EqEvt731/order7_ep5/PRex_DataSet_Full_2239.csv...\n",
      "Loading the file http://localhost/Data/spectro_nn/focalPlane/Equal/EqEvt731/order7_ep5/PRex_DataSet_Full_2240.csv...\n",
      "Loading the file http://localhost/Data/spectro_nn/focalPlane/Equal/EqEvt731/order7_ep5/PRex_DataSet_Full_2241.csv...\n",
      "Loading the file http://localhost/Data/spectro_nn/focalPlane/Equal/EqEvt731/order7_ep5/PRex_DataSet_Full_2244.csv...\n",
      "Loading the file http://localhost/Data/spectro_nn/focalPlane/Equal/EqEvt731/order7_ep5/PRex_DataSet_Full_2245.csv...\n",
      "Loading the file http://localhost/Data/spectro_nn/focalPlane/Equal/EqEvt731/order7_ep5/PRex_DataSet_Full_2256.csv...\n",
      "Loading the file http://localhost/Data/spectro_nn/focalPlane/Equal/EqEvt731/order7_ep5/PRex_DataSet_Full_2257.csv...\n"
     ]
    },
    {
     "data": {
      "text/plain": "   evtID  runID  CutID  SieveRowID  SieveColID      bpmX      bpmY  \\\n0      0   2239    136           3           5  0.003794 -0.000501   \n1      1   2239    130           4           4  0.003794 -0.000501   \n2      2   2239    179           4          11  0.003794 -0.000501   \n3      3   2239    142           2           6  0.003794 -0.000501   \n4      4   2239    127           1           4  0.003794 -0.000501   \n\n   x0th0y0ph0  x0th0y0ph1  x0th0y0ph2  ...    x5th0y0ph2    x5th0y1ph0  \\\n0           1   -0.001618    0.000003  ... -1.697790e-15 -7.178800e-12   \n1           1   -0.009000    0.000081  ... -1.256750e-12 -1.320960e-10   \n2           1    0.014969    0.000224  ... -1.176280e-13  7.695500e-12   \n3           1    0.001385    0.000002  ... -2.741670e-16 -4.317140e-13   \n4           1   -0.004135    0.000017  ... -8.401650e-19 -5.949410e-16   \n\n     x5th0y1ph1    x5th0y2ph0    x5th1y0ph0    x5th1y0ph1    x5th1y1ph0  \\\n0  1.161370e-14 -7.944340e-14 -3.578030e-13  5.788460e-16 -3.959590e-15   \n1  1.188850e-12 -1.124610e-12  1.040980e-10 -9.368730e-13  8.862530e-13   \n2  1.151930e-13 -1.128090e-13  3.379450e-12  5.058660e-14 -4.953960e-14   \n3 -5.979890e-16 -1.304280e-15 -7.994270e-13 -1.107330e-15 -2.415200e-15   \n4  2.460070e-18 -7.203310e-18 -3.169040e-16  1.310390e-18 -3.836950e-18   \n\n     x5th2y0ph0  targCalTh  targCalPh  \n0 -1.973520e-16  -0.000817  -0.010117  \n1 -6.984120e-13   0.019571  -0.012569  \n2 -2.175510e-14   0.012775   0.014835  \n3 -4.472350e-15  -0.014409  -0.003863  \n4 -2.043810e-18  -0.021206  -0.012569  \n\n[5 rows x 319 columns]",
      "text/html": "<div>\n<style scoped>\n    .dataframe tbody tr th:only-of-type {\n        vertical-align: middle;\n    }\n\n    .dataframe tbody tr th {\n        vertical-align: top;\n    }\n\n    .dataframe thead th {\n        text-align: right;\n    }\n</style>\n<table border=\"1\" class=\"dataframe\">\n  <thead>\n    <tr style=\"text-align: right;\">\n      <th></th>\n      <th>evtID</th>\n      <th>runID</th>\n      <th>CutID</th>\n      <th>SieveRowID</th>\n      <th>SieveColID</th>\n      <th>bpmX</th>\n      <th>bpmY</th>\n      <th>x0th0y0ph0</th>\n      <th>x0th0y0ph1</th>\n      <th>x0th0y0ph2</th>\n      <th>...</th>\n      <th>x5th0y0ph2</th>\n      <th>x5th0y1ph0</th>\n      <th>x5th0y1ph1</th>\n      <th>x5th0y2ph0</th>\n      <th>x5th1y0ph0</th>\n      <th>x5th1y0ph1</th>\n      <th>x5th1y1ph0</th>\n      <th>x5th2y0ph0</th>\n      <th>targCalTh</th>\n      <th>targCalPh</th>\n    </tr>\n  </thead>\n  <tbody>\n    <tr>\n      <th>0</th>\n      <td>0</td>\n      <td>2239</td>\n      <td>136</td>\n      <td>3</td>\n      <td>5</td>\n      <td>0.003794</td>\n      <td>-0.000501</td>\n      <td>1</td>\n      <td>-0.001618</td>\n      <td>0.000003</td>\n      <td>...</td>\n      <td>-1.697790e-15</td>\n      <td>-7.178800e-12</td>\n      <td>1.161370e-14</td>\n      <td>-7.944340e-14</td>\n      <td>-3.578030e-13</td>\n      <td>5.788460e-16</td>\n      <td>-3.959590e-15</td>\n      <td>-1.973520e-16</td>\n      <td>-0.000817</td>\n      <td>-0.010117</td>\n    </tr>\n    <tr>\n      <th>1</th>\n      <td>1</td>\n      <td>2239</td>\n      <td>130</td>\n      <td>4</td>\n      <td>4</td>\n      <td>0.003794</td>\n      <td>-0.000501</td>\n      <td>1</td>\n      <td>-0.009000</td>\n      <td>0.000081</td>\n      <td>...</td>\n      <td>-1.256750e-12</td>\n      <td>-1.320960e-10</td>\n      <td>1.188850e-12</td>\n      <td>-1.124610e-12</td>\n      <td>1.040980e-10</td>\n      <td>-9.368730e-13</td>\n      <td>8.862530e-13</td>\n      <td>-6.984120e-13</td>\n      <td>0.019571</td>\n      <td>-0.012569</td>\n    </tr>\n    <tr>\n      <th>2</th>\n      <td>2</td>\n      <td>2239</td>\n      <td>179</td>\n      <td>4</td>\n      <td>11</td>\n      <td>0.003794</td>\n      <td>-0.000501</td>\n      <td>1</td>\n      <td>0.014969</td>\n      <td>0.000224</td>\n      <td>...</td>\n      <td>-1.176280e-13</td>\n      <td>7.695500e-12</td>\n      <td>1.151930e-13</td>\n      <td>-1.128090e-13</td>\n      <td>3.379450e-12</td>\n      <td>5.058660e-14</td>\n      <td>-4.953960e-14</td>\n      <td>-2.175510e-14</td>\n      <td>0.012775</td>\n      <td>0.014835</td>\n    </tr>\n    <tr>\n      <th>3</th>\n      <td>3</td>\n      <td>2239</td>\n      <td>142</td>\n      <td>2</td>\n      <td>6</td>\n      <td>0.003794</td>\n      <td>-0.000501</td>\n      <td>1</td>\n      <td>0.001385</td>\n      <td>0.000002</td>\n      <td>...</td>\n      <td>-2.741670e-16</td>\n      <td>-4.317140e-13</td>\n      <td>-5.979890e-16</td>\n      <td>-1.304280e-15</td>\n      <td>-7.994270e-13</td>\n      <td>-1.107330e-15</td>\n      <td>-2.415200e-15</td>\n      <td>-4.472350e-15</td>\n      <td>-0.014409</td>\n      <td>-0.003863</td>\n    </tr>\n    <tr>\n      <th>4</th>\n      <td>4</td>\n      <td>2239</td>\n      <td>127</td>\n      <td>1</td>\n      <td>4</td>\n      <td>0.003794</td>\n      <td>-0.000501</td>\n      <td>1</td>\n      <td>-0.004135</td>\n      <td>0.000017</td>\n      <td>...</td>\n      <td>-8.401650e-19</td>\n      <td>-5.949410e-16</td>\n      <td>2.460070e-18</td>\n      <td>-7.203310e-18</td>\n      <td>-3.169040e-16</td>\n      <td>1.310390e-18</td>\n      <td>-3.836950e-18</td>\n      <td>-2.043810e-18</td>\n      <td>-0.021206</td>\n      <td>-0.012569</td>\n    </tr>\n  </tbody>\n</table>\n<p>5 rows × 319 columns</p>\n</div>"
     },
     "execution_count": 11,
     "metadata": {},
     "output_type": "execute_result"
    }
   ],
   "source": [
    "dataSouceBaseDir = \"http://localhost/Data/spectro_nn/focalPlane/Equal/EqEvt731/order7_ep5\"\n",
    "\n",
    "files = [\"{}/PRex_DataSet_Full_2239.csv\".format(dataSouceBaseDir),\n",
    "         \"{}/PRex_DataSet_Full_2240.csv\".format(dataSouceBaseDir),\n",
    "         \"{}/PRex_DataSet_Full_2241.csv\".format(dataSouceBaseDir),\n",
    "         \"{}/PRex_DataSet_Full_2244.csv\".format(dataSouceBaseDir),\n",
    "         \"{}/PRex_DataSet_Full_2245.csv\".format(dataSouceBaseDir),\n",
    "         \"{}/PRex_DataSet_Full_2256.csv\".format(dataSouceBaseDir),\n",
    "         \"{}/PRex_DataSet_Full_2257.csv\".format(dataSouceBaseDir)\n",
    "         ]\n",
    "\n",
    "li = []\n",
    "\n",
    "for filename in files:\n",
    "    print(\"Loading the file {}...\".format(filename))\n",
    "    df = pd.read_csv(filename)\n",
    "    li.append(df)\n",
    "data = pd.concat(li)\n",
    "data.sample(frac=1) # sample the data with fraction 1. rearrange the data in random order\n",
    "data.head()"
   ],
   "metadata": {
    "collapsed": false,
    "pycharm": {
     "name": "#%%\n"
    }
   }
  },
  {
   "cell_type": "markdown",
   "source": [
    "### 2). Check the Theoretical Value of $\\theta$ and $\\phi$ on targe"
   ],
   "metadata": {
    "collapsed": false
   }
  },
  {
   "cell_type": "code",
   "execution_count": 12,
   "outputs": [
    {
     "data": {
      "text/plain": "<Figure size 1080x1080 with 7 Axes>",
      "image/png": "[encoded data removed]"
     },
     "metadata": {
      "needs_background": "light"
     },
     "output_type": "display_data"
    }
   ],
   "source": [
    "import matplotlib.pyplot as plt\n",
    "import matplotlib.gridspec as gridspec\n",
    "\n",
    "fig = plt.figure(figsize=[15,15])\n",
    "gs = gridspec.GridSpec(nrows=3, ncols=3, height_ratios=[1, 1, 1])\n",
    "\n",
    "ax0 = fig.add_subplot(gs[0, 0])\n",
    "ax0.scatter(data[data.runID.eq(2239)][\"targCalPh\"],data[data.runID.eq(2239)][\"targCalTh\"])\n",
    "ax0.set_title('Theoretical Value 2239')\n",
    "\n",
    "ax1 = fig.add_subplot(gs[0, 1])\n",
    "ax1.scatter(data[data.runID.eq(2240)][\"targCalPh\"],data[data.runID.eq(2240)][\"targCalTh\"])\n",
    "ax1.set_title('Theoretical Value 2240')\n",
    "\n",
    "ax2 = fig.add_subplot(gs[0, 2])\n",
    "ax2.scatter(data[data.runID.eq(2241)][\"targCalPh\"],data[data.runID.eq(2241)][\"targCalTh\"])\n",
    "ax2.set_title('Theoretical Value 2241')\n",
    "\n",
    "ax3 = fig.add_subplot(gs[1, 0])\n",
    "ax3.scatter(data[data.runID.eq(2244)][\"targCalPh\"],data[data.runID.eq(2244)][\"targCalTh\"])\n",
    "ax3.set_title('Theoretical Value 2244')\n",
    "\n",
    "ax4 = fig.add_subplot(gs[1, 1])\n",
    "ax4.scatter(data[data.runID.eq(2245)][\"targCalPh\"],data[data.runID.eq(2245)][\"targCalTh\"])\n",
    "ax4.set_title('Theoretical Value 2245')\n",
    "\n",
    "ax5 = fig.add_subplot(gs[1, 2])\n",
    "ax5.scatter(data[data.runID.eq(2256)][\"targCalPh\"],data[data.runID.eq(2256)][\"targCalTh\"])\n",
    "ax5.set_title('Theoretical Value 2256')\n",
    "\n",
    "ax6 = fig.add_subplot(gs[2, 0])\n",
    "ax6.scatter(data[data.runID.eq(2257)][\"targCalPh\"],data[data.runID.eq(2257)][\"targCalTh\"])\n",
    "ax6.set_title('Theoretical Value 2257')\n",
    "\n",
    "plt.tight_layout()\n",
    "plt.show()"
   ],
   "metadata": {
    "collapsed": false,
    "pycharm": {
     "name": "#%%\n"
    }
   }
  },
  {
   "cell_type": "markdown",
   "source": [
    "### 3). Pre-process the data"
   ],
   "metadata": {
    "collapsed": false
   }
  },
  {
   "cell_type": "code",
   "execution_count": 13,
   "outputs": [],
   "source": [
    "from sklearn.model_selection import train_test_split\n",
    "from torch.utils.data import  Dataset, TensorDataset, DataLoader\n",
    "import torch\n",
    "\n",
    "\n",
    "train_X, test_X, train_y, test_y = train_test_split(\n",
    "    data.drop(labels=['evtID','runID','SieveRowID','SieveColID','CutID','bpmX','bpmY','targCalTh','targCalPh'], axis=1),\n",
    "    data[['targCalTh','targCalPh']],\n",
    "    test_size=0.2,\n",
    "    random_state=0)\n",
    "\n",
    "batchSize = 1\n",
    "\n",
    "train_X_tensor = torch.tensor(train_X.to_numpy()).float()\n",
    "train_yTh_tensor = torch.tensor(train_y['targCalTh'].to_numpy()).float()\n",
    "train_yPh_tensor = torch.tensor(train_y['targCalPh'].to_numpy()).float()\n",
    "\n",
    "test_X_tensor  = torch.tensor(test_X.to_numpy()).float()\n",
    "test_yTh_tensor  = torch.tensor(test_y['targCalTh'].to_numpy()).float()\n",
    "test_yPh_tensor  = torch.tensor(test_y['targCalPh'].to_numpy()).float()\n",
    "\n",
    "train_theta_loader = DataLoader(dataset=TensorDataset(train_X_tensor,train_yTh_tensor),batch_size=batchSize)\n",
    "train_phi_loader   = DataLoader(dataset=TensorDataset(train_X_tensor,train_yPh_tensor),batch_size=batchSize)\n",
    "\n",
    "test_theta_loader = DataLoader(dataset=TensorDataset(test_X_tensor,test_yTh_tensor),batch_size=batchSize)\n",
    "test_phi_loader   = DataLoader(dataset=TensorDataset(test_X_tensor,test_yPh_tensor),batch_size=batchSize)\n",
    "\n",
    "n_feature = train_X.shape[1]"
   ],
   "metadata": {
    "collapsed": false,
    "pycharm": {
     "name": "#%%\n"
    }
   }
  },
  {
   "cell_type": "markdown",
   "source": [
    "## Build the model and Get the GPUs"
   ],
   "metadata": {
    "collapsed": false,
    "pycharm": {
     "name": "#%% md\n"
    }
   }
  },
  {
   "cell_type": "code",
   "execution_count": 14,
   "outputs": [],
   "source": [
    "import torch\n",
    "import torch.nn as nn\n",
    "import torch.nn.functional as F\n",
    "\n",
    "class OptNet(nn.Module):\n",
    "    def __init__(self):\n",
    "        super(OptNet,self).__init__()\n",
    "        #TODO model, need to auto adapt to the training dataset\n",
    "        self.fc1 = nn.Linear(n_feature, n_feature)  # 6*6 from image dimension\n",
    "        self.output = nn.Linear(n_feature, 1)\n",
    "\n",
    "    def forward(self, x):\n",
    "        x = F.sigmoid(self.fc1(x))\n",
    "        x = self.output(x)\n",
    "        return x\n",
    "\n",
    "class OptNetTh(nn.Module):\n",
    "    def __init__(self):\n",
    "        super(OptNetTh,self).__init__()\n",
    "        #TODO model, need to auto adapt to the training dataset\n",
    "        self.fc1 = nn.Linear(n_feature, n_feature)  # 6*6 from image dimension\n",
    "        self.output = nn.Linear(n_feature, 1)\n",
    "\n",
    "    def forward(self, x):\n",
    "        x = F.sigmoid(self.fc1(x))\n",
    "        x = self.output(x)\n",
    "        return x\n",
    "\n",
    "class OptNetPh(nn.Module):\n",
    "    def __init__(self):\n",
    "        super(OptNetPh,self).__init__()\n",
    "        #TODO model, need to auto adapt to the training dataset\n",
    "        self.fc1 = nn.Linear(n_feature, n_feature)  # 6*6 from image dimension\n",
    "        self.output = nn.Linear(n_feature, 1)\n",
    "\n",
    "    def forward(self, x):\n",
    "        x = F.sigmoid(self.fc1(x))\n",
    "        x = self.output(x)\n",
    "        return x\n"
   ],
   "metadata": {
    "collapsed": false,
    "pycharm": {
     "name": "#%%\n"
    }
   }
  },
  {
   "cell_type": "markdown",
   "source": [
    "## Train the model"
   ],
   "metadata": {
    "collapsed": false,
    "pycharm": {
     "name": "#%% md\n"
    }
   }
  }
 ],
 "metadata": {
  "kernelspec": {
   "display_name": "Python 3",
   "language": "python",
   "name": "python3"
  },
  "language_info": {
   "codemirror_mode": {
    "name": "ipython",
    "version": 2
   },
   "file_extension": ".py",
   "mimetype": "text/x-python",
   "name": "python",
   "nbconvert_exporter": "python",
   "pygments_lexer": "ipython2",
   "version": "2.7.6"
  }
 },
 "nbformat": 4,
 "nbformat_minor": 0
}