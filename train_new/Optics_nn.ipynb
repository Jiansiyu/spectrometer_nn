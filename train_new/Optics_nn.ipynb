{
 "cells": [
  {
   "cell_type": "markdown",
   "metadata": {
    "pycharm": {
     "name": "#%% md\n"
    }
   },
   "source": [
    "# HRS Spectrometer Neural Network Model"
   ]
  },
  {
   "cell_type": "code",
   "execution_count": 1,
   "metadata": {},
   "outputs": [],
   "source": [
    "import  pandas as pd\n",
    "import numpy as np\n",
    "import sklearn\n",
    "import math\n",
    "import matplotlib\n",
    "%matplotlib inline\n",
    "import urllib\n",
    "import os\n",
    "from ray import tune\n",
    "from ray.tune import CLIReporter\n",
    "from ray.tune.schedulers import ASHAScheduler"
   ]
  },
  {
   "cell_type": "markdown",
   "metadata": {
    "pycharm": {
     "is_executing": true,
     "name": "#%% md\n"
    }
   },
   "source": [
    "## Prepare the data\n",
    "| dataset | Coord | Intro                                                                                    | baseDir                                                                       |\n",
    "| ------- | ----- | ---------------------------------------------------------------------------------------- | ----------------------------------------------------------------------------- |\n",
    "| 1       | focal | \\- focal plane coord<br>\\- only x,y,theta,phi<br>\\- used for Deep Neural Network | [http://216.197.71.44/Data/spectro_nn/focalPlane/EqEvt731/](http://216.197.71.44/Data/spectro_nn/focalPlane/EqEvt731/order0/) |\n",
    "| 2       | det plane | \\- detector plane coord<br>\\- used for Deep Neural Network<br>\\- **equal** event number | [http://216.197.71.44/Data/spectro_nn/DetPlane/EqEvt731/](http://localhost/Data/spectro_nn/DetPlane/EqEvt731/) |\n",
    "| 3       | det plane | \\- detector plane coord<br>\\- used for Deep Neural Network<br>\\- **Unequal** event number | [http://216.197.71.44/Data/spectro_nn/DetPlane/UnEqEvt731/](http://localhost/Data/spectro_nn/DetPlane/UnEqEvt731/) |\n",
    "\n",
    "- **Two type of dataset**\n",
    "Only x,y,theta,phi : PRex_DataSet_xxx.csv\n",
    "All the combinations: PRex_DataSet_Ful_xxx.csv\n",
    "### 1). Load the files"
   ]
  },
  {
   "cell_type": "code",
   "execution_count": 2,
   "metadata": {
    "pycharm": {
     "name": "#%%\n"
    }
   },
   "outputs": [
    {
     "name": "stdout",
     "output_type": "stream",
     "text": [
      "Loading the file http://localhost/Data/spectro_nn/DetPlane/UnEqEvt731/order5//PRex_DataSet_Full_2239.csv...\n",
      "Loading the file http://localhost/Data/spectro_nn/DetPlane/UnEqEvt731/order5//PRex_DataSet_Full_2240.csv...\n",
      "Loading the file http://localhost/Data/spectro_nn/DetPlane/UnEqEvt731/order5//PRex_DataSet_Full_2241.csv...\n",
      "Loading the file http://localhost/Data/spectro_nn/DetPlane/UnEqEvt731/order5//PRex_DataSet_Full_2244.csv...\n",
      "Loading the file http://localhost/Data/spectro_nn/DetPlane/UnEqEvt731/order5//PRex_DataSet_Full_2245.csv...\n",
      "Loading the file http://localhost/Data/spectro_nn/DetPlane/UnEqEvt731/order5//PRex_DataSet_Full_2256.csv...\n",
      "Loading the file http://localhost/Data/spectro_nn/DetPlane/UnEqEvt731/order5//PRex_DataSet_Full_2257.csv...\n"
     ]
    },
    {
     "data": {
      "text/plain": "   evtID  runID  CutID  SieveRowID  SieveColID      bpmX      bpmY  \\\n0      0   2239    136           3           5  0.003794 -0.000501   \n1      1   2239    130           4           4  0.003794 -0.000501   \n2      2   2239    179           4          11  0.003794 -0.000501   \n3      3   2239    142           2           6  0.003794 -0.000501   \n4      4   2239    127           1           4  0.003794 -0.000501   \n\n   x0th0y0ph0  x0th0y0ph1  x0th0y0ph2  ...    x3th1y0ph1    x3th1y1ph0  \\\n0           1   -0.013557    0.000184  ...  1.164170e-07  7.365750e-09   \n1           1   -0.024061    0.000579  ...  1.323900e-06  1.839250e-07   \n2           1    0.009713    0.000094  ... -7.098270e-08  1.959050e-07   \n3           1   -0.009250    0.000086  ...  3.297410e-08  3.171490e-08   \n4           1   -0.016968    0.000288  ...  5.112200e-10 -9.458820e-12   \n\n     x3th2y0ph0    x4th0y0ph0    x4th0y0ph1    x4th0y1ph0    x4th1y0ph0  \\\n0 -8.548320e-06  1.769140e-07 -2.398430e-09 -1.517500e-10  1.761130e-07   \n1 -5.374350e-05  2.159530e-06 -5.195960e-08 -7.218600e-09  2.109290e-06   \n2 -7.175640e-06  1.453270e-07  1.411530e-09 -3.895670e-09  1.426910e-07   \n3 -3.589400e-06  5.395920e-08 -4.991170e-10 -4.800570e-10  5.433150e-08   \n4 -3.047970e-08  9.231640e-11 -1.566400e-12  2.898220e-14  9.339090e-11   \n\n     x5th0y0ph0  targCalTh  targCalPh  \n0 -3.628280e-09  -0.000817  -0.010117  \n1 -8.278450e-08   0.019571  -0.012569  \n2 -2.837480e-09   0.012775   0.014835  \n3 -8.223970e-10  -0.014409  -0.003863  \n4 -2.861530e-13  -0.021206  -0.012569  \n\n[5 rows x 135 columns]",
      "text/html": "<div>\n<style scoped>\n    .dataframe tbody tr th:only-of-type {\n        vertical-align: middle;\n    }\n\n    .dataframe tbody tr th {\n        vertical-align: top;\n    }\n\n    .dataframe thead th {\n        text-align: right;\n    }\n</style>\n<table border=\"1\" class=\"dataframe\">\n  <thead>\n    <tr style=\"text-align: right;\">\n      <th></th>\n      <th>evtID</th>\n      <th>runID</th>\n      <th>CutID</th>\n      <th>SieveRowID</th>\n      <th>SieveColID</th>\n      <th>bpmX</th>\n      <th>bpmY</th>\n      <th>x0th0y0ph0</th>\n      <th>x0th0y0ph1</th>\n      <th>x0th0y0ph2</th>\n      <th>...</th>\n      <th>x3th1y0ph1</th>\n      <th>x3th1y1ph0</th>\n      <th>x3th2y0ph0</th>\n      <th>x4th0y0ph0</th>\n      <th>x4th0y0ph1</th>\n      <th>x4th0y1ph0</th>\n      <th>x4th1y0ph0</th>\n      <th>x5th0y0ph0</th>\n      <th>targCalTh</th>\n      <th>targCalPh</th>\n    </tr>\n  </thead>\n  <tbody>\n    <tr>\n      <th>0</th>\n      <td>0</td>\n      <td>2239</td>\n      <td>136</td>\n      <td>3</td>\n      <td>5</td>\n      <td>0.003794</td>\n      <td>-0.000501</td>\n      <td>1</td>\n      <td>-0.013557</td>\n      <td>0.000184</td>\n      <td>...</td>\n      <td>1.164170e-07</td>\n      <td>7.365750e-09</td>\n      <td>-8.548320e-06</td>\n      <td>1.769140e-07</td>\n      <td>-2.398430e-09</td>\n      <td>-1.517500e-10</td>\n      <td>1.761130e-07</td>\n      <td>-3.628280e-09</td>\n      <td>-0.000817</td>\n      <td>-0.010117</td>\n    </tr>\n    <tr>\n      <th>1</th>\n      <td>1</td>\n      <td>2239</td>\n      <td>130</td>\n      <td>4</td>\n      <td>4</td>\n      <td>0.003794</td>\n      <td>-0.000501</td>\n      <td>1</td>\n      <td>-0.024061</td>\n      <td>0.000579</td>\n      <td>...</td>\n      <td>1.323900e-06</td>\n      <td>1.839250e-07</td>\n      <td>-5.374350e-05</td>\n      <td>2.159530e-06</td>\n      <td>-5.195960e-08</td>\n      <td>-7.218600e-09</td>\n      <td>2.109290e-06</td>\n      <td>-8.278450e-08</td>\n      <td>0.019571</td>\n      <td>-0.012569</td>\n    </tr>\n    <tr>\n      <th>2</th>\n      <td>2</td>\n      <td>2239</td>\n      <td>179</td>\n      <td>4</td>\n      <td>11</td>\n      <td>0.003794</td>\n      <td>-0.000501</td>\n      <td>1</td>\n      <td>0.009713</td>\n      <td>0.000094</td>\n      <td>...</td>\n      <td>-7.098270e-08</td>\n      <td>1.959050e-07</td>\n      <td>-7.175640e-06</td>\n      <td>1.453270e-07</td>\n      <td>1.411530e-09</td>\n      <td>-3.895670e-09</td>\n      <td>1.426910e-07</td>\n      <td>-2.837480e-09</td>\n      <td>0.012775</td>\n      <td>0.014835</td>\n    </tr>\n    <tr>\n      <th>3</th>\n      <td>3</td>\n      <td>2239</td>\n      <td>142</td>\n      <td>2</td>\n      <td>6</td>\n      <td>0.003794</td>\n      <td>-0.000501</td>\n      <td>1</td>\n      <td>-0.009250</td>\n      <td>0.000086</td>\n      <td>...</td>\n      <td>3.297410e-08</td>\n      <td>3.171490e-08</td>\n      <td>-3.589400e-06</td>\n      <td>5.395920e-08</td>\n      <td>-4.991170e-10</td>\n      <td>-4.800570e-10</td>\n      <td>5.433150e-08</td>\n      <td>-8.223970e-10</td>\n      <td>-0.014409</td>\n      <td>-0.003863</td>\n    </tr>\n    <tr>\n      <th>4</th>\n      <td>4</td>\n      <td>2239</td>\n      <td>127</td>\n      <td>1</td>\n      <td>4</td>\n      <td>0.003794</td>\n      <td>-0.000501</td>\n      <td>1</td>\n      <td>-0.016968</td>\n      <td>0.000288</td>\n      <td>...</td>\n      <td>5.112200e-10</td>\n      <td>-9.458820e-12</td>\n      <td>-3.047970e-08</td>\n      <td>9.231640e-11</td>\n      <td>-1.566400e-12</td>\n      <td>2.898220e-14</td>\n      <td>9.339090e-11</td>\n      <td>-2.861530e-13</td>\n      <td>-0.021206</td>\n      <td>-0.012569</td>\n    </tr>\n  </tbody>\n</table>\n<p>5 rows × 135 columns</p>\n</div>"
     },
     "execution_count": 2,
     "metadata": {},
     "output_type": "execute_result"
    }
   ],
   "source": [
    "dataSouceBaseDir = \"http://localhost/Data/spectro_nn/DetPlane/UnEqEvt731/order5/\"\n",
    "\n",
    "if urllib.request.urlopen(dataSouceBaseDir).getcode() !=200:\n",
    "    dataSouceBaseDir = \"http://216.197.71.44/Data/spectro_nn/DetPlane/EqEvt731/order5\"\n",
    "\n",
    "\n",
    "files = [\"{}/PRex_DataSet_Full_2239.csv\".format(dataSouceBaseDir),\n",
    "         \"{}/PRex_DataSet_Full_2240.csv\".format(dataSouceBaseDir),\n",
    "         \"{}/PRex_DataSet_Full_2241.csv\".format(dataSouceBaseDir),\n",
    "         \"{}/PRex_DataSet_Full_2244.csv\".format(dataSouceBaseDir),\n",
    "         \"{}/PRex_DataSet_Full_2245.csv\".format(dataSouceBaseDir),\n",
    "         \"{}/PRex_DataSet_Full_2256.csv\".format(dataSouceBaseDir),\n",
    "         \"{}/PRex_DataSet_Full_2257.csv\".format(dataSouceBaseDir)\n",
    "         ]\n",
    "\n",
    "li = []\n",
    "\n",
    "for filename in files:\n",
    "    print(\"Loading the file {}...\".format(filename))\n",
    "    df = pd.read_csv(filename)\n",
    "    li.append(df)\n",
    "data = pd.concat(li)\n",
    "data.sample(frac=1) # sample the data with fraction 1. rearrange the data in random order\n",
    "data.head()"
   ]
  },
  {
   "cell_type": "markdown",
   "metadata": {
    "pycharm": {
     "name": "#%% md\n"
    }
   },
   "source": [
    "### 2). Check the Theoretical Value of $\\theta$ and $\\phi$ on targe"
   ]
  },
  {
   "cell_type": "code",
   "execution_count": 3,
   "metadata": {
    "pycharm": {
     "name": "#%%\n"
    }
   },
   "outputs": [
    {
     "ename": "KeyboardInterrupt",
     "evalue": "",
     "output_type": "error",
     "traceback": [
      "\u001B[0;31m---------------------------------------------------------------------------\u001B[0m",
      "\u001B[0;31mKeyboardInterrupt\u001B[0m                         Traceback (most recent call last)",
      "\u001B[0;32m<ipython-input-3-ed3cf94141ce>\u001B[0m in \u001B[0;36m<module>\u001B[0;34m\u001B[0m\n\u001B[1;32m     34\u001B[0m \u001B[0;34m\u001B[0m\u001B[0m\n\u001B[1;32m     35\u001B[0m \u001B[0mplt\u001B[0m\u001B[0;34m.\u001B[0m\u001B[0mtight_layout\u001B[0m\u001B[0;34m(\u001B[0m\u001B[0;34m)\u001B[0m\u001B[0;34m\u001B[0m\u001B[0;34m\u001B[0m\u001B[0m\n\u001B[0;32m---> 36\u001B[0;31m \u001B[0mplt\u001B[0m\u001B[0;34m.\u001B[0m\u001B[0mshow\u001B[0m\u001B[0;34m(\u001B[0m\u001B[0;34m)\u001B[0m\u001B[0;34m\u001B[0m\u001B[0;34m\u001B[0m\u001B[0m\n\u001B[0m\u001B[1;32m     37\u001B[0m \u001B[0;34m\u001B[0m\u001B[0m\n",
      "\u001B[0;32m~/Storage/HomeDir/Learning/spectrometer_nn/train_new/venv/lib/python3.8/site-packages/matplotlib/pyplot.py\u001B[0m in \u001B[0;36mshow\u001B[0;34m(*args, **kwargs)\u001B[0m\n\u001B[1;32m    351\u001B[0m     \"\"\"\n\u001B[1;32m    352\u001B[0m     \u001B[0m_warn_if_gui_out_of_main_thread\u001B[0m\u001B[0;34m(\u001B[0m\u001B[0;34m)\u001B[0m\u001B[0;34m\u001B[0m\u001B[0;34m\u001B[0m\u001B[0m\n\u001B[0;32m--> 353\u001B[0;31m     \u001B[0;32mreturn\u001B[0m \u001B[0m_backend_mod\u001B[0m\u001B[0;34m.\u001B[0m\u001B[0mshow\u001B[0m\u001B[0;34m(\u001B[0m\u001B[0;34m*\u001B[0m\u001B[0margs\u001B[0m\u001B[0;34m,\u001B[0m \u001B[0;34m**\u001B[0m\u001B[0mkwargs\u001B[0m\u001B[0;34m)\u001B[0m\u001B[0;34m\u001B[0m\u001B[0;34m\u001B[0m\u001B[0m\n\u001B[0m\u001B[1;32m    354\u001B[0m \u001B[0;34m\u001B[0m\u001B[0m\n\u001B[1;32m    355\u001B[0m \u001B[0;34m\u001B[0m\u001B[0m\n",
      "\u001B[0;32m~/Storage/HomeDir/Learning/spectrometer_nn/train_new/venv/lib/python3.8/site-packages/ipykernel/pylab/backend_inline.py\u001B[0m in \u001B[0;36mshow\u001B[0;34m(close, block)\u001B[0m\n\u001B[1;32m     38\u001B[0m     \u001B[0;32mtry\u001B[0m\u001B[0;34m:\u001B[0m\u001B[0;34m\u001B[0m\u001B[0;34m\u001B[0m\u001B[0m\n\u001B[1;32m     39\u001B[0m         \u001B[0;32mfor\u001B[0m \u001B[0mfigure_manager\u001B[0m \u001B[0;32min\u001B[0m \u001B[0mGcf\u001B[0m\u001B[0;34m.\u001B[0m\u001B[0mget_all_fig_managers\u001B[0m\u001B[0;34m(\u001B[0m\u001B[0;34m)\u001B[0m\u001B[0;34m:\u001B[0m\u001B[0;34m\u001B[0m\u001B[0;34m\u001B[0m\u001B[0m\n\u001B[0;32m---> 40\u001B[0;31m             display(\n\u001B[0m\u001B[1;32m     41\u001B[0m                 \u001B[0mfigure_manager\u001B[0m\u001B[0;34m.\u001B[0m\u001B[0mcanvas\u001B[0m\u001B[0;34m.\u001B[0m\u001B[0mfigure\u001B[0m\u001B[0;34m,\u001B[0m\u001B[0;34m\u001B[0m\u001B[0;34m\u001B[0m\u001B[0m\n\u001B[1;32m     42\u001B[0m                 \u001B[0mmetadata\u001B[0m\u001B[0;34m=\u001B[0m\u001B[0m_fetch_figure_metadata\u001B[0m\u001B[0;34m(\u001B[0m\u001B[0mfigure_manager\u001B[0m\u001B[0;34m.\u001B[0m\u001B[0mcanvas\u001B[0m\u001B[0;34m.\u001B[0m\u001B[0mfigure\u001B[0m\u001B[0;34m)\u001B[0m\u001B[0;34m\u001B[0m\u001B[0;34m\u001B[0m\u001B[0m\n",
      "\u001B[0;32m~/Storage/HomeDir/Learning/spectrometer_nn/train_new/venv/lib/python3.8/site-packages/IPython/core/display.py\u001B[0m in \u001B[0;36mdisplay\u001B[0;34m(include, exclude, metadata, transient, display_id, *objs, **kwargs)\u001B[0m\n\u001B[1;32m    311\u001B[0m             \u001B[0mpublish_display_data\u001B[0m\u001B[0;34m(\u001B[0m\u001B[0mdata\u001B[0m\u001B[0;34m=\u001B[0m\u001B[0mobj\u001B[0m\u001B[0;34m,\u001B[0m \u001B[0mmetadata\u001B[0m\u001B[0;34m=\u001B[0m\u001B[0mmetadata\u001B[0m\u001B[0;34m,\u001B[0m \u001B[0;34m**\u001B[0m\u001B[0mkwargs\u001B[0m\u001B[0;34m)\u001B[0m\u001B[0;34m\u001B[0m\u001B[0;34m\u001B[0m\u001B[0m\n\u001B[1;32m    312\u001B[0m         \u001B[0;32melse\u001B[0m\u001B[0;34m:\u001B[0m\u001B[0;34m\u001B[0m\u001B[0;34m\u001B[0m\u001B[0m\n\u001B[0;32m--> 313\u001B[0;31m             \u001B[0mformat_dict\u001B[0m\u001B[0;34m,\u001B[0m \u001B[0mmd_dict\u001B[0m \u001B[0;34m=\u001B[0m \u001B[0mformat\u001B[0m\u001B[0;34m(\u001B[0m\u001B[0mobj\u001B[0m\u001B[0;34m,\u001B[0m \u001B[0minclude\u001B[0m\u001B[0;34m=\u001B[0m\u001B[0minclude\u001B[0m\u001B[0;34m,\u001B[0m \u001B[0mexclude\u001B[0m\u001B[0;34m=\u001B[0m\u001B[0mexclude\u001B[0m\u001B[0;34m)\u001B[0m\u001B[0;34m\u001B[0m\u001B[0;34m\u001B[0m\u001B[0m\n\u001B[0m\u001B[1;32m    314\u001B[0m             \u001B[0;32mif\u001B[0m \u001B[0;32mnot\u001B[0m \u001B[0mformat_dict\u001B[0m\u001B[0;34m:\u001B[0m\u001B[0;34m\u001B[0m\u001B[0;34m\u001B[0m\u001B[0m\n\u001B[1;32m    315\u001B[0m                 \u001B[0;31m# nothing to display (e.g. _ipython_display_ took over)\u001B[0m\u001B[0;34m\u001B[0m\u001B[0;34m\u001B[0m\u001B[0;34m\u001B[0m\u001B[0m\n",
      "\u001B[0;32m~/Storage/HomeDir/Learning/spectrometer_nn/train_new/venv/lib/python3.8/site-packages/IPython/core/formatters.py\u001B[0m in \u001B[0;36mformat\u001B[0;34m(self, obj, include, exclude)\u001B[0m\n\u001B[1;32m    178\u001B[0m             \u001B[0mmd\u001B[0m \u001B[0;34m=\u001B[0m \u001B[0;32mNone\u001B[0m\u001B[0;34m\u001B[0m\u001B[0;34m\u001B[0m\u001B[0m\n\u001B[1;32m    179\u001B[0m             \u001B[0;32mtry\u001B[0m\u001B[0;34m:\u001B[0m\u001B[0;34m\u001B[0m\u001B[0;34m\u001B[0m\u001B[0m\n\u001B[0;32m--> 180\u001B[0;31m                 \u001B[0mdata\u001B[0m \u001B[0;34m=\u001B[0m \u001B[0mformatter\u001B[0m\u001B[0;34m(\u001B[0m\u001B[0mobj\u001B[0m\u001B[0;34m)\u001B[0m\u001B[0;34m\u001B[0m\u001B[0;34m\u001B[0m\u001B[0m\n\u001B[0m\u001B[1;32m    181\u001B[0m             \u001B[0;32mexcept\u001B[0m\u001B[0;34m:\u001B[0m\u001B[0;34m\u001B[0m\u001B[0;34m\u001B[0m\u001B[0m\n\u001B[1;32m    182\u001B[0m                 \u001B[0;31m# FIXME: log the exception\u001B[0m\u001B[0;34m\u001B[0m\u001B[0;34m\u001B[0m\u001B[0;34m\u001B[0m\u001B[0m\n",
      "\u001B[0;32m<decorator-gen-2>\u001B[0m in \u001B[0;36m__call__\u001B[0;34m(self, obj)\u001B[0m\n",
      "\u001B[0;32m~/Storage/HomeDir/Learning/spectrometer_nn/train_new/venv/lib/python3.8/site-packages/IPython/core/formatters.py\u001B[0m in \u001B[0;36mcatch_format_error\u001B[0;34m(method, self, *args, **kwargs)\u001B[0m\n\u001B[1;32m    222\u001B[0m     \u001B[0;34m\"\"\"show traceback on failed format call\"\"\"\u001B[0m\u001B[0;34m\u001B[0m\u001B[0;34m\u001B[0m\u001B[0m\n\u001B[1;32m    223\u001B[0m     \u001B[0;32mtry\u001B[0m\u001B[0;34m:\u001B[0m\u001B[0;34m\u001B[0m\u001B[0;34m\u001B[0m\u001B[0m\n\u001B[0;32m--> 224\u001B[0;31m         \u001B[0mr\u001B[0m \u001B[0;34m=\u001B[0m \u001B[0mmethod\u001B[0m\u001B[0;34m(\u001B[0m\u001B[0mself\u001B[0m\u001B[0;34m,\u001B[0m \u001B[0;34m*\u001B[0m\u001B[0margs\u001B[0m\u001B[0;34m,\u001B[0m \u001B[0;34m**\u001B[0m\u001B[0mkwargs\u001B[0m\u001B[0;34m)\u001B[0m\u001B[0;34m\u001B[0m\u001B[0;34m\u001B[0m\u001B[0m\n\u001B[0m\u001B[1;32m    225\u001B[0m     \u001B[0;32mexcept\u001B[0m \u001B[0mNotImplementedError\u001B[0m\u001B[0;34m:\u001B[0m\u001B[0;34m\u001B[0m\u001B[0;34m\u001B[0m\u001B[0m\n\u001B[1;32m    226\u001B[0m         \u001B[0;31m# don't warn on NotImplementedErrors\u001B[0m\u001B[0;34m\u001B[0m\u001B[0;34m\u001B[0m\u001B[0;34m\u001B[0m\u001B[0m\n",
      "\u001B[0;32m~/Storage/HomeDir/Learning/spectrometer_nn/train_new/venv/lib/python3.8/site-packages/IPython/core/formatters.py\u001B[0m in \u001B[0;36m__call__\u001B[0;34m(self, obj)\u001B[0m\n\u001B[1;32m    339\u001B[0m                 \u001B[0;32mpass\u001B[0m\u001B[0;34m\u001B[0m\u001B[0;34m\u001B[0m\u001B[0m\n\u001B[1;32m    340\u001B[0m             \u001B[0;32melse\u001B[0m\u001B[0;34m:\u001B[0m\u001B[0;34m\u001B[0m\u001B[0;34m\u001B[0m\u001B[0m\n\u001B[0;32m--> 341\u001B[0;31m                 \u001B[0;32mreturn\u001B[0m \u001B[0mprinter\u001B[0m\u001B[0;34m(\u001B[0m\u001B[0mobj\u001B[0m\u001B[0;34m)\u001B[0m\u001B[0;34m\u001B[0m\u001B[0;34m\u001B[0m\u001B[0m\n\u001B[0m\u001B[1;32m    342\u001B[0m             \u001B[0;31m# Finally look for special method names\u001B[0m\u001B[0;34m\u001B[0m\u001B[0;34m\u001B[0m\u001B[0;34m\u001B[0m\u001B[0m\n\u001B[1;32m    343\u001B[0m             \u001B[0mmethod\u001B[0m \u001B[0;34m=\u001B[0m \u001B[0mget_real_method\u001B[0m\u001B[0;34m(\u001B[0m\u001B[0mobj\u001B[0m\u001B[0;34m,\u001B[0m \u001B[0mself\u001B[0m\u001B[0;34m.\u001B[0m\u001B[0mprint_method\u001B[0m\u001B[0;34m)\u001B[0m\u001B[0;34m\u001B[0m\u001B[0;34m\u001B[0m\u001B[0m\n",
      "\u001B[0;32m~/Storage/HomeDir/Learning/spectrometer_nn/train_new/venv/lib/python3.8/site-packages/IPython/core/pylabtools.py\u001B[0m in \u001B[0;36m<lambda>\u001B[0;34m(fig)\u001B[0m\n\u001B[1;32m    246\u001B[0m \u001B[0;34m\u001B[0m\u001B[0m\n\u001B[1;32m    247\u001B[0m     \u001B[0;32mif\u001B[0m \u001B[0;34m'png'\u001B[0m \u001B[0;32min\u001B[0m \u001B[0mformats\u001B[0m\u001B[0;34m:\u001B[0m\u001B[0;34m\u001B[0m\u001B[0;34m\u001B[0m\u001B[0m\n\u001B[0;32m--> 248\u001B[0;31m         \u001B[0mpng_formatter\u001B[0m\u001B[0;34m.\u001B[0m\u001B[0mfor_type\u001B[0m\u001B[0;34m(\u001B[0m\u001B[0mFigure\u001B[0m\u001B[0;34m,\u001B[0m \u001B[0;32mlambda\u001B[0m \u001B[0mfig\u001B[0m\u001B[0;34m:\u001B[0m \u001B[0mprint_figure\u001B[0m\u001B[0;34m(\u001B[0m\u001B[0mfig\u001B[0m\u001B[0;34m,\u001B[0m \u001B[0;34m'png'\u001B[0m\u001B[0;34m,\u001B[0m \u001B[0;34m**\u001B[0m\u001B[0mkwargs\u001B[0m\u001B[0;34m)\u001B[0m\u001B[0;34m)\u001B[0m\u001B[0;34m\u001B[0m\u001B[0;34m\u001B[0m\u001B[0m\n\u001B[0m\u001B[1;32m    249\u001B[0m     \u001B[0;32mif\u001B[0m \u001B[0;34m'retina'\u001B[0m \u001B[0;32min\u001B[0m \u001B[0mformats\u001B[0m \u001B[0;32mor\u001B[0m \u001B[0;34m'png2x'\u001B[0m \u001B[0;32min\u001B[0m \u001B[0mformats\u001B[0m\u001B[0;34m:\u001B[0m\u001B[0;34m\u001B[0m\u001B[0;34m\u001B[0m\u001B[0m\n\u001B[1;32m    250\u001B[0m         \u001B[0mpng_formatter\u001B[0m\u001B[0;34m.\u001B[0m\u001B[0mfor_type\u001B[0m\u001B[0;34m(\u001B[0m\u001B[0mFigure\u001B[0m\u001B[0;34m,\u001B[0m \u001B[0;32mlambda\u001B[0m \u001B[0mfig\u001B[0m\u001B[0;34m:\u001B[0m \u001B[0mretina_figure\u001B[0m\u001B[0;34m(\u001B[0m\u001B[0mfig\u001B[0m\u001B[0;34m,\u001B[0m \u001B[0;34m**\u001B[0m\u001B[0mkwargs\u001B[0m\u001B[0;34m)\u001B[0m\u001B[0;34m)\u001B[0m\u001B[0;34m\u001B[0m\u001B[0;34m\u001B[0m\u001B[0m\n",
      "\u001B[0;32m~/Storage/HomeDir/Learning/spectrometer_nn/train_new/venv/lib/python3.8/site-packages/IPython/core/pylabtools.py\u001B[0m in \u001B[0;36mprint_figure\u001B[0;34m(fig, fmt, bbox_inches, **kwargs)\u001B[0m\n\u001B[1;32m    130\u001B[0m         \u001B[0mFigureCanvasBase\u001B[0m\u001B[0;34m(\u001B[0m\u001B[0mfig\u001B[0m\u001B[0;34m)\u001B[0m\u001B[0;34m\u001B[0m\u001B[0;34m\u001B[0m\u001B[0m\n\u001B[1;32m    131\u001B[0m \u001B[0;34m\u001B[0m\u001B[0m\n\u001B[0;32m--> 132\u001B[0;31m     \u001B[0mfig\u001B[0m\u001B[0;34m.\u001B[0m\u001B[0mcanvas\u001B[0m\u001B[0;34m.\u001B[0m\u001B[0mprint_figure\u001B[0m\u001B[0;34m(\u001B[0m\u001B[0mbytes_io\u001B[0m\u001B[0;34m,\u001B[0m \u001B[0;34m**\u001B[0m\u001B[0mkw\u001B[0m\u001B[0;34m)\u001B[0m\u001B[0;34m\u001B[0m\u001B[0;34m\u001B[0m\u001B[0m\n\u001B[0m\u001B[1;32m    133\u001B[0m     \u001B[0mdata\u001B[0m \u001B[0;34m=\u001B[0m \u001B[0mbytes_io\u001B[0m\u001B[0;34m.\u001B[0m\u001B[0mgetvalue\u001B[0m\u001B[0;34m(\u001B[0m\u001B[0;34m)\u001B[0m\u001B[0;34m\u001B[0m\u001B[0;34m\u001B[0m\u001B[0m\n\u001B[1;32m    134\u001B[0m     \u001B[0;32mif\u001B[0m \u001B[0mfmt\u001B[0m \u001B[0;34m==\u001B[0m \u001B[0;34m'svg'\u001B[0m\u001B[0;34m:\u001B[0m\u001B[0;34m\u001B[0m\u001B[0;34m\u001B[0m\u001B[0m\n",
      "\u001B[0;32m~/Storage/HomeDir/Learning/spectrometer_nn/train_new/venv/lib/python3.8/site-packages/matplotlib/backend_bases.py\u001B[0m in \u001B[0;36mprint_figure\u001B[0;34m(self, filename, dpi, facecolor, edgecolor, orientation, format, bbox_inches, pad_inches, bbox_extra_artists, backend, **kwargs)\u001B[0m\n\u001B[1;32m   2193\u001B[0m                         \u001B[0mself\u001B[0m\u001B[0;34m.\u001B[0m\u001B[0mfigure\u001B[0m\u001B[0;34m.\u001B[0m\u001B[0mdraw\u001B[0m\u001B[0;34m(\u001B[0m\u001B[0mrenderer\u001B[0m\u001B[0;34m)\u001B[0m\u001B[0;34m\u001B[0m\u001B[0;34m\u001B[0m\u001B[0m\n\u001B[1;32m   2194\u001B[0m \u001B[0;34m\u001B[0m\u001B[0m\n\u001B[0;32m-> 2195\u001B[0;31m                     bbox_inches = self.figure.get_tightbbox(\n\u001B[0m\u001B[1;32m   2196\u001B[0m                         renderer, bbox_extra_artists=bbox_extra_artists)\n\u001B[1;32m   2197\u001B[0m                     \u001B[0;32mif\u001B[0m \u001B[0mpad_inches\u001B[0m \u001B[0;32mis\u001B[0m \u001B[0;32mNone\u001B[0m\u001B[0;34m:\u001B[0m\u001B[0;34m\u001B[0m\u001B[0;34m\u001B[0m\u001B[0m\n",
      "\u001B[0;32m~/Storage/HomeDir/Learning/spectrometer_nn/train_new/venv/lib/python3.8/site-packages/matplotlib/figure.py\u001B[0m in \u001B[0;36mget_tightbbox\u001B[0;34m(self, renderer, bbox_extra_artists)\u001B[0m\n\u001B[1;32m   2504\u001B[0m \u001B[0;34m\u001B[0m\u001B[0m\n\u001B[1;32m   2505\u001B[0m         \u001B[0;32mfor\u001B[0m \u001B[0ma\u001B[0m \u001B[0;32min\u001B[0m \u001B[0martists\u001B[0m\u001B[0;34m:\u001B[0m\u001B[0;34m\u001B[0m\u001B[0;34m\u001B[0m\u001B[0m\n\u001B[0;32m-> 2506\u001B[0;31m             \u001B[0mbbox\u001B[0m \u001B[0;34m=\u001B[0m \u001B[0ma\u001B[0m\u001B[0;34m.\u001B[0m\u001B[0mget_tightbbox\u001B[0m\u001B[0;34m(\u001B[0m\u001B[0mrenderer\u001B[0m\u001B[0;34m)\u001B[0m\u001B[0;34m\u001B[0m\u001B[0;34m\u001B[0m\u001B[0m\n\u001B[0m\u001B[1;32m   2507\u001B[0m             \u001B[0;32mif\u001B[0m \u001B[0mbbox\u001B[0m \u001B[0;32mis\u001B[0m \u001B[0;32mnot\u001B[0m \u001B[0;32mNone\u001B[0m \u001B[0;32mand\u001B[0m \u001B[0;34m(\u001B[0m\u001B[0mbbox\u001B[0m\u001B[0;34m.\u001B[0m\u001B[0mwidth\u001B[0m \u001B[0;34m!=\u001B[0m \u001B[0;36m0\u001B[0m \u001B[0;32mor\u001B[0m \u001B[0mbbox\u001B[0m\u001B[0;34m.\u001B[0m\u001B[0mheight\u001B[0m \u001B[0;34m!=\u001B[0m \u001B[0;36m0\u001B[0m\u001B[0;34m)\u001B[0m\u001B[0;34m:\u001B[0m\u001B[0;34m\u001B[0m\u001B[0;34m\u001B[0m\u001B[0m\n\u001B[1;32m   2508\u001B[0m                 \u001B[0mbb\u001B[0m\u001B[0;34m.\u001B[0m\u001B[0mappend\u001B[0m\u001B[0;34m(\u001B[0m\u001B[0mbbox\u001B[0m\u001B[0;34m)\u001B[0m\u001B[0;34m\u001B[0m\u001B[0;34m\u001B[0m\u001B[0m\n",
      "\u001B[0;32m~/Storage/HomeDir/Learning/spectrometer_nn/train_new/venv/lib/python3.8/site-packages/matplotlib/axes/_base.py\u001B[0m in \u001B[0;36mget_tightbbox\u001B[0;34m(self, renderer, call_axes_locator, bbox_extra_artists, for_layout_only)\u001B[0m\n\u001B[1;32m   4160\u001B[0m             \u001B[0;32mif\u001B[0m \u001B[0mself\u001B[0m\u001B[0;34m.\u001B[0m\u001B[0myaxis\u001B[0m\u001B[0;34m.\u001B[0m\u001B[0mget_visible\u001B[0m\u001B[0;34m(\u001B[0m\u001B[0;34m)\u001B[0m\u001B[0;34m:\u001B[0m\u001B[0;34m\u001B[0m\u001B[0;34m\u001B[0m\u001B[0m\n\u001B[1;32m   4161\u001B[0m                 \u001B[0;32mtry\u001B[0m\u001B[0;34m:\u001B[0m\u001B[0;34m\u001B[0m\u001B[0;34m\u001B[0m\u001B[0m\n\u001B[0;32m-> 4162\u001B[0;31m                     bb_yaxis = self.yaxis.get_tightbbox(\n\u001B[0m\u001B[1;32m   4163\u001B[0m                         renderer, for_layout_only=for_layout_only)\n\u001B[1;32m   4164\u001B[0m                 \u001B[0;32mexcept\u001B[0m \u001B[0mTypeError\u001B[0m\u001B[0;34m:\u001B[0m\u001B[0;34m\u001B[0m\u001B[0;34m\u001B[0m\u001B[0m\n",
      "\u001B[0;32m~/Storage/HomeDir/Learning/spectrometer_nn/train_new/venv/lib/python3.8/site-packages/matplotlib/axis.py\u001B[0m in \u001B[0;36mget_tightbbox\u001B[0;34m(self, renderer, for_layout_only)\u001B[0m\n\u001B[1;32m   1107\u001B[0m             \u001B[0;32mreturn\u001B[0m\u001B[0;34m\u001B[0m\u001B[0;34m\u001B[0m\u001B[0m\n\u001B[1;32m   1108\u001B[0m \u001B[0;34m\u001B[0m\u001B[0m\n\u001B[0;32m-> 1109\u001B[0;31m         \u001B[0mticks_to_draw\u001B[0m \u001B[0;34m=\u001B[0m \u001B[0mself\u001B[0m\u001B[0;34m.\u001B[0m\u001B[0m_update_ticks\u001B[0m\u001B[0;34m(\u001B[0m\u001B[0;34m)\u001B[0m\u001B[0;34m\u001B[0m\u001B[0;34m\u001B[0m\u001B[0m\n\u001B[0m\u001B[1;32m   1110\u001B[0m \u001B[0;34m\u001B[0m\u001B[0m\n\u001B[1;32m   1111\u001B[0m         \u001B[0mself\u001B[0m\u001B[0;34m.\u001B[0m\u001B[0m_update_label_position\u001B[0m\u001B[0;34m(\u001B[0m\u001B[0mrenderer\u001B[0m\u001B[0;34m)\u001B[0m\u001B[0;34m\u001B[0m\u001B[0;34m\u001B[0m\u001B[0m\n",
      "\u001B[0;32m~/Storage/HomeDir/Learning/spectrometer_nn/train_new/venv/lib/python3.8/site-packages/matplotlib/axis.py\u001B[0m in \u001B[0;36m_update_ticks\u001B[0;34m(self)\u001B[0m\n\u001B[1;32m   1019\u001B[0m         \u001B[0mthe\u001B[0m \u001B[0maxes\u001B[0m\u001B[0;34m.\u001B[0m  \u001B[0mReturn\u001B[0m \u001B[0mthe\u001B[0m \u001B[0mlist\u001B[0m \u001B[0mof\u001B[0m \u001B[0mticks\u001B[0m \u001B[0mthat\u001B[0m \u001B[0mwill\u001B[0m \u001B[0mbe\u001B[0m \u001B[0mdrawn\u001B[0m\u001B[0;34m.\u001B[0m\u001B[0;34m\u001B[0m\u001B[0;34m\u001B[0m\u001B[0m\n\u001B[1;32m   1020\u001B[0m         \"\"\"\n\u001B[0;32m-> 1021\u001B[0;31m         \u001B[0mmajor_locs\u001B[0m \u001B[0;34m=\u001B[0m \u001B[0mself\u001B[0m\u001B[0;34m.\u001B[0m\u001B[0mget_majorticklocs\u001B[0m\u001B[0;34m(\u001B[0m\u001B[0;34m)\u001B[0m\u001B[0;34m\u001B[0m\u001B[0;34m\u001B[0m\u001B[0m\n\u001B[0m\u001B[1;32m   1022\u001B[0m         \u001B[0mmajor_labels\u001B[0m \u001B[0;34m=\u001B[0m \u001B[0mself\u001B[0m\u001B[0;34m.\u001B[0m\u001B[0mmajor\u001B[0m\u001B[0;34m.\u001B[0m\u001B[0mformatter\u001B[0m\u001B[0;34m.\u001B[0m\u001B[0mformat_ticks\u001B[0m\u001B[0;34m(\u001B[0m\u001B[0mmajor_locs\u001B[0m\u001B[0;34m)\u001B[0m\u001B[0;34m\u001B[0m\u001B[0;34m\u001B[0m\u001B[0m\n\u001B[1;32m   1023\u001B[0m         \u001B[0mmajor_ticks\u001B[0m \u001B[0;34m=\u001B[0m \u001B[0mself\u001B[0m\u001B[0;34m.\u001B[0m\u001B[0mget_major_ticks\u001B[0m\u001B[0;34m(\u001B[0m\u001B[0mlen\u001B[0m\u001B[0;34m(\u001B[0m\u001B[0mmajor_locs\u001B[0m\u001B[0;34m)\u001B[0m\u001B[0;34m)\u001B[0m\u001B[0;34m\u001B[0m\u001B[0;34m\u001B[0m\u001B[0m\n",
      "\u001B[0;32m~/Storage/HomeDir/Learning/spectrometer_nn/train_new/venv/lib/python3.8/site-packages/matplotlib/axis.py\u001B[0m in \u001B[0;36mget_majorticklocs\u001B[0;34m(self)\u001B[0m\n\u001B[1;32m   1281\u001B[0m     \u001B[0;32mdef\u001B[0m \u001B[0mget_majorticklocs\u001B[0m\u001B[0;34m(\u001B[0m\u001B[0mself\u001B[0m\u001B[0;34m)\u001B[0m\u001B[0;34m:\u001B[0m\u001B[0;34m\u001B[0m\u001B[0;34m\u001B[0m\u001B[0m\n\u001B[1;32m   1282\u001B[0m         \u001B[0;34m\"\"\"Return this Axis' major tick locations in data coordinates.\"\"\"\u001B[0m\u001B[0;34m\u001B[0m\u001B[0;34m\u001B[0m\u001B[0m\n\u001B[0;32m-> 1283\u001B[0;31m         \u001B[0;32mreturn\u001B[0m \u001B[0mself\u001B[0m\u001B[0;34m.\u001B[0m\u001B[0mmajor\u001B[0m\u001B[0;34m.\u001B[0m\u001B[0mlocator\u001B[0m\u001B[0;34m(\u001B[0m\u001B[0;34m)\u001B[0m\u001B[0;34m\u001B[0m\u001B[0;34m\u001B[0m\u001B[0m\n\u001B[0m\u001B[1;32m   1284\u001B[0m \u001B[0;34m\u001B[0m\u001B[0m\n\u001B[1;32m   1285\u001B[0m     \u001B[0;32mdef\u001B[0m \u001B[0mget_minorticklocs\u001B[0m\u001B[0;34m(\u001B[0m\u001B[0mself\u001B[0m\u001B[0;34m)\u001B[0m\u001B[0;34m:\u001B[0m\u001B[0;34m\u001B[0m\u001B[0;34m\u001B[0m\u001B[0m\n",
      "\u001B[0;32m~/Storage/HomeDir/Learning/spectrometer_nn/train_new/venv/lib/python3.8/site-packages/matplotlib/ticker.py\u001B[0m in \u001B[0;36m__call__\u001B[0;34m(self)\u001B[0m\n\u001B[1;32m   2287\u001B[0m     \u001B[0;32mdef\u001B[0m \u001B[0m__call__\u001B[0m\u001B[0;34m(\u001B[0m\u001B[0mself\u001B[0m\u001B[0;34m)\u001B[0m\u001B[0;34m:\u001B[0m\u001B[0;34m\u001B[0m\u001B[0;34m\u001B[0m\u001B[0m\n\u001B[1;32m   2288\u001B[0m         \u001B[0mvmin\u001B[0m\u001B[0;34m,\u001B[0m \u001B[0mvmax\u001B[0m \u001B[0;34m=\u001B[0m \u001B[0mself\u001B[0m\u001B[0;34m.\u001B[0m\u001B[0maxis\u001B[0m\u001B[0;34m.\u001B[0m\u001B[0mget_view_interval\u001B[0m\u001B[0;34m(\u001B[0m\u001B[0;34m)\u001B[0m\u001B[0;34m\u001B[0m\u001B[0;34m\u001B[0m\u001B[0m\n\u001B[0;32m-> 2289\u001B[0;31m         \u001B[0;32mreturn\u001B[0m \u001B[0mself\u001B[0m\u001B[0;34m.\u001B[0m\u001B[0mtick_values\u001B[0m\u001B[0;34m(\u001B[0m\u001B[0mvmin\u001B[0m\u001B[0;34m,\u001B[0m \u001B[0mvmax\u001B[0m\u001B[0;34m)\u001B[0m\u001B[0;34m\u001B[0m\u001B[0;34m\u001B[0m\u001B[0m\n\u001B[0m\u001B[1;32m   2290\u001B[0m \u001B[0;34m\u001B[0m\u001B[0m\n\u001B[1;32m   2291\u001B[0m     \u001B[0;32mdef\u001B[0m \u001B[0mtick_values\u001B[0m\u001B[0;34m(\u001B[0m\u001B[0mself\u001B[0m\u001B[0;34m,\u001B[0m \u001B[0mvmin\u001B[0m\u001B[0;34m,\u001B[0m \u001B[0mvmax\u001B[0m\u001B[0;34m)\u001B[0m\u001B[0;34m:\u001B[0m\u001B[0;34m\u001B[0m\u001B[0;34m\u001B[0m\u001B[0m\n",
      "\u001B[0;32m~/Storage/HomeDir/Learning/spectrometer_nn/train_new/venv/lib/python3.8/site-packages/matplotlib/ticker.py\u001B[0m in \u001B[0;36mtick_values\u001B[0;34m(self, vmin, vmax)\u001B[0m\n\u001B[1;32m   2295\u001B[0m         vmin, vmax = mtransforms.nonsingular(\n\u001B[1;32m   2296\u001B[0m             vmin, vmax, expander=1e-13, tiny=1e-14)\n\u001B[0;32m-> 2297\u001B[0;31m         \u001B[0mlocs\u001B[0m \u001B[0;34m=\u001B[0m \u001B[0mself\u001B[0m\u001B[0;34m.\u001B[0m\u001B[0m_raw_ticks\u001B[0m\u001B[0;34m(\u001B[0m\u001B[0mvmin\u001B[0m\u001B[0;34m,\u001B[0m \u001B[0mvmax\u001B[0m\u001B[0;34m)\u001B[0m\u001B[0;34m\u001B[0m\u001B[0;34m\u001B[0m\u001B[0m\n\u001B[0m\u001B[1;32m   2298\u001B[0m \u001B[0;34m\u001B[0m\u001B[0m\n\u001B[1;32m   2299\u001B[0m         \u001B[0mprune\u001B[0m \u001B[0;34m=\u001B[0m \u001B[0mself\u001B[0m\u001B[0;34m.\u001B[0m\u001B[0m_prune\u001B[0m\u001B[0;34m\u001B[0m\u001B[0;34m\u001B[0m\u001B[0m\n",
      "\u001B[0;32m~/Storage/HomeDir/Learning/spectrometer_nn/train_new/venv/lib/python3.8/site-packages/matplotlib/ticker.py\u001B[0m in \u001B[0;36m_raw_ticks\u001B[0;34m(self, vmin, vmax)\u001B[0m\n\u001B[1;32m   2234\u001B[0m         \u001B[0;32mif\u001B[0m \u001B[0mself\u001B[0m\u001B[0;34m.\u001B[0m\u001B[0m_nbins\u001B[0m \u001B[0;34m==\u001B[0m \u001B[0;34m'auto'\u001B[0m\u001B[0;34m:\u001B[0m\u001B[0;34m\u001B[0m\u001B[0;34m\u001B[0m\u001B[0m\n\u001B[1;32m   2235\u001B[0m             \u001B[0;32mif\u001B[0m \u001B[0mself\u001B[0m\u001B[0;34m.\u001B[0m\u001B[0maxis\u001B[0m \u001B[0;32mis\u001B[0m \u001B[0;32mnot\u001B[0m \u001B[0;32mNone\u001B[0m\u001B[0;34m:\u001B[0m\u001B[0;34m\u001B[0m\u001B[0;34m\u001B[0m\u001B[0m\n\u001B[0;32m-> 2236\u001B[0;31m                 nbins = np.clip(self.axis.get_tick_space(),\n\u001B[0m\u001B[1;32m   2237\u001B[0m                                 max(1, self._min_n_ticks - 1), 9)\n\u001B[1;32m   2238\u001B[0m             \u001B[0;32melse\u001B[0m\u001B[0;34m:\u001B[0m\u001B[0;34m\u001B[0m\u001B[0;34m\u001B[0m\u001B[0m\n",
      "\u001B[0;32m<__array_function__ internals>\u001B[0m in \u001B[0;36mclip\u001B[0;34m(*args, **kwargs)\u001B[0m\n",
      "\u001B[0;32m~/Storage/HomeDir/Learning/spectrometer_nn/train_new/venv/lib/python3.8/site-packages/numpy/core/fromnumeric.py\u001B[0m in \u001B[0;36mclip\u001B[0;34m(a, a_min, a_max, out, **kwargs)\u001B[0m\n\u001B[1;32m   2101\u001B[0m \u001B[0;34m\u001B[0m\u001B[0m\n\u001B[1;32m   2102\u001B[0m     \"\"\"\n\u001B[0;32m-> 2103\u001B[0;31m     \u001B[0;32mreturn\u001B[0m \u001B[0m_wrapfunc\u001B[0m\u001B[0;34m(\u001B[0m\u001B[0ma\u001B[0m\u001B[0;34m,\u001B[0m \u001B[0;34m'clip'\u001B[0m\u001B[0;34m,\u001B[0m \u001B[0ma_min\u001B[0m\u001B[0;34m,\u001B[0m \u001B[0ma_max\u001B[0m\u001B[0;34m,\u001B[0m \u001B[0mout\u001B[0m\u001B[0;34m=\u001B[0m\u001B[0mout\u001B[0m\u001B[0;34m,\u001B[0m \u001B[0;34m**\u001B[0m\u001B[0mkwargs\u001B[0m\u001B[0;34m)\u001B[0m\u001B[0;34m\u001B[0m\u001B[0;34m\u001B[0m\u001B[0m\n\u001B[0m\u001B[1;32m   2104\u001B[0m \u001B[0;34m\u001B[0m\u001B[0m\n\u001B[1;32m   2105\u001B[0m \u001B[0;34m\u001B[0m\u001B[0m\n",
      "\u001B[0;32m~/Storage/HomeDir/Learning/spectrometer_nn/train_new/venv/lib/python3.8/site-packages/numpy/core/fromnumeric.py\u001B[0m in \u001B[0;36m_wrapfunc\u001B[0;34m(obj, method, *args, **kwds)\u001B[0m\n\u001B[1;32m     53\u001B[0m     \u001B[0mbound\u001B[0m \u001B[0;34m=\u001B[0m \u001B[0mgetattr\u001B[0m\u001B[0;34m(\u001B[0m\u001B[0mobj\u001B[0m\u001B[0;34m,\u001B[0m \u001B[0mmethod\u001B[0m\u001B[0;34m,\u001B[0m \u001B[0;32mNone\u001B[0m\u001B[0;34m)\u001B[0m\u001B[0;34m\u001B[0m\u001B[0;34m\u001B[0m\u001B[0m\n\u001B[1;32m     54\u001B[0m     \u001B[0;32mif\u001B[0m \u001B[0mbound\u001B[0m \u001B[0;32mis\u001B[0m \u001B[0;32mNone\u001B[0m\u001B[0;34m:\u001B[0m\u001B[0;34m\u001B[0m\u001B[0;34m\u001B[0m\u001B[0m\n\u001B[0;32m---> 55\u001B[0;31m         \u001B[0;32mreturn\u001B[0m \u001B[0m_wrapit\u001B[0m\u001B[0;34m(\u001B[0m\u001B[0mobj\u001B[0m\u001B[0;34m,\u001B[0m \u001B[0mmethod\u001B[0m\u001B[0;34m,\u001B[0m \u001B[0;34m*\u001B[0m\u001B[0margs\u001B[0m\u001B[0;34m,\u001B[0m \u001B[0;34m**\u001B[0m\u001B[0mkwds\u001B[0m\u001B[0;34m)\u001B[0m\u001B[0;34m\u001B[0m\u001B[0;34m\u001B[0m\u001B[0m\n\u001B[0m\u001B[1;32m     56\u001B[0m \u001B[0;34m\u001B[0m\u001B[0m\n\u001B[1;32m     57\u001B[0m     \u001B[0;32mtry\u001B[0m\u001B[0;34m:\u001B[0m\u001B[0;34m\u001B[0m\u001B[0;34m\u001B[0m\u001B[0m\n",
      "\u001B[0;32m~/Storage/HomeDir/Learning/spectrometer_nn/train_new/venv/lib/python3.8/site-packages/numpy/core/fromnumeric.py\u001B[0m in \u001B[0;36m_wrapit\u001B[0;34m(obj, method, *args, **kwds)\u001B[0m\n\u001B[1;32m     42\u001B[0m     \u001B[0;32mexcept\u001B[0m \u001B[0mAttributeError\u001B[0m\u001B[0;34m:\u001B[0m\u001B[0;34m\u001B[0m\u001B[0;34m\u001B[0m\u001B[0m\n\u001B[1;32m     43\u001B[0m         \u001B[0mwrap\u001B[0m \u001B[0;34m=\u001B[0m \u001B[0;32mNone\u001B[0m\u001B[0;34m\u001B[0m\u001B[0;34m\u001B[0m\u001B[0m\n\u001B[0;32m---> 44\u001B[0;31m     \u001B[0mresult\u001B[0m \u001B[0;34m=\u001B[0m \u001B[0mgetattr\u001B[0m\u001B[0;34m(\u001B[0m\u001B[0masarray\u001B[0m\u001B[0;34m(\u001B[0m\u001B[0mobj\u001B[0m\u001B[0;34m)\u001B[0m\u001B[0;34m,\u001B[0m \u001B[0mmethod\u001B[0m\u001B[0;34m)\u001B[0m\u001B[0;34m(\u001B[0m\u001B[0;34m*\u001B[0m\u001B[0margs\u001B[0m\u001B[0;34m,\u001B[0m \u001B[0;34m**\u001B[0m\u001B[0mkwds\u001B[0m\u001B[0;34m)\u001B[0m\u001B[0;34m\u001B[0m\u001B[0;34m\u001B[0m\u001B[0m\n\u001B[0m\u001B[1;32m     45\u001B[0m     \u001B[0;32mif\u001B[0m \u001B[0mwrap\u001B[0m\u001B[0;34m:\u001B[0m\u001B[0;34m\u001B[0m\u001B[0;34m\u001B[0m\u001B[0m\n\u001B[1;32m     46\u001B[0m         \u001B[0;32mif\u001B[0m \u001B[0;32mnot\u001B[0m \u001B[0misinstance\u001B[0m\u001B[0;34m(\u001B[0m\u001B[0mresult\u001B[0m\u001B[0;34m,\u001B[0m \u001B[0mmu\u001B[0m\u001B[0;34m.\u001B[0m\u001B[0mndarray\u001B[0m\u001B[0;34m)\u001B[0m\u001B[0;34m:\u001B[0m\u001B[0;34m\u001B[0m\u001B[0;34m\u001B[0m\u001B[0m\n",
      "\u001B[0;32m~/Storage/HomeDir/Learning/spectrometer_nn/train_new/venv/lib/python3.8/site-packages/numpy/core/_asarray.py\u001B[0m in \u001B[0;36masarray\u001B[0;34m(a, dtype, order, like)\u001B[0m\n\u001B[1;32m    100\u001B[0m         \u001B[0;32mreturn\u001B[0m \u001B[0m_asarray_with_like\u001B[0m\u001B[0;34m(\u001B[0m\u001B[0ma\u001B[0m\u001B[0;34m,\u001B[0m \u001B[0mdtype\u001B[0m\u001B[0;34m=\u001B[0m\u001B[0mdtype\u001B[0m\u001B[0;34m,\u001B[0m \u001B[0morder\u001B[0m\u001B[0;34m=\u001B[0m\u001B[0morder\u001B[0m\u001B[0;34m,\u001B[0m \u001B[0mlike\u001B[0m\u001B[0;34m=\u001B[0m\u001B[0mlike\u001B[0m\u001B[0;34m)\u001B[0m\u001B[0;34m\u001B[0m\u001B[0;34m\u001B[0m\u001B[0m\n\u001B[1;32m    101\u001B[0m \u001B[0;34m\u001B[0m\u001B[0m\n\u001B[0;32m--> 102\u001B[0;31m     \u001B[0;32mreturn\u001B[0m \u001B[0marray\u001B[0m\u001B[0;34m(\u001B[0m\u001B[0ma\u001B[0m\u001B[0;34m,\u001B[0m \u001B[0mdtype\u001B[0m\u001B[0;34m,\u001B[0m \u001B[0mcopy\u001B[0m\u001B[0;34m=\u001B[0m\u001B[0;32mFalse\u001B[0m\u001B[0;34m,\u001B[0m \u001B[0morder\u001B[0m\u001B[0;34m=\u001B[0m\u001B[0morder\u001B[0m\u001B[0;34m)\u001B[0m\u001B[0;34m\u001B[0m\u001B[0;34m\u001B[0m\u001B[0m\n\u001B[0m\u001B[1;32m    103\u001B[0m \u001B[0;34m\u001B[0m\u001B[0m\n\u001B[1;32m    104\u001B[0m \u001B[0;34m\u001B[0m\u001B[0m\n",
      "\u001B[0;31mKeyboardInterrupt\u001B[0m: "
     ]
    }
   ],
   "source": [
    "import matplotlib.pyplot as plt\n",
    "import matplotlib.gridspec as gridspec\n",
    "\n",
    "fig = plt.figure(figsize=[15,15])\n",
    "gs = gridspec.GridSpec(nrows=3, ncols=3, height_ratios=[1, 1, 1])\n",
    "\n",
    "ax0 = fig.add_subplot(gs[0, 0])\n",
    "ax0.scatter(data[data.runID.eq(2239)][\"targCalPh\"],data[data.runID.eq(2239)][\"targCalTh\"])\n",
    "ax0.set_title('Theoretical Value 2239')\n",
    "\n",
    "ax1 = fig.add_subplot(gs[0, 1])\n",
    "ax1.scatter(data[data.runID.eq(2240)][\"targCalPh\"],data[data.runID.eq(2240)][\"targCalTh\"])\n",
    "ax1.set_title('Theoretical Value 2240')\n",
    "\n",
    "ax2 = fig.add_subplot(gs[0, 2])\n",
    "ax2.scatter(data[data.runID.eq(2241)][\"targCalPh\"],data[data.runID.eq(2241)][\"targCalTh\"])\n",
    "ax2.set_title('Theoretical Value 2241')\n",
    "\n",
    "ax3 = fig.add_subplot(gs[1, 0])\n",
    "ax3.scatter(data[data.runID.eq(2244)][\"targCalPh\"],data[data.runID.eq(2244)][\"targCalTh\"])\n",
    "ax3.set_title('Theoretical Value 2244')\n",
    "\n",
    "ax4 = fig.add_subplot(gs[1, 1])\n",
    "ax4.scatter(data[data.runID.eq(2245)][\"targCalPh\"],data[data.runID.eq(2245)][\"targCalTh\"])\n",
    "ax4.set_title('Theoretical Value 2245')\n",
    "\n",
    "ax5 = fig.add_subplot(gs[1, 2])\n",
    "ax5.scatter(data[data.runID.eq(2256)][\"targCalPh\"],data[data.runID.eq(2256)][\"targCalTh\"])\n",
    "ax5.set_title('Theoretical Value 2256')\n",
    "\n",
    "ax6 = fig.add_subplot(gs[2, 0])\n",
    "ax6.scatter(data[data.runID.eq(2257)][\"targCalPh\"],data[data.runID.eq(2257)][\"targCalTh\"])\n",
    "ax6.set_title('Theoretical Value 2257')\n",
    "\n",
    "plt.tight_layout()\n",
    "plt.show()"
   ]
  },
  {
   "cell_type": "markdown",
   "metadata": {
    "pycharm": {
     "name": "#%% md\n"
    }
   },
   "source": [
    "### 3). Pre-process the data"
   ]
  },
  {
   "cell_type": "code",
   "execution_count": null,
   "outputs": [],
   "source": [
    "from sklearn.model_selection import train_test_split\n",
    "from torch.utils.data import  Dataset, TensorDataset, DataLoader\n",
    "import torch\n",
    "\n",
    "\n",
    "train_X, test_X, train_y, test_y = train_test_split(\n",
    "    data.drop(labels=['evtID','runID','SieveRowID','SieveColID','CutID','bpmX','bpmY','targCalTh','targCalPh'], axis=1),\n",
    "    data[['targCalTh','targCalPh']],\n",
    "    test_size=0.2,\n",
    "    random_state=0)\n",
    "\n",
    "\n",
    "train_X_tensor = torch.tensor(train_X.to_numpy()).float()\n",
    "train_yTh_tensor = torch.tensor(train_y['targCalTh'].to_numpy()).float()\n",
    "train_yPh_tensor = torch.tensor(train_y['targCalPh'].to_numpy()).float()\n",
    "\n",
    "test_X_tensor  = torch.tensor(test_X.to_numpy()).float()\n",
    "test_yTh_tensor  = torch.tensor(test_y['targCalTh'].to_numpy()).float()\n",
    "test_yPh_tensor  = torch.tensor(test_y['targCalPh'].to_numpy()).float()\n",
    "\n",
    "n_feature = train_X.shape[1]\n",
    "\n",
    "\n",
    "train_X.head()\n",
    "\n",
    "\n",
    "\n",
    "# train_theta_loader = DataLoader(dataset=TensorDataset(train_X_tensor,train_yTh_tensor),batch_size=batchSize)\n",
    "# train_phi_loader   = DataLoader(dataset=TensorDataset(train_X_tensor,train_yPh_tensor),batch_size=batchSize)\n",
    "#\n",
    "# test_theta_loader = DataLoader(dataset=TensorDataset(test_X_tensor,test_yTh_tensor),batch_size=batchSize)\n",
    "# test_phi_loader   = DataLoader(dataset=TensorDataset(test_X_tensor,test_yPh_tensor),batch_size=batchSize)"
   ],
   "metadata": {
    "collapsed": false,
    "pycharm": {
     "name": "#%%\n"
    }
   }
  },
  {
   "cell_type": "markdown",
   "metadata": {
    "pycharm": {
     "name": "#%% md\n"
    }
   },
   "source": [
    "## Build the model and Get the GPUs"
   ]
  },
  {
   "cell_type": "code",
   "execution_count": null,
   "metadata": {
    "pycharm": {
     "name": "#%%\n"
    }
   },
   "outputs": [],
   "source": [
    "import torch.nn as nn\n",
    "import torch.nn.functional as F\n",
    "\n",
    "class OptNet_Theta(nn.Module):\n",
    "    def __init__(self,l1=120):\n",
    "        super(OptNet_Theta,self).__init__()\n",
    "        self.fc1 = nn.Linear(n_feature, l1)  # 6*6 from image dimension\n",
    "        self.output = nn.Linear(l1, 1)\n",
    "\n",
    "    def forward(self, x):\n",
    "        x = F.sigmoid(self.fc1(x))\n",
    "        x = self.output(x)\n",
    "        return x\n",
    "\n",
    "class OptNet_Phi(nn.Module):\n",
    "    def __init__(self,l1=120):\n",
    "        super(OptNet_Phi,self).__init__()\n",
    "        self.fc1 = nn.Linear(n_feature, l1)  # 6*6 from image dimension\n",
    "        # self.fc2 = nn.Linear(l1, l2)\n",
    "        self.output = nn.Linear(l1, 1)\n",
    "\n",
    "    def forward(self, x):\n",
    "        x = F.sigmoid(self.fc1(x))\n",
    "        # x = F.sigmoid(self.fc2(x))\n",
    "        x = self.output(x)\n",
    "        return x"
   ]
  },
  {
   "cell_type": "markdown",
   "metadata": {
    "pycharm": {
     "is_executing": true,
     "name": "#%% md\n"
    }
   },
   "source": [
    "## Train the model With All GPUs\n",
    "### 1. Train the $\\phi_{targ}$ dimension"
   ]
  },
  {
   "cell_type": "code",
   "execution_count": null,
   "metadata": {
    "pycharm": {
     "name": "#%%\n"
    }
   },
   "outputs": [],
   "source": [
    "def trainner_phi(config, checkpoint_dir=None, data_dir=None):\n",
    "    net = OptNet_Phi(config[\"l1\"])#,config[\"l2\"])\n",
    "\n",
    "    device = \"cpu\"\n",
    "    if torch.cuda.is_available():\n",
    "        device = \"cuda:0\"\n",
    "        if torch.cuda.device_count() > 1:\n",
    "            net = nn.DataParallel(net)\n",
    "    net.to(device)\n",
    "\n",
    "    criterion = nn.MSELoss()\n",
    "    optimizer = torch.optim.Adam(net.parameters(), lr=config[\"lr\"])\n",
    "\n",
    "    if checkpoint_dir:\n",
    "        model_state, optimizer_state = torch.load(\n",
    "            os.path.join(checkpoint_dir, \"checkpoint\"))\n",
    "        net.load_state_dict(model_state)\n",
    "        optimizer.load_state_dict(optimizer_state)\n",
    "\n",
    "    trainloader = DataLoader(\n",
    "        dataset=TensorDataset(train_X_tensor,train_yPh_tensor),\n",
    "        shuffle=True,\n",
    "        batch_size=int(config[\"batch_size\"]))\n",
    "\n",
    "    valloader = DataLoader(\n",
    "        dataset=TensorDataset(test_X_tensor,test_yPh_tensor),\n",
    "        shuffle=True,\n",
    "        batch_size=int(config[\"batch_size\"]))\n",
    "\n",
    "    # TODO change the to setting file epoch ??\n",
    "    for epoch in range(10):\n",
    "        running_loss = 0.0\n",
    "        epoch_steps = 0\n",
    "\n",
    "        for  i, data in enumerate(trainloader):\n",
    "            inputs, labels = data\n",
    "            inputs, labels = inputs.to(device), labels.to(device)\n",
    "\n",
    "            # zero the parameter gradients\n",
    "            optimizer.zero_grad()\n",
    "\n",
    "            #forward + backward + optimize\n",
    "            outputs = net(inputs)\n",
    "            loss = criterion(outputs,labels)\n",
    "            loss.backward()\n",
    "            optimizer.step()\n",
    "\n",
    "            running_loss += loss.item()\n",
    "            epoch_steps += 1\n",
    "            if i % 2000 == 1999:  # print every 2000 mini-batches\n",
    "                print(\"[%d, %5d] loss: %.9f\" % (epoch + 1, i + 1,\n",
    "                                                running_loss / epoch_steps))\n",
    "                running_loss = 0.0\n",
    "\n",
    "        # Validation loss\n",
    "        val_loss = 0.0\n",
    "        val_steps = 0\n",
    "        total = 0\n",
    "        correct = 0\n",
    "        for i, data in enumerate(valloader, 0):\n",
    "            with torch.no_grad():\n",
    "                inputs, labels = data\n",
    "                inputs, labels = inputs.to(device), labels.to(device)\n",
    "\n",
    "                outputs = net(inputs)\n",
    "                _, predicted = torch.max(outputs.data, 1)\n",
    "                total += labels.size(0)\n",
    "                correct += (predicted == labels).sum().item()\n",
    "\n",
    "                loss = criterion(outputs, labels)\n",
    "                val_loss += loss.cpu().numpy()\n",
    "                val_steps += 1\n",
    "\n",
    "        with tune.checkpoint_dir(epoch) as checkpoint_dir:\n",
    "            path = os.path.join(checkpoint_dir, \"checkpoint\")\n",
    "            torch.save((net.state_dict(), optimizer.state_dict()), path)\n",
    "\n",
    "        tune.report(loss=(val_loss / val_steps), accuracy=correct / total)\n",
    "    print(\"Finish Training\")"
   ]
  },
  {
   "cell_type": "markdown",
   "source": [
    "### 1. Train the $\\theta_{targ}$ dimension"
   ],
   "metadata": {
    "collapsed": false,
    "pycharm": {
     "name": "#%% md\n"
    }
   }
  },
  {
   "cell_type": "code",
   "execution_count": null,
   "outputs": [],
   "source": [
    "def trainner_theta(config, checkpoint_dir=None, data_dir=None):\n",
    "    net = OptNet_Theta(config[\"l1\"])#,config[\"l2\"])\n",
    "\n",
    "    device = \"cpu\"\n",
    "    if torch.cuda.is_available():\n",
    "        device = \"cuda:0\"\n",
    "        if torch.cuda.device_count() > 1:\n",
    "            net = nn.DataParallel(net)\n",
    "    net.to(device)\n",
    "\n",
    "    criterion = nn.MSELoss()\n",
    "    optimizer = torch.optim.Adam(net.parameters(), lr=config[\"lr\"])\n",
    "\n",
    "    if checkpoint_dir:\n",
    "        model_state, optimizer_state = torch.load(\n",
    "            os.path.join(checkpoint_dir, \"checkpoint\"))\n",
    "        net.load_state_dict(model_state)\n",
    "        optimizer.load_state_dict(optimizer_state)\n",
    "\n",
    "    trainloader = DataLoader(\n",
    "        dataset=TensorDataset(train_X_tensor,train_yTh_tensor),\n",
    "        shuffle=True,\n",
    "        batch_size=int(config[\"batch_size\"]))\n",
    "\n",
    "    valloader = DataLoader(\n",
    "        dataset=TensorDataset(test_X_tensor,test_yTh_tensor),\n",
    "        shuffle=True,\n",
    "        batch_size=int(config[\"batch_size\"]))\n",
    "\n",
    "    # TODO change the to setting file epoch ??\n",
    "    for epoch in range(10):\n",
    "        running_loss = 0.0\n",
    "        epoch_steps = 0\n",
    "\n",
    "        for  i, data in enumerate(trainloader):\n",
    "            inputs, labels = data\n",
    "            inputs, labels = inputs.to(device), labels.to(device)\n",
    "\n",
    "            # zero the parameter gradients\n",
    "            optimizer.zero_grad()\n",
    "\n",
    "            #forward + backward + optimize\n",
    "            outputs = net(inputs)\n",
    "            loss = criterion(outputs,labels)\n",
    "            loss.backward()\n",
    "            optimizer.step()\n",
    "\n",
    "            running_loss += loss.item()\n",
    "            epoch_steps += 1\n",
    "            if i % 2000 == 1999:  # print every 2000 mini-batches\n",
    "                print(\"[%d, %5d] loss: %.9f\" % (epoch + 1, i + 1,\n",
    "                                                running_loss / epoch_steps))\n",
    "                running_loss = 0.0\n",
    "\n",
    "        # Validation loss\n",
    "        val_loss = 0.0\n",
    "        val_steps = 0\n",
    "        total = 0\n",
    "        correct = 0\n",
    "        for i, data in enumerate(valloader, 0):\n",
    "            with torch.no_grad():\n",
    "                inputs, labels = data\n",
    "                inputs, labels = inputs.to(device), labels.to(device)\n",
    "\n",
    "                outputs = net(inputs)\n",
    "                _, predicted = torch.max(outputs.data, 1)\n",
    "                total += labels.size(0)\n",
    "                correct += (predicted == labels).sum().item()\n",
    "\n",
    "                loss = criterion(outputs, labels)\n",
    "                val_loss += loss.cpu().numpy()\n",
    "                val_steps += 1\n",
    "\n",
    "        with tune.checkpoint_dir(epoch) as checkpoint_dir:\n",
    "            path = os.path.join(checkpoint_dir, \"checkpoint\")\n",
    "            torch.save((net.state_dict(), optimizer.state_dict()), path)\n",
    "\n",
    "        tune.report(loss=(val_loss / val_steps), accuracy=correct / total)\n",
    "    print(\"Finish Training\")"
   ],
   "metadata": {
    "collapsed": false,
    "pycharm": {
     "name": "#%%\n"
    }
   }
  },
  {
   "cell_type": "markdown",
   "source": [
    "### 3. trainner runner"
   ],
   "metadata": {
    "collapsed": false,
    "pycharm": {
     "name": "#%% md\n"
    }
   }
  },
  {
   "cell_type": "code",
   "execution_count": null,
   "outputs": [],
   "source": [
    "from functools import partial\n",
    "\n",
    "def trainPhi_run(num_samples=10, max_num_epochs=10, gpus_per_trial=1):\n",
    "    data_dir = os.path.abspath(\"./data\")\n",
    "    config = {\n",
    "        \"l1\": tune.sample_from(lambda _: 2 ** np.random.randint(2, 9)),\n",
    "        #\"l2\": tune.sample_from(lambda _: 2 ** np.random.randint(2, 9)),\n",
    "        \"lr\": tune.loguniform(1e-5, 1e-1),\n",
    "        \"batch_size\": tune.choice([2, 4, 8, 16,32,64,128])\n",
    "    }\n",
    "    scheduler = ASHAScheduler(\n",
    "        metric=\"loss\",\n",
    "        mode=\"min\",\n",
    "        max_t=max_num_epochs,\n",
    "        grace_period=1,\n",
    "        reduction_factor=2)\n",
    "\n",
    "    reporter = CLIReporter(\n",
    "        # parameter_columns=[\"l1\", \"l2\", \"lr\", \"batch_size\"],\n",
    "        metric_columns=[\"loss\", \"accuracy\", \"training_iteration\"])\n",
    "\n",
    "    result = tune.run(\n",
    "        partial(trainner_phi, data_dir=data_dir),\n",
    "        name=\"phi_scan\",\n",
    "        resources_per_trial={\"cpu\": 2, \"gpu\": gpus_per_trial},\n",
    "        config=config,\n",
    "        num_samples=num_samples,\n",
    "        scheduler=scheduler,\n",
    "        progress_reporter=reporter)\n",
    "\n",
    "    best_trial = result.get_best_trial(\"loss\", \"min\", \"last\")\n",
    "    print(\"Best trial config: {}\".format(best_trial.config))\n",
    "    print(\"Best trial final validation loss: {}\".format(\n",
    "        best_trial.last_result[\"loss\"]))\n",
    "    print(\"Best trial final validation accuracy: {}\".format(\n",
    "        best_trial.last_result[\"accuracy\"]))\n",
    "\n",
    "    best_trained_model = OptNet_Phi(best_trial.config[\"l1\"], best_trial.config[\"l2\"])\n",
    "    device = \"cpu\"\n",
    "    if torch.cuda.is_available():\n",
    "        device = \"cuda:0\"\n",
    "        if gpus_per_trial > 1:\n",
    "            best_trained_model = nn.DataParallel(best_trained_model)\n",
    "    best_trained_model.to(device)\n",
    "    best_checkpoint_dir = best_trial.checkpoint.value\n",
    "    model_state, optimizer_state = torch.load(os.path.join(\n",
    "        best_checkpoint_dir, \"checkpoint\"))\n",
    "    best_trained_model.load_state_dict(model_state)"
   ],
   "metadata": {
    "collapsed": false,
    "pycharm": {
     "name": "#%%\n"
    }
   }
  },
  {
   "cell_type": "markdown",
   "source": [
    "## Train Main Runner"
   ],
   "metadata": {
    "collapsed": false,
    "pycharm": {
     "name": "#%% md\n"
    }
   }
  },
  {
   "cell_type": "code",
   "execution_count": null,
   "outputs": [],
   "source": [
    "trainPhi_run(num_samples=10, max_num_epochs=10, gpus_per_trial=0)"
   ],
   "metadata": {
    "collapsed": false,
    "pycharm": {
     "name": "#%%\n"
    }
   }
  },
  {
   "cell_type": "markdown",
   "source": [
    "end"
   ],
   "metadata": {
    "collapsed": false,
    "pycharm": {
     "name": "#%% md\n"
    }
   }
  }
 ],
 "metadata": {
  "kernelspec": {
   "display_name": "Python 3",
   "language": "python",
   "name": "python3"
  },
  "language_info": {
   "codemirror_mode": {
    "name": "ipython",
    "version": 3
   },
   "file_extension": ".py",
   "mimetype": "text/x-python",
   "name": "python",
   "nbconvert_exporter": "python",
   "pygments_lexer": "ipython3",
   "version": "3.9.0+"
  }
 },
 "nbformat": 4,
 "nbformat_minor": 1
}