{
 "cells": [
  {
   "cell_type": "markdown",
   "metadata": {
    "collapsed": true,
    "pycharm": {
     "name": "#%% md\n"
    }
   },
   "source": [
    "# HRS Spectrometer Neutrol network Model"
   ]
  },
  {
   "cell_type": "code",
   "execution_count": 1,
   "metadata": {
    "pycharm": {
     "name": "#%%\n"
    }
   },
   "outputs": [],
   "source": [
    "import  pandas as pd\n",
    "import numpy as np\n",
    "import sklearn\n",
    "import math\n",
    "import matplotlib\n",
    "%matplotlib inline\n",
    "\n",
    "from sklearn.model_selection import train_test_split\n",
    "from sklearn.linear_model import *\n",
    "from sklearn.feature_selection import SelectFromModel\n",
    "from sklearn.preprocessing import StandardScaler\n",
    "from sklearn.feature_selection import *\n",
    "import math"
   ]
  },
  {
   "cell_type": "markdown",
   "metadata": {},
   "source": [
    "## Global Config\n",
    "- [ ] batch Size\n",
    "- [ ] enable train $\\theta$\n",
    "- [ ] enable train $\\phi$\n",
    "- [ ] data souce base path/url\n",
    "- [x] model save path"
   ]
  },
  {
   "cell_type": "code",
   "execution_count": 2,
   "metadata": {
    "pycharm": {
     "name": "#%%\n"
    }
   },
   "outputs": [],
   "source": [
    "import os\n",
    "\n",
    "ModelSavePath = './model'\n",
    "\n",
    "\n",
    "# create folder if not exist\n",
    "if not os.path.isdir(ModelSavePath):\n",
    "    os.makedirs(ModelSavePath)"
   ]
  },
  {
   "cell_type": "markdown",
   "metadata": {},
   "source": [
    "##  Prepare the data\n",
    "- Merge Multi dataset\n",
    "- randomize the order of the dataset\n",
    "- [ftp data server](http://localhost/Data/spectro_nn/)"
   ]
  },
  {
   "cell_type": "code",
   "execution_count": 3,
   "metadata": {
    "pycharm": {
     "name": "#%%\n"
    }
   },
   "outputs": [
    {
     "name": "stdout",
     "output_type": "stream",
     "text": [
      "Loading file ./result/equal/PRex_DataSet_Full_21363.csv\n",
      "Loading file ./result/equal/PRex_DataSet_Full_21364.csv\n",
      "Loading file ./result/equal/PRex_DataSet_Full_21365.csv\n",
      "Loading file ./result/equal/PRex_DataSet_Full_21366.csv\n",
      "Loading file ./result/equal/PRex_DataSet_Full_21368.csv\n",
      "Loading file ./result/equal/PRex_DataSet_Full_21369.csv\n",
      "Loading file ./result/equal/PRex_DataSet_Full_21370.csv\n",
      "Loading file ./result/equal/PRex_DataSet_Full_21380.csv\n",
      "Loading file ./result/equal/PRex_DataSet_Full_21381.csv\n",
      "End!!!\n"
     ]
    }
   ],
   "source": [
    "# large data set with all the features\n",
    "\n",
    "dataSouceBaseDir = \"./result/equal\"\n",
    "\n",
    "\n",
    "files = [\"{}/PRex_DataSet_Full_21363.csv\".format(dataSouceBaseDir),\n",
    "         \"{}/PRex_DataSet_Full_21364.csv\".format(dataSouceBaseDir),\n",
    "         \"{}/PRex_DataSet_Full_21365.csv\".format(dataSouceBaseDir),\n",
    "         \"{}/PRex_DataSet_Full_21366.csv\".format(dataSouceBaseDir),\n",
    "         \"{}/PRex_DataSet_Full_21368.csv\".format(dataSouceBaseDir),\n",
    "         \"{}/PRex_DataSet_Full_21369.csv\".format(dataSouceBaseDir),\n",
    "         \"{}/PRex_DataSet_Full_21370.csv\".format(dataSouceBaseDir),\n",
    "         \"{}/PRex_DataSet_Full_21380.csv\".format(dataSouceBaseDir),\n",
    "         \"{}/PRex_DataSet_Full_21381.csv\".format(dataSouceBaseDir)\n",
    "         ]\n",
    "\n",
    "# dataSouceBaseDir = \"/home/newdriver/Learning/spectrometer_nn/Rreg/result/data_y_731\"\n",
    "#\n",
    "# files = [\"{}/PRex_DataSet_Vertex_Full_2239.csv\".format(dataSouceBaseDir),\n",
    "#          \"{}/PRex_DataSet_Vertex_Full_2240.csv\".format(dataSouceBaseDir),\n",
    "#          \"{}/PRex_DataSet_Vertex_Full_2241.csv\".format(dataSouceBaseDir),\n",
    "#          \"{}/PRex_DataSet_Vertex_Full_2244.csv\".format(dataSouceBaseDir),\n",
    "#          \"{}/PRex_DataSet_Vertex_Full_2245.csv\".format(dataSouceBaseDir),\n",
    "#          \"{}/PRex_DataSet_Vertex_Full_2256.csv\".format(dataSouceBaseDir),\n",
    "#          \"{}/PRex_DataSet_Vertex_Full_2257.csv\".format(dataSouceBaseDir)\n",
    "#          ]\n",
    "\n",
    "\n",
    "li = []\n",
    "for filename in files:\n",
    "    print(\"Loading file {}\".format(filename))\n",
    "    df = pd.read_csv(filename)\n",
    "    li.append(df)\n",
    "data = pd.concat(li)\n",
    "data.sample(frac=1) # sample the data with fraction 1. rearrange the data in random order\n",
    "data.head()\n",
    "\n",
    "data.to_csv(\"combine.csv\",index=False)\n",
    "\n",
    "print(\"End!!!\")"
   ]
  },
  {
   "cell_type": "code",
   "execution_count": 3,
   "metadata": {},
   "outputs": [],
   "source": []
  }
 ],
 "metadata": {
  "kernelspec": {
   "display_name": "Python 3",
   "language": "python",
   "name": "python3"
  },
  "language_info": {
   "codemirror_mode": {
    "name": "ipython",
    "version": 3
   },
   "file_extension": ".py",
   "mimetype": "text/x-python",
   "name": "python",
   "nbconvert_exporter": "python",
   "pygments_lexer": "ipython3",
   "version": "3.9.0+"
  }
 },
 "nbformat": 4,
 "nbformat_minor": 1
}