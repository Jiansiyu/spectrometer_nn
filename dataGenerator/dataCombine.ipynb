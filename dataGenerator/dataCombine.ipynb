{
 "cells": [
  {
   "cell_type": "markdown",
   "metadata": {
    "collapsed": true,
    "pycharm": {
     "name": "#%% md\n"
    }
   },
   "source": [
    "# HRS Spectrometer Neutrol network Model"
   ]
  },
  {
   "cell_type": "code",
   "execution_count": 7,
   "outputs": [],
   "source": [
    "import  pandas as pd\n",
    "import numpy as np\n",
    "import sklearn\n",
    "import math\n",
    "import matplotlib\n",
    "%matplotlib inline\n",
    "\n",
    "from sklearn.model_selection import train_test_split\n",
    "from sklearn.linear_model import *\n",
    "from sklearn.feature_selection import SelectFromModel\n",
    "from sklearn.preprocessing import StandardScaler\n",
    "from sklearn.feature_selection import *\n",
    "import math"
   ],
   "metadata": {
    "collapsed": false,
    "pycharm": {
     "name": "#%%\n"
    }
   }
  },
  {
   "cell_type": "markdown",
   "source": [
    "## Global Config\n",
    "- [ ] batch Size\n",
    "- [ ] enable train $\\theta$\n",
    "- [ ] enable train $\\phi$\n",
    "- [ ] data souce base path/url\n",
    "- [x] model save path"
   ],
   "metadata": {
    "collapsed": false
   }
  },
  {
   "cell_type": "code",
   "execution_count": 8,
   "outputs": [],
   "source": [
    "import os\n",
    "\n",
    "ModelSavePath = './model'\n",
    "\n",
    "\n",
    "# create folder if not exist\n",
    "if not os.path.isdir(ModelSavePath):\n",
    "    os.makedirs(ModelSavePath)"
   ],
   "metadata": {
    "collapsed": false,
    "pycharm": {
     "name": "#%%\n"
    }
   }
  },
  {
   "cell_type": "markdown",
   "source": [
    "##  Prepare the data\n",
    "- Merge Multi dataset\n",
    "- randomize the order of the dataset\n",
    "- [ftp data server](http://localhost/Data/spectro_nn/)"
   ],
   "metadata": {
    "collapsed": false
   }
  },
  {
   "cell_type": "code",
   "execution_count": 9,
   "outputs": [
    {
     "name": "stdout",
     "output_type": "stream",
     "text": [
      "Loading file ./result/PRex_DataSet_Full_2239.csv\n",
      "Loading file ./result/PRex_DataSet_Full_2240.csv\n",
      "Loading file ./result/PRex_DataSet_Full_2241.csv\n",
      "Loading file ./result/PRex_DataSet_Full_2244.csv\n",
      "Loading file ./result/PRex_DataSet_Full_2245.csv\n",
      "Loading file ./result/PRex_DataSet_Full_2256.csv\n",
      "Loading file ./result/PRex_DataSet_Full_2257.csv\n"
     ]
    }
   ],
   "source": [
    "# large data set with all the features\n",
    "\n",
    "dataSouceBaseDir = \"./result\"\n",
    "\n",
    "files = [\"{}/PRex_DataSet_Full_2239.csv\".format(dataSouceBaseDir),\n",
    "         \"{}/PRex_DataSet_Full_2240.csv\".format(dataSouceBaseDir),\n",
    "         \"{}/PRex_DataSet_Full_2241.csv\".format(dataSouceBaseDir),\n",
    "         \"{}/PRex_DataSet_Full_2244.csv\".format(dataSouceBaseDir),\n",
    "         \"{}/PRex_DataSet_Full_2245.csv\".format(dataSouceBaseDir),\n",
    "         \"{}/PRex_DataSet_Full_2256.csv\".format(dataSouceBaseDir),\n",
    "         \"{}/PRex_DataSet_Full_2257.csv\".format(dataSouceBaseDir)\n",
    "         ]\n",
    "li = []\n",
    "for filename in files:\n",
    "    print(\"Loading file {}\".format(filename))\n",
    "    df = pd.read_csv(filename)\n",
    "    li.append(df)\n",
    "data = pd.concat(li)\n",
    "data.sample(frac=1) # sample the data with fraction 1. rearrange the data in random order\n",
    "data.head()\n",
    "\n",
    "data.to_csv(\"combine.csv\",index=False)\n",
    "\n"
   ],
   "metadata": {
    "collapsed": false,
    "pycharm": {
     "name": "#%%\n"
    }
   }
  }
 ],
 "metadata": {
  "kernelspec": {
   "display_name": "Python 3",
   "language": "python",
   "name": "python3"
  },
  "language_info": {
   "codemirror_mode": {
    "name": "ipython",
    "version": 2
   },
   "file_extension": ".py",
   "mimetype": "text/x-python",
   "name": "python",
   "nbconvert_exporter": "python",
   "pygments_lexer": "ipython2",
   "version": "2.7.6"
  }
 },
 "nbformat": 4,
 "nbformat_minor": 0
}