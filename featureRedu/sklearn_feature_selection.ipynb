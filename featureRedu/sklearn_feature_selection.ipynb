{
 "cells": [
  {
   "cell_type": "code",
   "execution_count": 53,
   "metadata": {
    "collapsed": true
   },
   "outputs": [],
   "source": [
    "import  pandas as pd\n",
    "import numpy as np\n",
    "import sklearn\n",
    "from sklearn.feature_selection import mutual_info_regression\n",
    "import matplotlib as plt\n",
    "import seaborn as sns\n",
    "%matplotlib inline\n",
    "\n",
    "from sklearn.model_selection import train_test_split\n",
    "from sklearn.linear_model import *\n",
    "from sklearn.feature_selection import SelectFromModel\n",
    "from sklearn.preprocessing import StandardScaler\n",
    "from sklearn.feature_selection import *"
   ]
  },
  {
   "cell_type": "markdown",
   "source": [
    "Load the Data, alternative data path 192.168.1.56"
   ],
   "metadata": {
    "collapsed": false
   }
  },
  {
   "cell_type": "code",
   "execution_count": 54,
   "outputs": [
    {
     "data": {
      "text/plain": "   evtID  runID  CutID  SieveRowID  SieveColID      bpmX      bpmY  \\\n0      0   2239    136           3           5  0.003794 -0.000501   \n1      1   2239    130           4           4  0.003794 -0.000501   \n2      2   2239    179           4          11  0.003794 -0.000501   \n3      3   2239    142           2           6  0.003794 -0.000501   \n4      4   2239    127           1           4  0.003794 -0.000501   \n\n   x0th0y0ph0  x0th0y0ph1  x0th0y0ph2  ...    x5th3y0ph2    x5th3y1ph0  \\\n0           1   -0.001618    0.000003  ... -2.848910e-25 -1.204610e-21   \n1           1   -0.009000    0.000081  ...  3.795410e-19  3.989300e-17   \n2           1    0.014969    0.000224  ...  3.138030e-20 -2.052980e-18   \n3           1    0.001385    0.000002  ... -4.800510e-23 -7.559080e-20   \n4           1   -0.004135    0.000017  ... -2.253720e-25 -1.595910e-22   \n\n     x5th3y1ph1    x5th3y2ph0    x5th4y0ph0    x5th4y0ph1    x5th4y1ph0  \\\n0  1.948790e-24 -1.333070e-23 -6.003970e-23  9.713100e-26 -6.644230e-25   \n1 -3.590340e-19  3.396340e-19 -3.143770e-17  2.829370e-19 -2.676490e-19   \n2 -3.073080e-20  3.009480e-20 -9.015570e-19 -1.349530e-20  1.321600e-20   \n3 -1.047050e-22 -2.283730e-22 -1.399750e-19 -1.938870e-22 -4.228890e-22   \n4  6.599090e-25 -1.932270e-24 -8.500870e-23  3.515100e-25 -1.029250e-24   \n\n     x5th5y0ph0  targCalTh  targCalPh  \n0 -3.311590e-26  -0.000817  -0.010117  \n1  2.109210e-19   0.019571  -0.012569  \n2  5.803760e-21   0.012775   0.014835  \n3 -7.830840e-22  -0.014409  -0.003863  \n4 -5.482460e-25  -0.021206  -0.012569  \n\n[5 rows x 730 columns]",
      "text/html": "<div>\n<style scoped>\n    .dataframe tbody tr th:only-of-type {\n        vertical-align: middle;\n    }\n\n    .dataframe tbody tr th {\n        vertical-align: top;\n    }\n\n    .dataframe thead th {\n        text-align: right;\n    }\n</style>\n<table border=\"1\" class=\"dataframe\">\n  <thead>\n    <tr style=\"text-align: right;\">\n      <th></th>\n      <th>evtID</th>\n      <th>runID</th>\n      <th>CutID</th>\n      <th>SieveRowID</th>\n      <th>SieveColID</th>\n      <th>bpmX</th>\n      <th>bpmY</th>\n      <th>x0th0y0ph0</th>\n      <th>x0th0y0ph1</th>\n      <th>x0th0y0ph2</th>\n      <th>...</th>\n      <th>x5th3y0ph2</th>\n      <th>x5th3y1ph0</th>\n      <th>x5th3y1ph1</th>\n      <th>x5th3y2ph0</th>\n      <th>x5th4y0ph0</th>\n      <th>x5th4y0ph1</th>\n      <th>x5th4y1ph0</th>\n      <th>x5th5y0ph0</th>\n      <th>targCalTh</th>\n      <th>targCalPh</th>\n    </tr>\n  </thead>\n  <tbody>\n    <tr>\n      <th>0</th>\n      <td>0</td>\n      <td>2239</td>\n      <td>136</td>\n      <td>3</td>\n      <td>5</td>\n      <td>0.003794</td>\n      <td>-0.000501</td>\n      <td>1</td>\n      <td>-0.001618</td>\n      <td>0.000003</td>\n      <td>...</td>\n      <td>-2.848910e-25</td>\n      <td>-1.204610e-21</td>\n      <td>1.948790e-24</td>\n      <td>-1.333070e-23</td>\n      <td>-6.003970e-23</td>\n      <td>9.713100e-26</td>\n      <td>-6.644230e-25</td>\n      <td>-3.311590e-26</td>\n      <td>-0.000817</td>\n      <td>-0.010117</td>\n    </tr>\n    <tr>\n      <th>1</th>\n      <td>1</td>\n      <td>2239</td>\n      <td>130</td>\n      <td>4</td>\n      <td>4</td>\n      <td>0.003794</td>\n      <td>-0.000501</td>\n      <td>1</td>\n      <td>-0.009000</td>\n      <td>0.000081</td>\n      <td>...</td>\n      <td>3.795410e-19</td>\n      <td>3.989300e-17</td>\n      <td>-3.590340e-19</td>\n      <td>3.396340e-19</td>\n      <td>-3.143770e-17</td>\n      <td>2.829370e-19</td>\n      <td>-2.676490e-19</td>\n      <td>2.109210e-19</td>\n      <td>0.019571</td>\n      <td>-0.012569</td>\n    </tr>\n    <tr>\n      <th>2</th>\n      <td>2</td>\n      <td>2239</td>\n      <td>179</td>\n      <td>4</td>\n      <td>11</td>\n      <td>0.003794</td>\n      <td>-0.000501</td>\n      <td>1</td>\n      <td>0.014969</td>\n      <td>0.000224</td>\n      <td>...</td>\n      <td>3.138030e-20</td>\n      <td>-2.052980e-18</td>\n      <td>-3.073080e-20</td>\n      <td>3.009480e-20</td>\n      <td>-9.015570e-19</td>\n      <td>-1.349530e-20</td>\n      <td>1.321600e-20</td>\n      <td>5.803760e-21</td>\n      <td>0.012775</td>\n      <td>0.014835</td>\n    </tr>\n    <tr>\n      <th>3</th>\n      <td>3</td>\n      <td>2239</td>\n      <td>142</td>\n      <td>2</td>\n      <td>6</td>\n      <td>0.003794</td>\n      <td>-0.000501</td>\n      <td>1</td>\n      <td>0.001385</td>\n      <td>0.000002</td>\n      <td>...</td>\n      <td>-4.800510e-23</td>\n      <td>-7.559080e-20</td>\n      <td>-1.047050e-22</td>\n      <td>-2.283730e-22</td>\n      <td>-1.399750e-19</td>\n      <td>-1.938870e-22</td>\n      <td>-4.228890e-22</td>\n      <td>-7.830840e-22</td>\n      <td>-0.014409</td>\n      <td>-0.003863</td>\n    </tr>\n    <tr>\n      <th>4</th>\n      <td>4</td>\n      <td>2239</td>\n      <td>127</td>\n      <td>1</td>\n      <td>4</td>\n      <td>0.003794</td>\n      <td>-0.000501</td>\n      <td>1</td>\n      <td>-0.004135</td>\n      <td>0.000017</td>\n      <td>...</td>\n      <td>-2.253720e-25</td>\n      <td>-1.595910e-22</td>\n      <td>6.599090e-25</td>\n      <td>-1.932270e-24</td>\n      <td>-8.500870e-23</td>\n      <td>3.515100e-25</td>\n      <td>-1.029250e-24</td>\n      <td>-5.482460e-25</td>\n      <td>-0.021206</td>\n      <td>-0.012569</td>\n    </tr>\n  </tbody>\n</table>\n<p>5 rows × 730 columns</p>\n</div>"
     },
     "execution_count": 54,
     "metadata": {},
     "output_type": "execute_result"
    }
   ],
   "source": [
    "data_url = \"http://localhost/Data/spectro_nn/focalPlane/Equal/EqEvt731/order10_ep5/combine.csv\"\n",
    "data_pd = pd.read_csv(data_url)\n",
    "\n",
    "data_pd.head()"
   ],
   "metadata": {
    "collapsed": false,
    "pycharm": {
     "name": "#%%\n"
    }
   }
  },
  {
   "cell_type": "code",
   "execution_count": 55,
   "outputs": [
    {
     "ename": "TypeError",
     "evalue": "'module' object is not callable",
     "output_type": "error",
     "traceback": [
      "\u001B[0;31m---------------------------------------------------------------------------\u001B[0m",
      "\u001B[0;31mTypeError\u001B[0m                                 Traceback (most recent call last)",
      "\u001B[0;32m<ipython-input-55-988199cfeba6>\u001B[0m in \u001B[0;36m<module>\u001B[0;34m\u001B[0m\n\u001B[1;32m     25\u001B[0m     \u001B[0mplot_mi_scores\u001B[0m\u001B[0;34m(\u001B[0m\u001B[0mmi_scores\u001B[0m\u001B[0;34m)\u001B[0m\u001B[0;34m\u001B[0m\u001B[0;34m\u001B[0m\u001B[0m\n\u001B[1;32m     26\u001B[0m \u001B[0;34m\u001B[0m\u001B[0m\n\u001B[0;32m---> 27\u001B[0;31m \u001B[0mMutalInfo\u001B[0m\u001B[0;34m(\u001B[0m\u001B[0mdata_pd\u001B[0m\u001B[0;34m)\u001B[0m\u001B[0;34m\u001B[0m\u001B[0;34m\u001B[0m\u001B[0m\n\u001B[0m",
      "\u001B[0;32m<ipython-input-55-988199cfeba6>\u001B[0m in \u001B[0;36mMutalInfo\u001B[0;34m(train)\u001B[0m\n\u001B[1;32m     22\u001B[0m \u001B[0;34m\u001B[0m\u001B[0m\n\u001B[1;32m     23\u001B[0m     \u001B[0mmi_scores\u001B[0m \u001B[0;34m=\u001B[0m \u001B[0mmake_mi_scores\u001B[0m\u001B[0;34m(\u001B[0m\u001B[0mX\u001B[0m\u001B[0;34m,\u001B[0m \u001B[0my2\u001B[0m\u001B[0;34m)\u001B[0m\u001B[0;34m\u001B[0m\u001B[0;34m\u001B[0m\u001B[0m\n\u001B[0;32m---> 24\u001B[0;31m     \u001B[0mplt\u001B[0m\u001B[0;34m.\u001B[0m\u001B[0mfigure\u001B[0m\u001B[0;34m(\u001B[0m\u001B[0mdpi\u001B[0m\u001B[0;34m=\u001B[0m\u001B[0;36m100\u001B[0m\u001B[0;34m,\u001B[0m \u001B[0mfigsize\u001B[0m\u001B[0;34m=\u001B[0m\u001B[0;34m(\u001B[0m\u001B[0;36m8\u001B[0m\u001B[0;34m,\u001B[0m \u001B[0;36m5\u001B[0m\u001B[0;34m)\u001B[0m\u001B[0;34m)\u001B[0m\u001B[0;34m\u001B[0m\u001B[0;34m\u001B[0m\u001B[0m\n\u001B[0m\u001B[1;32m     25\u001B[0m     \u001B[0mplot_mi_scores\u001B[0m\u001B[0;34m(\u001B[0m\u001B[0mmi_scores\u001B[0m\u001B[0;34m)\u001B[0m\u001B[0;34m\u001B[0m\u001B[0;34m\u001B[0m\u001B[0m\n\u001B[1;32m     26\u001B[0m \u001B[0;34m\u001B[0m\u001B[0m\n",
      "\u001B[0;31mTypeError\u001B[0m: 'module' object is not callable"
     ]
    }
   ],
   "source": [
    "def make_mi_scores(X, y):\n",
    "    mi_scores = mutual_info_regression(X, y)\n",
    "    mi_scores = pd.Series(mi_scores, name=\"MI Scores\", index=X.columns)\n",
    "    mi_scores = mi_scores.sort_values(ascending=False)\n",
    "    return mi_scores\n",
    "\n",
    "def plot_mi_scores(scores):\n",
    "    scores = scores.sort_values(ascending=True)\n",
    "    width = np.arange(len(scores))\n",
    "    ticks = list(scores.index)\n",
    "    plt.barh(width, scores)\n",
    "    plt.yticks(width, ticks)\n",
    "    plt.title(\"Mutual Information Scores\")\n",
    "\n",
    "\n",
    "def MutalInfo(train):\n",
    "    train.drop([\"evtID\",\"runID\",\"CutID\",\"SieveColID\",\"SieveRowID\",\"bpmX\",\"bpmY\"],inplace =True,axis=1)\n",
    "    X = train.copy()\n",
    "    y1 = train.pop(\"targCalTh\")\n",
    "    y2 = train.pop(\"targCalPh\")\n",
    "\n",
    "\n",
    "    mi_scores = make_mi_scores(X, y2)\n",
    "    plt.figure(dpi=100, figsize=(8, 5))\n",
    "    plot_mi_scores(mi_scores)\n",
    "\n",
    "MutalInfo(data_pd)"
   ],
   "metadata": {
    "collapsed": false,
    "pycharm": {
     "name": "#%%\n"
    }
   }
  }
 ],
 "metadata": {
  "kernelspec": {
   "display_name": "Python 3",
   "language": "python",
   "name": "python3"
  },
  "language_info": {
   "codemirror_mode": {
    "name": "ipython",
    "version": 2
   },
   "file_extension": ".py",
   "mimetype": "text/x-python",
   "name": "python",
   "nbconvert_exporter": "python",
   "pygments_lexer": "ipython2",
   "version": "2.7.6"
  }
 },
 "nbformat": 4,
 "nbformat_minor": 0
}