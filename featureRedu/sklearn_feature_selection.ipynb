{
 "cells": [
  {
   "cell_type": "code",
   "execution_count": 3,
   "metadata": {
    "collapsed": true
   },
   "outputs": [],
   "source": [
    "import  pandas as pd\n",
    "import numpy as np\n",
    "import sklearn\n",
    "\n",
    "import matplotlib as plt\n",
    "import seaborn as sns\n",
    "%matplotlib inline\n",
    "\n",
    "from sklearn.model_selection import train_test_split\n",
    "from sklearn.linear_model import *\n",
    "from sklearn.feature_selection import SelectFromModel\n",
    "from sklearn.preprocessing import StandardScaler\n",
    "from sklearn.feature_selection import *"
   ]
  },
  {
   "cell_type": "markdown",
   "source": [
    "Load the Data, alternative data path 192.168.1.56"
   ],
   "metadata": {
    "collapsed": false
   }
  },
  {
   "cell_type": "code",
   "execution_count": 4,
   "outputs": [
    {
     "name": "stdout",
     "output_type": "stream",
     "text": [
      "Loading file ../dataGenerator/result/PRex_DataSet_Full_2239.csv\n",
      "Loading file ../dataGenerator/result/PRex_DataSet_Full_2240.csv\n",
      "Loading file ../dataGenerator/result/PRex_DataSet_Full_2241.csv\n",
      "Loading file ../dataGenerator/result/PRex_DataSet_Full_2244.csv\n",
      "Loading file ../dataGenerator/result/PRex_DataSet_Full_2245.csv\n",
      "Loading file ../dataGenerator/result/PRex_DataSet_Full_2256.csv\n",
      "Loading file ../dataGenerator/result/PRex_DataSet_Full_2257.csv\n"
     ]
    },
    {
     "data": {
      "text/plain": "(221493, 631)"
     },
     "execution_count": 4,
     "metadata": {},
     "output_type": "execute_result"
    }
   ],
   "source": [
    "files = [\"../dataGenerator/result/PRex_DataSet_Full_2239.csv\",\n",
    "         \"../dataGenerator/result/PRex_DataSet_Full_2240.csv\",\n",
    "         \"../dataGenerator/result/PRex_DataSet_Full_2241.csv\",\n",
    "         \"../dataGenerator/result/PRex_DataSet_Full_2244.csv\",\n",
    "         \"../dataGenerator/result/PRex_DataSet_Full_2245.csv\",\n",
    "         \"../dataGenerator/result/PRex_DataSet_Full_2256.csv\",\n",
    "         \"../dataGenerator/result/PRex_DataSet_Full_2257.csv\"\n",
    "         ]\n",
    "\n",
    "li = []\n",
    "\n",
    "for filename in files:\n",
    "    print(\"Loading file {}\".format(filename))\n",
    "    df = pd.read_csv(filename)\n",
    "    li.append(df)\n",
    "\n",
    "data = pd.concat(li)\n",
    "data.sample(frac=1)\n",
    "data.shape"
   ],
   "metadata": {
    "collapsed": false,
    "pycharm": {
     "name": "#%%\n"
    }
   }
  },
  {
   "cell_type": "code",
   "execution_count": 5,
   "outputs": [
    {
     "data": {
      "text/plain": "   evtID  CutID      bpmX      bpmY  x0th0y0ph0  x0th0y0ph1  x0th0y0ph2  \\\n0      0    136  0.003794 -0.000501           1   -0.001618    0.000003   \n1      1    130  0.003794 -0.000501           1   -0.009000    0.000081   \n2      2    179  0.003794 -0.000501           1    0.014969    0.000224   \n3      3    142  0.003794 -0.000501           1    0.001385    0.000002   \n4      4    127  0.003794 -0.000501           1   -0.004135    0.000017   \n\n     x0th0y0ph3    x0th0y0ph4  x0th0y1ph0  ...    x4th4y3ph2    x4th4y3ph3  \\\n0 -4.234070e-09  6.849800e-12    0.011066  ...  1.465170e-32 -2.370320e-35   \n1 -7.289810e-07  6.560770e-09    0.008514  ...  5.729530e-26 -5.156530e-28   \n2  3.354050e-06  5.020650e-08   -0.014659  ... -4.567400e-26 -6.836890e-28   \n3  2.657600e-09  3.681180e-12    0.003021  ...  6.895500e-31  9.551300e-34   \n4 -7.070060e-08  2.923460e-10    0.012108  ...  1.183870e-30 -4.895280e-33   \n\n     x4th4y3ph4    x4th4y4ph0    x4th4y4ph1    x4th4y4ph2    x4th4y4ph3  \\\n0  3.834650e-38  6.195190e-29 -1.002250e-31  1.621410e-34 -2.623090e-37   \n1  4.640840e-30  6.022230e-24 -5.419960e-26  4.877920e-28 -4.390090e-30   \n2 -1.023410e-29  2.988110e-24  4.472870e-26  6.695400e-28  1.002230e-29   \n3  1.323000e-36  1.085790e-27  1.503990e-30  2.083250e-33  2.885610e-36   \n4  2.024190e-35  8.383250e-28 -3.466470e-30  1.433380e-32 -5.927010e-35   \n\n     x4th4y4ph4  targCalTh  targCalPh  \n0  4.243580e-40  -0.000817  -0.010117  \n1  3.951040e-32   0.019571  -0.012569  \n2  1.500220e-31   0.012775   0.014835  \n3  3.997000e-39  -0.014409  -0.003863  \n4  2.450810e-37  -0.021206  -0.012569  \n\n[5 rows x 631 columns]",
      "text/html": "<div>\n<style scoped>\n    .dataframe tbody tr th:only-of-type {\n        vertical-align: middle;\n    }\n\n    .dataframe tbody tr th {\n        vertical-align: top;\n    }\n\n    .dataframe thead th {\n        text-align: right;\n    }\n</style>\n<table border=\"1\" class=\"dataframe\">\n  <thead>\n    <tr style=\"text-align: right;\">\n      <th></th>\n      <th>evtID</th>\n      <th>CutID</th>\n      <th>bpmX</th>\n      <th>bpmY</th>\n      <th>x0th0y0ph0</th>\n      <th>x0th0y0ph1</th>\n      <th>x0th0y0ph2</th>\n      <th>x0th0y0ph3</th>\n      <th>x0th0y0ph4</th>\n      <th>x0th0y1ph0</th>\n      <th>...</th>\n      <th>x4th4y3ph2</th>\n      <th>x4th4y3ph3</th>\n      <th>x4th4y3ph4</th>\n      <th>x4th4y4ph0</th>\n      <th>x4th4y4ph1</th>\n      <th>x4th4y4ph2</th>\n      <th>x4th4y4ph3</th>\n      <th>x4th4y4ph4</th>\n      <th>targCalTh</th>\n      <th>targCalPh</th>\n    </tr>\n  </thead>\n  <tbody>\n    <tr>\n      <th>0</th>\n      <td>0</td>\n      <td>136</td>\n      <td>0.003794</td>\n      <td>-0.000501</td>\n      <td>1</td>\n      <td>-0.001618</td>\n      <td>0.000003</td>\n      <td>-4.234070e-09</td>\n      <td>6.849800e-12</td>\n      <td>0.011066</td>\n      <td>...</td>\n      <td>1.465170e-32</td>\n      <td>-2.370320e-35</td>\n      <td>3.834650e-38</td>\n      <td>6.195190e-29</td>\n      <td>-1.002250e-31</td>\n      <td>1.621410e-34</td>\n      <td>-2.623090e-37</td>\n      <td>4.243580e-40</td>\n      <td>-0.000817</td>\n      <td>-0.010117</td>\n    </tr>\n    <tr>\n      <th>1</th>\n      <td>1</td>\n      <td>130</td>\n      <td>0.003794</td>\n      <td>-0.000501</td>\n      <td>1</td>\n      <td>-0.009000</td>\n      <td>0.000081</td>\n      <td>-7.289810e-07</td>\n      <td>6.560770e-09</td>\n      <td>0.008514</td>\n      <td>...</td>\n      <td>5.729530e-26</td>\n      <td>-5.156530e-28</td>\n      <td>4.640840e-30</td>\n      <td>6.022230e-24</td>\n      <td>-5.419960e-26</td>\n      <td>4.877920e-28</td>\n      <td>-4.390090e-30</td>\n      <td>3.951040e-32</td>\n      <td>0.019571</td>\n      <td>-0.012569</td>\n    </tr>\n    <tr>\n      <th>2</th>\n      <td>2</td>\n      <td>179</td>\n      <td>0.003794</td>\n      <td>-0.000501</td>\n      <td>1</td>\n      <td>0.014969</td>\n      <td>0.000224</td>\n      <td>3.354050e-06</td>\n      <td>5.020650e-08</td>\n      <td>-0.014659</td>\n      <td>...</td>\n      <td>-4.567400e-26</td>\n      <td>-6.836890e-28</td>\n      <td>-1.023410e-29</td>\n      <td>2.988110e-24</td>\n      <td>4.472870e-26</td>\n      <td>6.695400e-28</td>\n      <td>1.002230e-29</td>\n      <td>1.500220e-31</td>\n      <td>0.012775</td>\n      <td>0.014835</td>\n    </tr>\n    <tr>\n      <th>3</th>\n      <td>3</td>\n      <td>142</td>\n      <td>0.003794</td>\n      <td>-0.000501</td>\n      <td>1</td>\n      <td>0.001385</td>\n      <td>0.000002</td>\n      <td>2.657600e-09</td>\n      <td>3.681180e-12</td>\n      <td>0.003021</td>\n      <td>...</td>\n      <td>6.895500e-31</td>\n      <td>9.551300e-34</td>\n      <td>1.323000e-36</td>\n      <td>1.085790e-27</td>\n      <td>1.503990e-30</td>\n      <td>2.083250e-33</td>\n      <td>2.885610e-36</td>\n      <td>3.997000e-39</td>\n      <td>-0.014409</td>\n      <td>-0.003863</td>\n    </tr>\n    <tr>\n      <th>4</th>\n      <td>4</td>\n      <td>127</td>\n      <td>0.003794</td>\n      <td>-0.000501</td>\n      <td>1</td>\n      <td>-0.004135</td>\n      <td>0.000017</td>\n      <td>-7.070060e-08</td>\n      <td>2.923460e-10</td>\n      <td>0.012108</td>\n      <td>...</td>\n      <td>1.183870e-30</td>\n      <td>-4.895280e-33</td>\n      <td>2.024190e-35</td>\n      <td>8.383250e-28</td>\n      <td>-3.466470e-30</td>\n      <td>1.433380e-32</td>\n      <td>-5.927010e-35</td>\n      <td>2.450810e-37</td>\n      <td>-0.021206</td>\n      <td>-0.012569</td>\n    </tr>\n  </tbody>\n</table>\n<p>5 rows × 631 columns</p>\n</div>"
     },
     "execution_count": 5,
     "metadata": {},
     "output_type": "execute_result"
    }
   ],
   "source": [
    "data.head()\n"
   ],
   "metadata": {
    "collapsed": false,
    "pycharm": {
     "name": "#%%\n"
    }
   }
  },
  {
   "cell_type": "markdown",
   "source": [
    "Select Numerical Columms"
   ],
   "metadata": {
    "collapsed": false
   }
  },
  {
   "cell_type": "code",
   "execution_count": 6,
   "outputs": [
    {
     "data": {
      "text/plain": "(221493, 631)"
     },
     "execution_count": 6,
     "metadata": {},
     "output_type": "execute_result"
    }
   ],
   "source": [
    "numerics = ['int16','int32','int64','float16','float32','float64']\n",
    "numerical_vars = list(data.select_dtypes(include=numerics).columns)\n",
    "data = data[numerical_vars]\n",
    "data.shape"
   ],
   "metadata": {
    "collapsed": false,
    "pycharm": {
     "name": "#%%\n"
    }
   }
  },
  {
   "cell_type": "markdown",
   "source": [
    "Seperate the data into training and test set"
   ],
   "metadata": {
    "collapsed": false
   }
  },
  {
   "cell_type": "code",
   "execution_count": 7,
   "outputs": [
    {
     "data": {
      "text/plain": "((177194, 625), (44299, 625))"
     },
     "execution_count": 7,
     "metadata": {},
     "output_type": "execute_result"
    }
   ],
   "source": [
    "X_train, X_test, y_train, y_test = train_test_split(\n",
    "    data.drop(labels=['evtID', 'CutID','bpmX','bpmY','targCalTh','targCalPh'], axis=1),\n",
    "    data['targCalTh'],\n",
    "    test_size=0.2,\n",
    "    random_state=0)\n",
    "X_train.shape,X_test.shape"
   ],
   "metadata": {
    "collapsed": false,
    "pycharm": {
     "name": "#%%\n"
    }
   }
  },
  {
   "cell_type": "code",
   "execution_count": 8,
   "outputs": [
    {
     "data": {
      "text/plain": "StandardScaler()"
     },
     "execution_count": 8,
     "metadata": {},
     "output_type": "execute_result"
    }
   ],
   "source": [
    "scaler = StandardScaler()\n",
    "scaler.fit(X_train.fillna(0))\n"
   ],
   "metadata": {
    "collapsed": false,
    "pycharm": {
     "name": "#%%\n"
    }
   }
  },
  {
   "cell_type": "code",
   "execution_count": 9,
   "outputs": [
    {
     "data": {
      "text/plain": "0.9664236746711129"
     },
     "execution_count": 9,
     "metadata": {},
     "output_type": "execute_result"
    }
   ],
   "source": [
    "clf = LassoCV(cv=5, random_state=0).fit(X_train, y_train)\n",
    "clf.score(X_train,y_train)"
   ],
   "metadata": {
    "collapsed": false,
    "pycharm": {
     "name": "#%%\n"
    }
   }
  },
  {
   "cell_type": "code",
   "execution_count": 10,
   "outputs": [
    {
     "data": {
      "text/plain": "array([ 0.00852286, -0.02878026, -0.00970056, ..., -0.01641879,\n        0.02384588,  0.01686926])"
     },
     "execution_count": 10,
     "metadata": {},
     "output_type": "execute_result"
    }
   ],
   "source": [
    "clf.predict(X_test)"
   ],
   "metadata": {
    "collapsed": false,
    "pycharm": {
     "name": "#%%\n"
    }
   }
  },
  {
   "cell_type": "code",
   "execution_count": 11,
   "outputs": [
    {
     "data": {
      "text/plain": "699      0.012772\n10825   -0.026090\n19106   -0.014400\n30658   -0.005704\n25714   -0.021192\n           ...   \n23888   -0.021192\n14767    0.001086\n25163   -0.014400\n18490    0.026345\n2342     0.019564\nName: targCalTh, Length: 44299, dtype: float64"
     },
     "execution_count": 11,
     "metadata": {},
     "output_type": "execute_result"
    }
   ],
   "source": [
    "y_test\n"
   ],
   "metadata": {
    "collapsed": false,
    "pycharm": {
     "name": "#%%\n"
    }
   }
  },
  {
   "cell_type": "code",
   "execution_count": 12,
   "outputs": [
    {
     "data": {
      "text/plain": "0.9682784273018035"
     },
     "execution_count": 12,
     "metadata": {},
     "output_type": "execute_result"
    }
   ],
   "source": [
    "clf = RidgeCV(alphas=[x/100. for x in range(1,100)]).fit(X_train, y_train)\n",
    "clf.score(X_train,y_train)"
   ],
   "metadata": {
    "collapsed": false,
    "pycharm": {
     "name": "#%%\n"
    }
   }
  },
  {
   "cell_type": "code",
   "execution_count": 13,
   "outputs": [
    {
     "data": {
      "text/plain": "array([ 0.0082247 , -0.0288321 , -0.00986765, ..., -0.01632653,\n        0.02419889,  0.01656655])"
     },
     "execution_count": 13,
     "metadata": {},
     "output_type": "execute_result"
    }
   ],
   "source": [
    "clf.predict(X_test)"
   ],
   "metadata": {
    "collapsed": false,
    "pycharm": {
     "name": "#%%\n"
    }
   }
  },
  {
   "cell_type": "code",
   "execution_count": 14,
   "outputs": [
    {
     "data": {
      "text/plain": "<Figure size 432x288 with 1 Axes>",
      "image/png": "[encoded data removed]"
     },
     "metadata": {
      "needs_background": "light"
     },
     "output_type": "display_data"
    }
   ],
   "source": [
    "reg = LinearRegression().fit(X_train, y_train)\n",
    "reg.score(X_train, y_train)\n",
    "pred = reg.predict(X_test)\n",
    "\n",
    "plt.pyplot.scatter(pred, y_test,  color='black')\n",
    "plt.pyplot.show()"
   ],
   "metadata": {
    "collapsed": false,
    "pycharm": {
     "name": "#%%\n"
    }
   }
  }
 ],
 "metadata": {
  "kernelspec": {
   "display_name": "Python 3",
   "language": "python",
   "name": "python3"
  },
  "language_info": {
   "codemirror_mode": {
    "name": "ipython",
    "version": 2
   },
   "file_extension": ".py",
   "mimetype": "text/x-python",
   "name": "python",
   "nbconvert_exporter": "python",
   "pygments_lexer": "ipython2",
   "version": "2.7.6"
  }
 },
 "nbformat": 4,
 "nbformat_minor": 0
}