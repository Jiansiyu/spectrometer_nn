{
 "cells": [
  {
   "cell_type": "markdown",
   "source": [
    "# Regression with sklearn"
   ],
   "metadata": {
    "collapsed": false,
    "pycharm": {
     "name": "#%% md\n"
    }
   }
  },
  {
   "cell_type": "code",
   "execution_count": 1,
   "metadata": {
    "collapsed": true
   },
   "outputs": [],
   "source": [
    "import pandas as pd\n",
    "import numpy as np\n",
    "import matplotlib.pyplot as plt\n",
    "%matplotlib inline"
   ]
  },
  {
   "cell_type": "code",
   "execution_count": 2,
   "outputs": [
    {
     "data": {
      "text/plain": "   evtID  runID  CutID  SieveRowID  SieveColID      bpmX      bpmY  \\\n0      0   2239    136           3           5  0.003794 -0.000501   \n1      1   2239    130           4           4  0.003794 -0.000501   \n2      2   2239    179           4          11  0.003794 -0.000501   \n3      3   2239    142           2           6  0.003794 -0.000501   \n4      4   2239    127           1           4  0.003794 -0.000501   \n\n   x0th0y0ph0  x0th0y0ph1  x0th0y0ph2  ...    x5th0y0ph2    x5th0y1ph0  \\\n0           1   -0.001618    0.000003  ... -1.697790e-15 -7.178800e-12   \n1           1   -0.009000    0.000081  ... -1.256750e-12 -1.320960e-10   \n2           1    0.014969    0.000224  ... -1.176280e-13  7.695500e-12   \n3           1    0.001385    0.000002  ... -2.741670e-16 -4.317140e-13   \n4           1   -0.004135    0.000017  ... -8.401650e-19 -5.949410e-16   \n\n     x5th0y1ph1    x5th0y2ph0    x5th1y0ph0    x5th1y0ph1    x5th1y1ph0  \\\n0  1.161370e-14 -7.944340e-14 -3.578030e-13  5.788460e-16 -3.959590e-15   \n1  1.188850e-12 -1.124610e-12  1.040980e-10 -9.368730e-13  8.862530e-13   \n2  1.151930e-13 -1.128090e-13  3.379450e-12  5.058660e-14 -4.953960e-14   \n3 -5.979890e-16 -1.304280e-15 -7.994270e-13 -1.107330e-15 -2.415200e-15   \n4  2.460070e-18 -7.203310e-18 -3.169040e-16  1.310390e-18 -3.836950e-18   \n\n     x5th2y0ph0  targCalTh  targCalPh  \n0 -1.973520e-16  -0.000817  -0.010117  \n1 -6.984120e-13   0.019571  -0.012569  \n2 -2.175510e-14   0.012775   0.014835  \n3 -4.472350e-15  -0.014409  -0.003863  \n4 -2.043810e-18  -0.021206  -0.012569  \n\n[5 rows x 319 columns]",
      "text/html": "<div>\n<style scoped>\n    .dataframe tbody tr th:only-of-type {\n        vertical-align: middle;\n    }\n\n    .dataframe tbody tr th {\n        vertical-align: top;\n    }\n\n    .dataframe thead th {\n        text-align: right;\n    }\n</style>\n<table border=\"1\" class=\"dataframe\">\n  <thead>\n    <tr style=\"text-align: right;\">\n      <th></th>\n      <th>evtID</th>\n      <th>runID</th>\n      <th>CutID</th>\n      <th>SieveRowID</th>\n      <th>SieveColID</th>\n      <th>bpmX</th>\n      <th>bpmY</th>\n      <th>x0th0y0ph0</th>\n      <th>x0th0y0ph1</th>\n      <th>x0th0y0ph2</th>\n      <th>...</th>\n      <th>x5th0y0ph2</th>\n      <th>x5th0y1ph0</th>\n      <th>x5th0y1ph1</th>\n      <th>x5th0y2ph0</th>\n      <th>x5th1y0ph0</th>\n      <th>x5th1y0ph1</th>\n      <th>x5th1y1ph0</th>\n      <th>x5th2y0ph0</th>\n      <th>targCalTh</th>\n      <th>targCalPh</th>\n    </tr>\n  </thead>\n  <tbody>\n    <tr>\n      <th>0</th>\n      <td>0</td>\n      <td>2239</td>\n      <td>136</td>\n      <td>3</td>\n      <td>5</td>\n      <td>0.003794</td>\n      <td>-0.000501</td>\n      <td>1</td>\n      <td>-0.001618</td>\n      <td>0.000003</td>\n      <td>...</td>\n      <td>-1.697790e-15</td>\n      <td>-7.178800e-12</td>\n      <td>1.161370e-14</td>\n      <td>-7.944340e-14</td>\n      <td>-3.578030e-13</td>\n      <td>5.788460e-16</td>\n      <td>-3.959590e-15</td>\n      <td>-1.973520e-16</td>\n      <td>-0.000817</td>\n      <td>-0.010117</td>\n    </tr>\n    <tr>\n      <th>1</th>\n      <td>1</td>\n      <td>2239</td>\n      <td>130</td>\n      <td>4</td>\n      <td>4</td>\n      <td>0.003794</td>\n      <td>-0.000501</td>\n      <td>1</td>\n      <td>-0.009000</td>\n      <td>0.000081</td>\n      <td>...</td>\n      <td>-1.256750e-12</td>\n      <td>-1.320960e-10</td>\n      <td>1.188850e-12</td>\n      <td>-1.124610e-12</td>\n      <td>1.040980e-10</td>\n      <td>-9.368730e-13</td>\n      <td>8.862530e-13</td>\n      <td>-6.984120e-13</td>\n      <td>0.019571</td>\n      <td>-0.012569</td>\n    </tr>\n    <tr>\n      <th>2</th>\n      <td>2</td>\n      <td>2239</td>\n      <td>179</td>\n      <td>4</td>\n      <td>11</td>\n      <td>0.003794</td>\n      <td>-0.000501</td>\n      <td>1</td>\n      <td>0.014969</td>\n      <td>0.000224</td>\n      <td>...</td>\n      <td>-1.176280e-13</td>\n      <td>7.695500e-12</td>\n      <td>1.151930e-13</td>\n      <td>-1.128090e-13</td>\n      <td>3.379450e-12</td>\n      <td>5.058660e-14</td>\n      <td>-4.953960e-14</td>\n      <td>-2.175510e-14</td>\n      <td>0.012775</td>\n      <td>0.014835</td>\n    </tr>\n    <tr>\n      <th>3</th>\n      <td>3</td>\n      <td>2239</td>\n      <td>142</td>\n      <td>2</td>\n      <td>6</td>\n      <td>0.003794</td>\n      <td>-0.000501</td>\n      <td>1</td>\n      <td>0.001385</td>\n      <td>0.000002</td>\n      <td>...</td>\n      <td>-2.741670e-16</td>\n      <td>-4.317140e-13</td>\n      <td>-5.979890e-16</td>\n      <td>-1.304280e-15</td>\n      <td>-7.994270e-13</td>\n      <td>-1.107330e-15</td>\n      <td>-2.415200e-15</td>\n      <td>-4.472350e-15</td>\n      <td>-0.014409</td>\n      <td>-0.003863</td>\n    </tr>\n    <tr>\n      <th>4</th>\n      <td>4</td>\n      <td>2239</td>\n      <td>127</td>\n      <td>1</td>\n      <td>4</td>\n      <td>0.003794</td>\n      <td>-0.000501</td>\n      <td>1</td>\n      <td>-0.004135</td>\n      <td>0.000017</td>\n      <td>...</td>\n      <td>-8.401650e-19</td>\n      <td>-5.949410e-16</td>\n      <td>2.460070e-18</td>\n      <td>-7.203310e-18</td>\n      <td>-3.169040e-16</td>\n      <td>1.310390e-18</td>\n      <td>-3.836950e-18</td>\n      <td>-2.043810e-18</td>\n      <td>-0.021206</td>\n      <td>-0.012569</td>\n    </tr>\n  </tbody>\n</table>\n<p>5 rows × 319 columns</p>\n</div>"
     },
     "execution_count": 2,
     "metadata": {},
     "output_type": "execute_result"
    }
   ],
   "source": [
    "dataSetURL = \"http://localhost/Data/spectro_nn/focalPlane/Equal/EqEvt731/order7_ep5/combine.csv\"\n",
    "dataSet = pd.read_csv(dataSetURL)\n",
    "dataSet.head()"
   ],
   "metadata": {
    "collapsed": false,
    "pycharm": {
     "name": "#%%\n"
    }
   }
  },
  {
   "cell_type": "markdown",
   "source": [
    "## Prepare the Training and test dataset\n",
    "\n",
    "- Seperate the features and final result\n",
    "- mutual information calculation"
   ],
   "metadata": {
    "collapsed": false,
    "pycharm": {
     "name": "#%% md\n"
    }
   },
   "execution_count": 5
  },
  {
   "cell_type": "code",
   "execution_count": 3,
   "outputs": [
    {
     "name": "stdout",
     "output_type": "stream",
     "text": [
      "HRS data set X :(221493, 310), theta:(221493,)  phi:(221493,)\n"
     ]
    },
    {
     "data": {
      "text/plain": "   x0th0y0ph0  x0th0y0ph1  x0th0y0ph2    x0th0y0ph3    x0th0y0ph4  \\\n0           1   -0.001618    0.000003 -4.234070e-09  6.849800e-12   \n1           1   -0.009000    0.000081 -7.289810e-07  6.560770e-09   \n2           1    0.014969    0.000224  3.354050e-06  5.020650e-08   \n3           1    0.001385    0.000002  2.657600e-09  3.681180e-12   \n4           1   -0.004135    0.000017 -7.070060e-08  2.923460e-10   \n\n     x0th0y0ph5  x0th0y1ph0  x0th0y1ph1    x0th0y1ph2    x0th0y1ph3  ...  \\\n0 -1.108150e-14    0.011066   -0.000018  2.896310e-08 -4.685600e-11  ...   \n1 -5.904640e-11    0.008514   -0.000077  6.895930e-07 -6.206280e-09  ...   \n2  7.515350e-10   -0.014659   -0.000219 -3.284630e-06 -4.916740e-08  ...   \n3  5.098990e-15    0.003021    0.000004  5.796540e-09  8.029080e-12  ...   \n4 -1.208850e-12    0.012108   -0.000050  2.070170e-07 -8.560150e-10  ...   \n\n     x5th0y0ph0    x5th0y0ph1    x5th0y0ph2    x5th0y1ph0    x5th0y1ph1  \\\n0 -6.487020e-10  1.049460e-12 -1.697790e-15 -7.178800e-12  1.161370e-14   \n1 -1.551570e-08  1.396410e-10 -1.256750e-12 -1.320960e-10  1.188850e-12   \n2 -5.249640e-10 -7.858140e-12 -1.176280e-13  7.695500e-12  1.151930e-13   \n3 -1.428960e-10 -1.979330e-13 -2.741670e-16 -4.317140e-13 -5.979890e-16   \n4 -4.913780e-14  2.031840e-16 -8.401650e-19 -5.949410e-16  2.460070e-18   \n\n     x5th0y2ph0    x5th1y0ph0    x5th1y0ph1    x5th1y1ph0    x5th2y0ph0  \n0 -7.944340e-14 -3.578030e-13  5.788460e-16 -3.959590e-15 -1.973520e-16  \n1 -1.124610e-12  1.040980e-10 -9.368730e-13  8.862530e-13 -6.984120e-13  \n2 -1.128090e-13  3.379450e-12  5.058660e-14 -4.953960e-14 -2.175510e-14  \n3 -1.304280e-15 -7.994270e-13 -1.107330e-15 -2.415200e-15 -4.472350e-15  \n4 -7.203310e-18 -3.169040e-16  1.310390e-18 -3.836950e-18 -2.043810e-18  \n\n[5 rows x 310 columns]",
      "text/html": "<div>\n<style scoped>\n    .dataframe tbody tr th:only-of-type {\n        vertical-align: middle;\n    }\n\n    .dataframe tbody tr th {\n        vertical-align: top;\n    }\n\n    .dataframe thead th {\n        text-align: right;\n    }\n</style>\n<table border=\"1\" class=\"dataframe\">\n  <thead>\n    <tr style=\"text-align: right;\">\n      <th></th>\n      <th>x0th0y0ph0</th>\n      <th>x0th0y0ph1</th>\n      <th>x0th0y0ph2</th>\n      <th>x0th0y0ph3</th>\n      <th>x0th0y0ph4</th>\n      <th>x0th0y0ph5</th>\n      <th>x0th0y1ph0</th>\n      <th>x0th0y1ph1</th>\n      <th>x0th0y1ph2</th>\n      <th>x0th0y1ph3</th>\n      <th>...</th>\n      <th>x5th0y0ph0</th>\n      <th>x5th0y0ph1</th>\n      <th>x5th0y0ph2</th>\n      <th>x5th0y1ph0</th>\n      <th>x5th0y1ph1</th>\n      <th>x5th0y2ph0</th>\n      <th>x5th1y0ph0</th>\n      <th>x5th1y0ph1</th>\n      <th>x5th1y1ph0</th>\n      <th>x5th2y0ph0</th>\n    </tr>\n  </thead>\n  <tbody>\n    <tr>\n      <th>0</th>\n      <td>1</td>\n      <td>-0.001618</td>\n      <td>0.000003</td>\n      <td>-4.234070e-09</td>\n      <td>6.849800e-12</td>\n      <td>-1.108150e-14</td>\n      <td>0.011066</td>\n      <td>-0.000018</td>\n      <td>2.896310e-08</td>\n      <td>-4.685600e-11</td>\n      <td>...</td>\n      <td>-6.487020e-10</td>\n      <td>1.049460e-12</td>\n      <td>-1.697790e-15</td>\n      <td>-7.178800e-12</td>\n      <td>1.161370e-14</td>\n      <td>-7.944340e-14</td>\n      <td>-3.578030e-13</td>\n      <td>5.788460e-16</td>\n      <td>-3.959590e-15</td>\n      <td>-1.973520e-16</td>\n    </tr>\n    <tr>\n      <th>1</th>\n      <td>1</td>\n      <td>-0.009000</td>\n      <td>0.000081</td>\n      <td>-7.289810e-07</td>\n      <td>6.560770e-09</td>\n      <td>-5.904640e-11</td>\n      <td>0.008514</td>\n      <td>-0.000077</td>\n      <td>6.895930e-07</td>\n      <td>-6.206280e-09</td>\n      <td>...</td>\n      <td>-1.551570e-08</td>\n      <td>1.396410e-10</td>\n      <td>-1.256750e-12</td>\n      <td>-1.320960e-10</td>\n      <td>1.188850e-12</td>\n      <td>-1.124610e-12</td>\n      <td>1.040980e-10</td>\n      <td>-9.368730e-13</td>\n      <td>8.862530e-13</td>\n      <td>-6.984120e-13</td>\n    </tr>\n    <tr>\n      <th>2</th>\n      <td>1</td>\n      <td>0.014969</td>\n      <td>0.000224</td>\n      <td>3.354050e-06</td>\n      <td>5.020650e-08</td>\n      <td>7.515350e-10</td>\n      <td>-0.014659</td>\n      <td>-0.000219</td>\n      <td>-3.284630e-06</td>\n      <td>-4.916740e-08</td>\n      <td>...</td>\n      <td>-5.249640e-10</td>\n      <td>-7.858140e-12</td>\n      <td>-1.176280e-13</td>\n      <td>7.695500e-12</td>\n      <td>1.151930e-13</td>\n      <td>-1.128090e-13</td>\n      <td>3.379450e-12</td>\n      <td>5.058660e-14</td>\n      <td>-4.953960e-14</td>\n      <td>-2.175510e-14</td>\n    </tr>\n    <tr>\n      <th>3</th>\n      <td>1</td>\n      <td>0.001385</td>\n      <td>0.000002</td>\n      <td>2.657600e-09</td>\n      <td>3.681180e-12</td>\n      <td>5.098990e-15</td>\n      <td>0.003021</td>\n      <td>0.000004</td>\n      <td>5.796540e-09</td>\n      <td>8.029080e-12</td>\n      <td>...</td>\n      <td>-1.428960e-10</td>\n      <td>-1.979330e-13</td>\n      <td>-2.741670e-16</td>\n      <td>-4.317140e-13</td>\n      <td>-5.979890e-16</td>\n      <td>-1.304280e-15</td>\n      <td>-7.994270e-13</td>\n      <td>-1.107330e-15</td>\n      <td>-2.415200e-15</td>\n      <td>-4.472350e-15</td>\n    </tr>\n    <tr>\n      <th>4</th>\n      <td>1</td>\n      <td>-0.004135</td>\n      <td>0.000017</td>\n      <td>-7.070060e-08</td>\n      <td>2.923460e-10</td>\n      <td>-1.208850e-12</td>\n      <td>0.012108</td>\n      <td>-0.000050</td>\n      <td>2.070170e-07</td>\n      <td>-8.560150e-10</td>\n      <td>...</td>\n      <td>-4.913780e-14</td>\n      <td>2.031840e-16</td>\n      <td>-8.401650e-19</td>\n      <td>-5.949410e-16</td>\n      <td>2.460070e-18</td>\n      <td>-7.203310e-18</td>\n      <td>-3.169040e-16</td>\n      <td>1.310390e-18</td>\n      <td>-3.836950e-18</td>\n      <td>-2.043810e-18</td>\n    </tr>\n  </tbody>\n</table>\n<p>5 rows × 310 columns</p>\n</div>"
     },
     "execution_count": 3,
     "metadata": {},
     "output_type": "execute_result"
    }
   ],
   "source": [
    "trainSet = dataSet.drop([\"evtID\",\"runID\",\"CutID\",\"SieveRowID\",\"SieveColID\",\"bpmX\",\"bpmY\"],axis = 1)\n",
    "\n",
    "trainSet.head()\n",
    "\n",
    "RealTheta = trainSet[\"targCalTh\"]\n",
    "RealPhi   = trainSet[\"targCalPh\"]\n",
    "\n",
    "trainX = trainSet.drop([\"targCalTh\",\"targCalPh\"],axis = 1)\n",
    "\n",
    "print(\"HRS data set X :{}, theta:{}  phi:{}\".format(trainX.shape, RealTheta.shape,RealPhi.shape))\n",
    "trainX.head()"
   ],
   "metadata": {
    "collapsed": false,
    "pycharm": {
     "name": "#%%\n"
    }
   }
  },
  {
   "cell_type": "code",
   "execution_count": 4,
   "outputs": [],
   "source": [
    "from sklearn.feature_selection import mutual_info_regression\n",
    "import matplotlib.pyplot as plt\n",
    "\n",
    "def make_mi_scores(X, y):\n",
    "    mi_scores = mutual_info_regression(X, y)\n",
    "    mi_scores = pd.Series(mi_scores, name=\"MI Scores\", index=X.columns)\n",
    "    mi_scores = mi_scores.sort_values(ascending=False)\n",
    "    return mi_scores\n",
    "\n",
    "def plot_mi_scores(scores):\n",
    "    scores = scores.sort_values(ascending=True)\n",
    "    width = np.arange(len(scores))\n",
    "    ticks = list(scores.index)\n",
    "    plt.barh(width, scores)\n",
    "    plt.yticks(width, ticks)\n",
    "    plt.title(\"Mutual Information Scores\")\n",
    "#\n",
    "# mi_score = make_mi_scores(trainX,RealPhi)"
   ],
   "metadata": {
    "collapsed": false,
    "pycharm": {
     "name": "#%%\n"
    }
   }
  },
  {
   "cell_type": "code",
   "execution_count": 5,
   "outputs": [],
   "source": [
    "from sklearn.pipeline import make_pipeline\n",
    "from sklearn.model_selection import  KFold, cross_val_score\n",
    "from sklearn.metrics import r2_score,mean_squared_error\n",
    "from  sklearn.linear_model import  ElasticNetCV, LassoCV, RidgeCV\n",
    "from xgboost import XGBRegressor\n",
    "from lightgbm import LGBMRegressor\n",
    "from sklearn.preprocessing import RobustScaler\n",
    "from sklearn.ensemble import GradientBoostingRegressor\n",
    "from sklearn.svm import SVR\n",
    "from mlxtend.regressor import StackingCVRegressor\n",
    "from datetime import  datetime\n",
    "\n",
    "# functions that used for calculate the residual\n",
    "def rmsle(y, y_pred ):\n",
    "    return np.sqrt(mean_squared_error(y,y_pred))\n",
    "\n",
    "# cross validated rmse\n",
    "def cv_rmse(model, X, y):\n",
    "    return np.sqrt(-cross_val_score(model,X,y, scoring=\"neg_mean_squared_error\", cv = kfolds))\n",
    "\n",
    "\n",
    "# start the k-fold regression\n",
    "global_random_seed = 10\n",
    "kfolds = KFold(n_splits=10,shuffle=True, random_state=global_random_seed)\n",
    "\n",
    "## Build the Model\n",
    "\n",
    "ridge = make_pipeline(RobustScaler(),\n",
    "                      RidgeCV( cv=kfolds,))\n",
    "\n",
    "lasso = make_pipeline(RobustScaler(),\n",
    "                      LassoCV(max_iter=1e7, random_state=global_random_seed, cv=kfolds))\n",
    "\n",
    "elasticnet = make_pipeline(\n",
    "    RobustScaler(),\n",
    "    ElasticNetCV(max_iter=1e7,\n",
    "    cv=kfolds, random_state=global_random_seed))\n",
    "\n",
    "\n",
    "# have not fine tune the following parameters\n",
    "svr = make_pipeline(RobustScaler(),\n",
    "                      SVR(C= 20, epsilon= 0.008, gamma=0.0003,))\n",
    "\n",
    "\n",
    "gbr = GradientBoostingRegressor(n_estimators=3000, learning_rate=0.05,\n",
    "                                   max_depth=4, max_features='sqrt',\n",
    "                                   min_samples_leaf=15, min_samples_split=10,\n",
    "                                   loss='huber', random_state =10)\n",
    "\n",
    "\n",
    "lightgbm = LGBMRegressor(objective='regression',\n",
    "                                       num_leaves=4,\n",
    "                                       learning_rate=0.01,\n",
    "                                       n_estimators=5000,\n",
    "                                       max_bin=200,\n",
    "                                       bagging_fraction=0.75,\n",
    "                                       bagging_freq=5,\n",
    "                                       bagging_seed=7,\n",
    "                                       feature_fraction=0.2,\n",
    "                                       feature_fraction_seed=7,\n",
    "                                       verbose=-1,\n",
    "                                       )\n",
    "\n",
    "\n",
    "xgboost = XGBRegressor(learning_rate=0.01, n_estimators=3460,\n",
    "                                     max_depth=3, min_child_weight=0,\n",
    "                                     gamma=0, subsample=0.7,\n",
    "                                     colsample_bytree=0.7,\n",
    "                                     objective='reg:linear', nthread=-1,\n",
    "                                     scale_pos_weight=1, seed=27,\n",
    "                                     reg_alpha=0.00006, random_state=10)\n",
    "\n",
    "# stack\n",
    "stack_gen = StackingCVRegressor(regressors=(ridge, lasso, elasticnet,\n",
    "                                            gbr, xgboost, lightgbm),\n",
    "                                meta_regressor=xgboost,\n",
    "                                use_features_in_secondary=True)"
   ],
   "metadata": {
    "collapsed": false,
    "pycharm": {
     "name": "#%% build the model to predict the value of the theta and phi\n"
    }
   }
  },
  {
   "cell_type": "code",
   "execution_count": 6,
   "outputs": [
    {
     "name": "stderr",
     "output_type": "stream",
     "text": [
      "/home/newdriver/Storage/HomeDir/Learning/spectrometer_nn/Rreg/venv/lib/python3.8/site-packages/sklearn/linear_model/_ridge.py:147: LinAlgWarning: Ill-conditioned matrix (rcond=1.01515e-16): result may not be accurate.\n",
      "  return linalg.solve(A, Xy, sym_pos=True,\n",
      "/home/newdriver/Storage/HomeDir/Learning/spectrometer_nn/Rreg/venv/lib/python3.8/site-packages/sklearn/linear_model/_ridge.py:147: LinAlgWarning: Ill-conditioned matrix (rcond=9.76624e-17): result may not be accurate.\n",
      "  return linalg.solve(A, Xy, sym_pos=True,\n",
      "/home/newdriver/Storage/HomeDir/Learning/spectrometer_nn/Rreg/venv/lib/python3.8/site-packages/sklearn/linear_model/_ridge.py:147: LinAlgWarning: Ill-conditioned matrix (rcond=1.05973e-16): result may not be accurate.\n",
      "  return linalg.solve(A, Xy, sym_pos=True,\n",
      "/home/newdriver/Storage/HomeDir/Learning/spectrometer_nn/Rreg/venv/lib/python3.8/site-packages/sklearn/linear_model/_ridge.py:147: LinAlgWarning: Ill-conditioned matrix (rcond=9.59607e-17): result may not be accurate.\n",
      "  return linalg.solve(A, Xy, sym_pos=True,\n",
      "/home/newdriver/Storage/HomeDir/Learning/spectrometer_nn/Rreg/venv/lib/python3.8/site-packages/sklearn/linear_model/_ridge.py:147: LinAlgWarning: Ill-conditioned matrix (rcond=1.00418e-16): result may not be accurate.\n",
      "  return linalg.solve(A, Xy, sym_pos=True,\n",
      "/home/newdriver/Storage/HomeDir/Learning/spectrometer_nn/Rreg/venv/lib/python3.8/site-packages/sklearn/linear_model/_ridge.py:147: LinAlgWarning: Ill-conditioned matrix (rcond=1.0254e-16): result may not be accurate.\n",
      "  return linalg.solve(A, Xy, sym_pos=True,\n",
      "/home/newdriver/Storage/HomeDir/Learning/spectrometer_nn/Rreg/venv/lib/python3.8/site-packages/sklearn/linear_model/_ridge.py:147: LinAlgWarning: Ill-conditioned matrix (rcond=1.09101e-16): result may not be accurate.\n",
      "  return linalg.solve(A, Xy, sym_pos=True,\n",
      "/home/newdriver/Storage/HomeDir/Learning/spectrometer_nn/Rreg/venv/lib/python3.8/site-packages/sklearn/linear_model/_ridge.py:147: LinAlgWarning: Ill-conditioned matrix (rcond=9.76335e-17): result may not be accurate.\n",
      "  return linalg.solve(A, Xy, sym_pos=True,\n",
      "/home/newdriver/Storage/HomeDir/Learning/spectrometer_nn/Rreg/venv/lib/python3.8/site-packages/sklearn/linear_model/_ridge.py:147: LinAlgWarning: Ill-conditioned matrix (rcond=9.92813e-17): result may not be accurate.\n",
      "  return linalg.solve(A, Xy, sym_pos=True,\n",
      "/home/newdriver/Storage/HomeDir/Learning/spectrometer_nn/Rreg/venv/lib/python3.8/site-packages/sklearn/linear_model/_ridge.py:147: LinAlgWarning: Ill-conditioned matrix (rcond=1.06679e-16): result may not be accurate.\n",
      "  return linalg.solve(A, Xy, sym_pos=True,\n",
      "/home/newdriver/Storage/HomeDir/Learning/spectrometer_nn/Rreg/venv/lib/python3.8/site-packages/sklearn/linear_model/_ridge.py:147: LinAlgWarning: Ill-conditioned matrix (rcond=9.14024e-17): result may not be accurate.\n",
      "  return linalg.solve(A, Xy, sym_pos=True,\n",
      "/home/newdriver/Storage/HomeDir/Learning/spectrometer_nn/Rreg/venv/lib/python3.8/site-packages/sklearn/linear_model/_ridge.py:147: LinAlgWarning: Ill-conditioned matrix (rcond=1.04977e-16): result may not be accurate.\n",
      "  return linalg.solve(A, Xy, sym_pos=True,\n",
      "/home/newdriver/Storage/HomeDir/Learning/spectrometer_nn/Rreg/venv/lib/python3.8/site-packages/sklearn/linear_model/_ridge.py:147: LinAlgWarning: Ill-conditioned matrix (rcond=9.75881e-17): result may not be accurate.\n",
      "  return linalg.solve(A, Xy, sym_pos=True,\n",
      "/home/newdriver/Storage/HomeDir/Learning/spectrometer_nn/Rreg/venv/lib/python3.8/site-packages/sklearn/linear_model/_ridge.py:147: LinAlgWarning: Ill-conditioned matrix (rcond=9.87445e-17): result may not be accurate.\n",
      "  return linalg.solve(A, Xy, sym_pos=True,\n",
      "/home/newdriver/Storage/HomeDir/Learning/spectrometer_nn/Rreg/venv/lib/python3.8/site-packages/sklearn/linear_model/_ridge.py:147: LinAlgWarning: Ill-conditioned matrix (rcond=9.52605e-17): result may not be accurate.\n",
      "  return linalg.solve(A, Xy, sym_pos=True,\n",
      "/home/newdriver/Storage/HomeDir/Learning/spectrometer_nn/Rreg/venv/lib/python3.8/site-packages/sklearn/linear_model/_ridge.py:147: LinAlgWarning: Ill-conditioned matrix (rcond=9.46999e-17): result may not be accurate.\n",
      "  return linalg.solve(A, Xy, sym_pos=True,\n",
      "/home/newdriver/Storage/HomeDir/Learning/spectrometer_nn/Rreg/venv/lib/python3.8/site-packages/sklearn/linear_model/_ridge.py:147: LinAlgWarning: Ill-conditioned matrix (rcond=9.46048e-17): result may not be accurate.\n",
      "  return linalg.solve(A, Xy, sym_pos=True,\n",
      "/home/newdriver/Storage/HomeDir/Learning/spectrometer_nn/Rreg/venv/lib/python3.8/site-packages/sklearn/linear_model/_ridge.py:147: LinAlgWarning: Ill-conditioned matrix (rcond=9.84849e-17): result may not be accurate.\n",
      "  return linalg.solve(A, Xy, sym_pos=True,\n",
      "/home/newdriver/Storage/HomeDir/Learning/spectrometer_nn/Rreg/venv/lib/python3.8/site-packages/sklearn/linear_model/_ridge.py:147: LinAlgWarning: Ill-conditioned matrix (rcond=1.01216e-16): result may not be accurate.\n",
      "  return linalg.solve(A, Xy, sym_pos=True,\n",
      "/home/newdriver/Storage/HomeDir/Learning/spectrometer_nn/Rreg/venv/lib/python3.8/site-packages/sklearn/linear_model/_ridge.py:147: LinAlgWarning: Ill-conditioned matrix (rcond=1.0602e-16): result may not be accurate.\n",
      "  return linalg.solve(A, Xy, sym_pos=True,\n",
      "/home/newdriver/Storage/HomeDir/Learning/spectrometer_nn/Rreg/venv/lib/python3.8/site-packages/sklearn/linear_model/_ridge.py:147: LinAlgWarning: Ill-conditioned matrix (rcond=1.08589e-16): result may not be accurate.\n",
      "  return linalg.solve(A, Xy, sym_pos=True,\n",
      "/home/newdriver/Storage/HomeDir/Learning/spectrometer_nn/Rreg/venv/lib/python3.8/site-packages/sklearn/linear_model/_ridge.py:147: LinAlgWarning: Ill-conditioned matrix (rcond=1.09949e-16): result may not be accurate.\n",
      "  return linalg.solve(A, Xy, sym_pos=True,\n",
      "/home/newdriver/Storage/HomeDir/Learning/spectrometer_nn/Rreg/venv/lib/python3.8/site-packages/sklearn/linear_model/_ridge.py:147: LinAlgWarning: Ill-conditioned matrix (rcond=1.08766e-16): result may not be accurate.\n",
      "  return linalg.solve(A, Xy, sym_pos=True,\n",
      "/home/newdriver/Storage/HomeDir/Learning/spectrometer_nn/Rreg/venv/lib/python3.8/site-packages/sklearn/linear_model/_ridge.py:147: LinAlgWarning: Ill-conditioned matrix (rcond=1.10399e-16): result may not be accurate.\n",
      "  return linalg.solve(A, Xy, sym_pos=True,\n",
      "/home/newdriver/Storage/HomeDir/Learning/spectrometer_nn/Rreg/venv/lib/python3.8/site-packages/sklearn/linear_model/_ridge.py:147: LinAlgWarning: Ill-conditioned matrix (rcond=1.01221e-16): result may not be accurate.\n",
      "  return linalg.solve(A, Xy, sym_pos=True,\n",
      "/home/newdriver/Storage/HomeDir/Learning/spectrometer_nn/Rreg/venv/lib/python3.8/site-packages/sklearn/linear_model/_ridge.py:147: LinAlgWarning: Ill-conditioned matrix (rcond=1.08063e-16): result may not be accurate.\n",
      "  return linalg.solve(A, Xy, sym_pos=True,\n",
      "/home/newdriver/Storage/HomeDir/Learning/spectrometer_nn/Rreg/venv/lib/python3.8/site-packages/sklearn/linear_model/_ridge.py:147: LinAlgWarning: Ill-conditioned matrix (rcond=1.06365e-16): result may not be accurate.\n",
      "  return linalg.solve(A, Xy, sym_pos=True,\n",
      "/home/newdriver/Storage/HomeDir/Learning/spectrometer_nn/Rreg/venv/lib/python3.8/site-packages/sklearn/linear_model/_ridge.py:147: LinAlgWarning: Ill-conditioned matrix (rcond=1.06719e-16): result may not be accurate.\n",
      "  return linalg.solve(A, Xy, sym_pos=True,\n",
      "/home/newdriver/Storage/HomeDir/Learning/spectrometer_nn/Rreg/venv/lib/python3.8/site-packages/sklearn/linear_model/_ridge.py:147: LinAlgWarning: Ill-conditioned matrix (rcond=1.1081e-16): result may not be accurate.\n",
      "  return linalg.solve(A, Xy, sym_pos=True,\n",
      "/home/newdriver/Storage/HomeDir/Learning/spectrometer_nn/Rreg/venv/lib/python3.8/site-packages/sklearn/linear_model/_ridge.py:147: LinAlgWarning: Ill-conditioned matrix (rcond=1.09023e-16): result may not be accurate.\n",
      "  return linalg.solve(A, Xy, sym_pos=True,\n",
      "/home/newdriver/Storage/HomeDir/Learning/spectrometer_nn/Rreg/venv/lib/python3.8/site-packages/sklearn/linear_model/_ridge.py:147: LinAlgWarning: Ill-conditioned matrix (rcond=1.05894e-16): result may not be accurate.\n",
      "  return linalg.solve(A, Xy, sym_pos=True,\n",
      "/home/newdriver/Storage/HomeDir/Learning/spectrometer_nn/Rreg/venv/lib/python3.8/site-packages/sklearn/linear_model/_ridge.py:147: LinAlgWarning: Ill-conditioned matrix (rcond=9.98344e-17): result may not be accurate.\n",
      "  return linalg.solve(A, Xy, sym_pos=True,\n",
      "/home/newdriver/Storage/HomeDir/Learning/spectrometer_nn/Rreg/venv/lib/python3.8/site-packages/sklearn/linear_model/_ridge.py:147: LinAlgWarning: Ill-conditioned matrix (rcond=1.04988e-16): result may not be accurate.\n",
      "  return linalg.solve(A, Xy, sym_pos=True,\n",
      "/home/newdriver/Storage/HomeDir/Learning/spectrometer_nn/Rreg/venv/lib/python3.8/site-packages/sklearn/linear_model/_ridge.py:147: LinAlgWarning: Ill-conditioned matrix (rcond=1.02522e-16): result may not be accurate.\n",
      "  return linalg.solve(A, Xy, sym_pos=True,\n",
      "/home/newdriver/Storage/HomeDir/Learning/spectrometer_nn/Rreg/venv/lib/python3.8/site-packages/sklearn/linear_model/_ridge.py:147: LinAlgWarning: Ill-conditioned matrix (rcond=1.08503e-16): result may not be accurate.\n",
      "  return linalg.solve(A, Xy, sym_pos=True,\n",
      "/home/newdriver/Storage/HomeDir/Learning/spectrometer_nn/Rreg/venv/lib/python3.8/site-packages/sklearn/linear_model/_ridge.py:147: LinAlgWarning: Ill-conditioned matrix (rcond=1.03046e-16): result may not be accurate.\n",
      "  return linalg.solve(A, Xy, sym_pos=True,\n",
      "/home/newdriver/Storage/HomeDir/Learning/spectrometer_nn/Rreg/venv/lib/python3.8/site-packages/sklearn/linear_model/_ridge.py:147: LinAlgWarning: Ill-conditioned matrix (rcond=1.03858e-16): result may not be accurate.\n",
      "  return linalg.solve(A, Xy, sym_pos=True,\n",
      "/home/newdriver/Storage/HomeDir/Learning/spectrometer_nn/Rreg/venv/lib/python3.8/site-packages/sklearn/linear_model/_ridge.py:147: LinAlgWarning: Ill-conditioned matrix (rcond=1.05035e-16): result may not be accurate.\n",
      "  return linalg.solve(A, Xy, sym_pos=True,\n",
      "/home/newdriver/Storage/HomeDir/Learning/spectrometer_nn/Rreg/venv/lib/python3.8/site-packages/sklearn/linear_model/_ridge.py:147: LinAlgWarning: Ill-conditioned matrix (rcond=1.05323e-16): result may not be accurate.\n",
      "  return linalg.solve(A, Xy, sym_pos=True,\n",
      "/home/newdriver/Storage/HomeDir/Learning/spectrometer_nn/Rreg/venv/lib/python3.8/site-packages/sklearn/linear_model/_ridge.py:147: LinAlgWarning: Ill-conditioned matrix (rcond=1.09546e-16): result may not be accurate.\n",
      "  return linalg.solve(A, Xy, sym_pos=True,\n",
      "/home/newdriver/Storage/HomeDir/Learning/spectrometer_nn/Rreg/venv/lib/python3.8/site-packages/sklearn/linear_model/_ridge.py:147: LinAlgWarning: Ill-conditioned matrix (rcond=1.09674e-16): result may not be accurate.\n",
      "  return linalg.solve(A, Xy, sym_pos=True,\n",
      "/home/newdriver/Storage/HomeDir/Learning/spectrometer_nn/Rreg/venv/lib/python3.8/site-packages/sklearn/linear_model/_ridge.py:147: LinAlgWarning: Ill-conditioned matrix (rcond=1.09375e-16): result may not be accurate.\n",
      "  return linalg.solve(A, Xy, sym_pos=True,\n",
      "/home/newdriver/Storage/HomeDir/Learning/spectrometer_nn/Rreg/venv/lib/python3.8/site-packages/sklearn/linear_model/_ridge.py:147: LinAlgWarning: Ill-conditioned matrix (rcond=1.1024e-16): result may not be accurate.\n",
      "  return linalg.solve(A, Xy, sym_pos=True,\n",
      "/home/newdriver/Storage/HomeDir/Learning/spectrometer_nn/Rreg/venv/lib/python3.8/site-packages/sklearn/linear_model/_ridge.py:147: LinAlgWarning: Ill-conditioned matrix (rcond=1.08182e-16): result may not be accurate.\n",
      "  return linalg.solve(A, Xy, sym_pos=True,\n",
      "/home/newdriver/Storage/HomeDir/Learning/spectrometer_nn/Rreg/venv/lib/python3.8/site-packages/sklearn/linear_model/_ridge.py:147: LinAlgWarning: Ill-conditioned matrix (rcond=1.07188e-16): result may not be accurate.\n",
      "  return linalg.solve(A, Xy, sym_pos=True,\n",
      "/home/newdriver/Storage/HomeDir/Learning/spectrometer_nn/Rreg/venv/lib/python3.8/site-packages/sklearn/linear_model/_ridge.py:147: LinAlgWarning: Ill-conditioned matrix (rcond=1.01015e-16): result may not be accurate.\n",
      "  return linalg.solve(A, Xy, sym_pos=True,\n",
      "/home/newdriver/Storage/HomeDir/Learning/spectrometer_nn/Rreg/venv/lib/python3.8/site-packages/sklearn/linear_model/_ridge.py:147: LinAlgWarning: Ill-conditioned matrix (rcond=9.54907e-17): result may not be accurate.\n",
      "  return linalg.solve(A, Xy, sym_pos=True,\n",
      "/home/newdriver/Storage/HomeDir/Learning/spectrometer_nn/Rreg/venv/lib/python3.8/site-packages/sklearn/linear_model/_ridge.py:147: LinAlgWarning: Ill-conditioned matrix (rcond=1.08033e-16): result may not be accurate.\n",
      "  return linalg.solve(A, Xy, sym_pos=True,\n",
      "/home/newdriver/Storage/HomeDir/Learning/spectrometer_nn/Rreg/venv/lib/python3.8/site-packages/sklearn/linear_model/_ridge.py:147: LinAlgWarning: Ill-conditioned matrix (rcond=9.81933e-17): result may not be accurate.\n",
      "  return linalg.solve(A, Xy, sym_pos=True,\n",
      "/home/newdriver/Storage/HomeDir/Learning/spectrometer_nn/Rreg/venv/lib/python3.8/site-packages/sklearn/linear_model/_ridge.py:147: LinAlgWarning: Ill-conditioned matrix (rcond=9.73621e-17): result may not be accurate.\n",
      "  return linalg.solve(A, Xy, sym_pos=True,\n",
      "/home/newdriver/Storage/HomeDir/Learning/spectrometer_nn/Rreg/venv/lib/python3.8/site-packages/sklearn/linear_model/_ridge.py:147: LinAlgWarning: Ill-conditioned matrix (rcond=1.03546e-16): result may not be accurate.\n",
      "  return linalg.solve(A, Xy, sym_pos=True,\n",
      "/home/newdriver/Storage/HomeDir/Learning/spectrometer_nn/Rreg/venv/lib/python3.8/site-packages/sklearn/linear_model/_ridge.py:147: LinAlgWarning: Ill-conditioned matrix (rcond=9.91872e-17): result may not be accurate.\n",
      "  return linalg.solve(A, Xy, sym_pos=True,\n",
      "/home/newdriver/Storage/HomeDir/Learning/spectrometer_nn/Rreg/venv/lib/python3.8/site-packages/sklearn/linear_model/_ridge.py:147: LinAlgWarning: Ill-conditioned matrix (rcond=1.10297e-16): result may not be accurate.\n",
      "  return linalg.solve(A, Xy, sym_pos=True,\n",
      "/home/newdriver/Storage/HomeDir/Learning/spectrometer_nn/Rreg/venv/lib/python3.8/site-packages/sklearn/linear_model/_ridge.py:147: LinAlgWarning: Ill-conditioned matrix (rcond=9.97223e-17): result may not be accurate.\n",
      "  return linalg.solve(A, Xy, sym_pos=True,\n",
      "/home/newdriver/Storage/HomeDir/Learning/spectrometer_nn/Rreg/venv/lib/python3.8/site-packages/sklearn/linear_model/_ridge.py:147: LinAlgWarning: Ill-conditioned matrix (rcond=1.00832e-16): result may not be accurate.\n",
      "  return linalg.solve(A, Xy, sym_pos=True,\n",
      "/home/newdriver/Storage/HomeDir/Learning/spectrometer_nn/Rreg/venv/lib/python3.8/site-packages/sklearn/linear_model/_ridge.py:147: LinAlgWarning: Ill-conditioned matrix (rcond=1.01525e-16): result may not be accurate.\n",
      "  return linalg.solve(A, Xy, sym_pos=True,\n",
      "/home/newdriver/Storage/HomeDir/Learning/spectrometer_nn/Rreg/venv/lib/python3.8/site-packages/sklearn/linear_model/_ridge.py:147: LinAlgWarning: Ill-conditioned matrix (rcond=9.91536e-17): result may not be accurate.\n",
      "  return linalg.solve(A, Xy, sym_pos=True,\n",
      "/home/newdriver/Storage/HomeDir/Learning/spectrometer_nn/Rreg/venv/lib/python3.8/site-packages/sklearn/linear_model/_ridge.py:147: LinAlgWarning: Ill-conditioned matrix (rcond=1.07552e-16): result may not be accurate.\n",
      "  return linalg.solve(A, Xy, sym_pos=True,\n",
      "/home/newdriver/Storage/HomeDir/Learning/spectrometer_nn/Rreg/venv/lib/python3.8/site-packages/sklearn/linear_model/_ridge.py:147: LinAlgWarning: Ill-conditioned matrix (rcond=1.05875e-16): result may not be accurate.\n",
      "  return linalg.solve(A, Xy, sym_pos=True,\n",
      "/home/newdriver/Storage/HomeDir/Learning/spectrometer_nn/Rreg/venv/lib/python3.8/site-packages/sklearn/linear_model/_ridge.py:147: LinAlgWarning: Ill-conditioned matrix (rcond=1.03385e-16): result may not be accurate.\n",
      "  return linalg.solve(A, Xy, sym_pos=True,\n",
      "/home/newdriver/Storage/HomeDir/Learning/spectrometer_nn/Rreg/venv/lib/python3.8/site-packages/sklearn/linear_model/_ridge.py:147: LinAlgWarning: Ill-conditioned matrix (rcond=1.0366e-16): result may not be accurate.\n",
      "  return linalg.solve(A, Xy, sym_pos=True,\n",
      "/home/newdriver/Storage/HomeDir/Learning/spectrometer_nn/Rreg/venv/lib/python3.8/site-packages/sklearn/linear_model/_ridge.py:147: LinAlgWarning: Ill-conditioned matrix (rcond=1.02291e-16): result may not be accurate.\n",
      "  return linalg.solve(A, Xy, sym_pos=True,\n",
      "/home/newdriver/Storage/HomeDir/Learning/spectrometer_nn/Rreg/venv/lib/python3.8/site-packages/sklearn/linear_model/_ridge.py:147: LinAlgWarning: Ill-conditioned matrix (rcond=1.05205e-16): result may not be accurate.\n",
      "  return linalg.solve(A, Xy, sym_pos=True,\n",
      "/home/newdriver/Storage/HomeDir/Learning/spectrometer_nn/Rreg/venv/lib/python3.8/site-packages/sklearn/linear_model/_ridge.py:147: LinAlgWarning: Ill-conditioned matrix (rcond=1.03825e-16): result may not be accurate.\n",
      "  return linalg.solve(A, Xy, sym_pos=True,\n",
      "/home/newdriver/Storage/HomeDir/Learning/spectrometer_nn/Rreg/venv/lib/python3.8/site-packages/sklearn/linear_model/_ridge.py:147: LinAlgWarning: Ill-conditioned matrix (rcond=1.03479e-16): result may not be accurate.\n",
      "  return linalg.solve(A, Xy, sym_pos=True,\n",
      "/home/newdriver/Storage/HomeDir/Learning/spectrometer_nn/Rreg/venv/lib/python3.8/site-packages/sklearn/linear_model/_ridge.py:147: LinAlgWarning: Ill-conditioned matrix (rcond=9.75394e-17): result may not be accurate.\n",
      "  return linalg.solve(A, Xy, sym_pos=True,\n",
      "/home/newdriver/Storage/HomeDir/Learning/spectrometer_nn/Rreg/venv/lib/python3.8/site-packages/sklearn/linear_model/_ridge.py:147: LinAlgWarning: Ill-conditioned matrix (rcond=1.08883e-16): result may not be accurate.\n",
      "  return linalg.solve(A, Xy, sym_pos=True,\n",
      "/home/newdriver/Storage/HomeDir/Learning/spectrometer_nn/Rreg/venv/lib/python3.8/site-packages/sklearn/linear_model/_ridge.py:147: LinAlgWarning: Ill-conditioned matrix (rcond=9.8539e-17): result may not be accurate.\n",
      "  return linalg.solve(A, Xy, sym_pos=True,\n",
      "/home/newdriver/Storage/HomeDir/Learning/spectrometer_nn/Rreg/venv/lib/python3.8/site-packages/sklearn/linear_model/_ridge.py:147: LinAlgWarning: Ill-conditioned matrix (rcond=1.01424e-16): result may not be accurate.\n",
      "  return linalg.solve(A, Xy, sym_pos=True,\n",
      "/home/newdriver/Storage/HomeDir/Learning/spectrometer_nn/Rreg/venv/lib/python3.8/site-packages/sklearn/linear_model/_ridge.py:147: LinAlgWarning: Ill-conditioned matrix (rcond=1.09345e-16): result may not be accurate.\n",
      "  return linalg.solve(A, Xy, sym_pos=True,\n",
      "/home/newdriver/Storage/HomeDir/Learning/spectrometer_nn/Rreg/venv/lib/python3.8/site-packages/sklearn/linear_model/_ridge.py:147: LinAlgWarning: Ill-conditioned matrix (rcond=9.64757e-17): result may not be accurate.\n",
      "  return linalg.solve(A, Xy, sym_pos=True,\n",
      "/home/newdriver/Storage/HomeDir/Learning/spectrometer_nn/Rreg/venv/lib/python3.8/site-packages/sklearn/linear_model/_ridge.py:147: LinAlgWarning: Ill-conditioned matrix (rcond=9.8529e-17): result may not be accurate.\n",
      "  return linalg.solve(A, Xy, sym_pos=True,\n",
      "/home/newdriver/Storage/HomeDir/Learning/spectrometer_nn/Rreg/venv/lib/python3.8/site-packages/sklearn/linear_model/_ridge.py:147: LinAlgWarning: Ill-conditioned matrix (rcond=1.05111e-16): result may not be accurate.\n",
      "  return linalg.solve(A, Xy, sym_pos=True,\n",
      "/home/newdriver/Storage/HomeDir/Learning/spectrometer_nn/Rreg/venv/lib/python3.8/site-packages/sklearn/linear_model/_ridge.py:147: LinAlgWarning: Ill-conditioned matrix (rcond=1.08833e-16): result may not be accurate.\n",
      "  return linalg.solve(A, Xy, sym_pos=True,\n",
      "/home/newdriver/Storage/HomeDir/Learning/spectrometer_nn/Rreg/venv/lib/python3.8/site-packages/sklearn/linear_model/_ridge.py:147: LinAlgWarning: Ill-conditioned matrix (rcond=1.10231e-16): result may not be accurate.\n",
      "  return linalg.solve(A, Xy, sym_pos=True,\n",
      "/home/newdriver/Storage/HomeDir/Learning/spectrometer_nn/Rreg/venv/lib/python3.8/site-packages/sklearn/linear_model/_ridge.py:147: LinAlgWarning: Ill-conditioned matrix (rcond=1.02379e-16): result may not be accurate.\n",
      "  return linalg.solve(A, Xy, sym_pos=True,\n",
      "/home/newdriver/Storage/HomeDir/Learning/spectrometer_nn/Rreg/venv/lib/python3.8/site-packages/sklearn/linear_model/_ridge.py:147: LinAlgWarning: Ill-conditioned matrix (rcond=1.03475e-16): result may not be accurate.\n",
      "  return linalg.solve(A, Xy, sym_pos=True,\n",
      "/home/newdriver/Storage/HomeDir/Learning/spectrometer_nn/Rreg/venv/lib/python3.8/site-packages/sklearn/linear_model/_ridge.py:147: LinAlgWarning: Ill-conditioned matrix (rcond=1.02526e-16): result may not be accurate.\n",
      "  return linalg.solve(A, Xy, sym_pos=True,\n",
      "/home/newdriver/Storage/HomeDir/Learning/spectrometer_nn/Rreg/venv/lib/python3.8/site-packages/sklearn/linear_model/_ridge.py:147: LinAlgWarning: Ill-conditioned matrix (rcond=1.02649e-16): result may not be accurate.\n",
      "  return linalg.solve(A, Xy, sym_pos=True,\n",
      "/home/newdriver/Storage/HomeDir/Learning/spectrometer_nn/Rreg/venv/lib/python3.8/site-packages/sklearn/linear_model/_ridge.py:147: LinAlgWarning: Ill-conditioned matrix (rcond=1.10177e-16): result may not be accurate.\n",
      "  return linalg.solve(A, Xy, sym_pos=True,\n",
      "/home/newdriver/Storage/HomeDir/Learning/spectrometer_nn/Rreg/venv/lib/python3.8/site-packages/sklearn/linear_model/_ridge.py:147: LinAlgWarning: Ill-conditioned matrix (rcond=9.66208e-17): result may not be accurate.\n",
      "  return linalg.solve(A, Xy, sym_pos=True,\n",
      "/home/newdriver/Storage/HomeDir/Learning/spectrometer_nn/Rreg/venv/lib/python3.8/site-packages/sklearn/linear_model/_ridge.py:147: LinAlgWarning: Ill-conditioned matrix (rcond=1.01515e-16): result may not be accurate.\n",
      "  return linalg.solve(A, Xy, sym_pos=True,\n",
      "/home/newdriver/Storage/HomeDir/Learning/spectrometer_nn/Rreg/venv/lib/python3.8/site-packages/sklearn/linear_model/_ridge.py:147: LinAlgWarning: Ill-conditioned matrix (rcond=9.76624e-17): result may not be accurate.\n",
      "  return linalg.solve(A, Xy, sym_pos=True,\n",
      "/home/newdriver/Storage/HomeDir/Learning/spectrometer_nn/Rreg/venv/lib/python3.8/site-packages/sklearn/linear_model/_ridge.py:147: LinAlgWarning: Ill-conditioned matrix (rcond=1.05973e-16): result may not be accurate.\n",
      "  return linalg.solve(A, Xy, sym_pos=True,\n",
      "/home/newdriver/Storage/HomeDir/Learning/spectrometer_nn/Rreg/venv/lib/python3.8/site-packages/sklearn/linear_model/_ridge.py:147: LinAlgWarning: Ill-conditioned matrix (rcond=9.59607e-17): result may not be accurate.\n",
      "  return linalg.solve(A, Xy, sym_pos=True,\n",
      "/home/newdriver/Storage/HomeDir/Learning/spectrometer_nn/Rreg/venv/lib/python3.8/site-packages/sklearn/linear_model/_ridge.py:147: LinAlgWarning: Ill-conditioned matrix (rcond=1.00418e-16): result may not be accurate.\n",
      "  return linalg.solve(A, Xy, sym_pos=True,\n",
      "/home/newdriver/Storage/HomeDir/Learning/spectrometer_nn/Rreg/venv/lib/python3.8/site-packages/sklearn/linear_model/_ridge.py:147: LinAlgWarning: Ill-conditioned matrix (rcond=1.0254e-16): result may not be accurate.\n",
      "  return linalg.solve(A, Xy, sym_pos=True,\n",
      "/home/newdriver/Storage/HomeDir/Learning/spectrometer_nn/Rreg/venv/lib/python3.8/site-packages/sklearn/linear_model/_ridge.py:147: LinAlgWarning: Ill-conditioned matrix (rcond=1.09101e-16): result may not be accurate.\n",
      "  return linalg.solve(A, Xy, sym_pos=True,\n",
      "/home/newdriver/Storage/HomeDir/Learning/spectrometer_nn/Rreg/venv/lib/python3.8/site-packages/sklearn/linear_model/_ridge.py:147: LinAlgWarning: Ill-conditioned matrix (rcond=9.76335e-17): result may not be accurate.\n",
      "  return linalg.solve(A, Xy, sym_pos=True,\n",
      "/home/newdriver/Storage/HomeDir/Learning/spectrometer_nn/Rreg/venv/lib/python3.8/site-packages/sklearn/linear_model/_ridge.py:147: LinAlgWarning: Ill-conditioned matrix (rcond=9.92813e-17): result may not be accurate.\n",
      "  return linalg.solve(A, Xy, sym_pos=True,\n",
      "/home/newdriver/Storage/HomeDir/Learning/spectrometer_nn/Rreg/venv/lib/python3.8/site-packages/sklearn/linear_model/_ridge.py:147: LinAlgWarning: Ill-conditioned matrix (rcond=1.06679e-16): result may not be accurate.\n",
      "  return linalg.solve(A, Xy, sym_pos=True,\n",
      "/home/newdriver/Storage/HomeDir/Learning/spectrometer_nn/Rreg/venv/lib/python3.8/site-packages/sklearn/linear_model/_ridge.py:147: LinAlgWarning: Ill-conditioned matrix (rcond=1.04977e-16): result may not be accurate.\n",
      "  return linalg.solve(A, Xy, sym_pos=True,\n",
      "/home/newdriver/Storage/HomeDir/Learning/spectrometer_nn/Rreg/venv/lib/python3.8/site-packages/sklearn/linear_model/_ridge.py:147: LinAlgWarning: Ill-conditioned matrix (rcond=9.75881e-17): result may not be accurate.\n",
      "  return linalg.solve(A, Xy, sym_pos=True,\n",
      "/home/newdriver/Storage/HomeDir/Learning/spectrometer_nn/Rreg/venv/lib/python3.8/site-packages/sklearn/linear_model/_ridge.py:147: LinAlgWarning: Ill-conditioned matrix (rcond=9.87445e-17): result may not be accurate.\n",
      "  return linalg.solve(A, Xy, sym_pos=True,\n",
      "/home/newdriver/Storage/HomeDir/Learning/spectrometer_nn/Rreg/venv/lib/python3.8/site-packages/sklearn/linear_model/_ridge.py:147: LinAlgWarning: Ill-conditioned matrix (rcond=9.52605e-17): result may not be accurate.\n",
      "  return linalg.solve(A, Xy, sym_pos=True,\n",
      "/home/newdriver/Storage/HomeDir/Learning/spectrometer_nn/Rreg/venv/lib/python3.8/site-packages/sklearn/linear_model/_ridge.py:147: LinAlgWarning: Ill-conditioned matrix (rcond=9.46999e-17): result may not be accurate.\n",
      "  return linalg.solve(A, Xy, sym_pos=True,\n",
      "/home/newdriver/Storage/HomeDir/Learning/spectrometer_nn/Rreg/venv/lib/python3.8/site-packages/sklearn/linear_model/_ridge.py:147: LinAlgWarning: Ill-conditioned matrix (rcond=9.46048e-17): result may not be accurate.\n",
      "  return linalg.solve(A, Xy, sym_pos=True,\n",
      "/home/newdriver/Storage/HomeDir/Learning/spectrometer_nn/Rreg/venv/lib/python3.8/site-packages/sklearn/linear_model/_ridge.py:147: LinAlgWarning: Ill-conditioned matrix (rcond=9.84849e-17): result may not be accurate.\n",
      "  return linalg.solve(A, Xy, sym_pos=True,\n",
      "/home/newdriver/Storage/HomeDir/Learning/spectrometer_nn/Rreg/venv/lib/python3.8/site-packages/sklearn/linear_model/_ridge.py:147: LinAlgWarning: Ill-conditioned matrix (rcond=1.01216e-16): result may not be accurate.\n",
      "  return linalg.solve(A, Xy, sym_pos=True,\n",
      "/home/newdriver/Storage/HomeDir/Learning/spectrometer_nn/Rreg/venv/lib/python3.8/site-packages/sklearn/linear_model/_ridge.py:147: LinAlgWarning: Ill-conditioned matrix (rcond=1.0602e-16): result may not be accurate.\n",
      "  return linalg.solve(A, Xy, sym_pos=True,\n",
      "/home/newdriver/Storage/HomeDir/Learning/spectrometer_nn/Rreg/venv/lib/python3.8/site-packages/sklearn/linear_model/_ridge.py:147: LinAlgWarning: Ill-conditioned matrix (rcond=1.08589e-16): result may not be accurate.\n",
      "  return linalg.solve(A, Xy, sym_pos=True,\n",
      "/home/newdriver/Storage/HomeDir/Learning/spectrometer_nn/Rreg/venv/lib/python3.8/site-packages/sklearn/linear_model/_ridge.py:147: LinAlgWarning: Ill-conditioned matrix (rcond=1.09949e-16): result may not be accurate.\n",
      "  return linalg.solve(A, Xy, sym_pos=True,\n",
      "/home/newdriver/Storage/HomeDir/Learning/spectrometer_nn/Rreg/venv/lib/python3.8/site-packages/sklearn/linear_model/_ridge.py:147: LinAlgWarning: Ill-conditioned matrix (rcond=1.08766e-16): result may not be accurate.\n",
      "  return linalg.solve(A, Xy, sym_pos=True,\n",
      "/home/newdriver/Storage/HomeDir/Learning/spectrometer_nn/Rreg/venv/lib/python3.8/site-packages/sklearn/linear_model/_ridge.py:147: LinAlgWarning: Ill-conditioned matrix (rcond=1.10399e-16): result may not be accurate.\n",
      "  return linalg.solve(A, Xy, sym_pos=True,\n",
      "/home/newdriver/Storage/HomeDir/Learning/spectrometer_nn/Rreg/venv/lib/python3.8/site-packages/sklearn/linear_model/_ridge.py:147: LinAlgWarning: Ill-conditioned matrix (rcond=1.08063e-16): result may not be accurate.\n",
      "  return linalg.solve(A, Xy, sym_pos=True,\n",
      "/home/newdriver/Storage/HomeDir/Learning/spectrometer_nn/Rreg/venv/lib/python3.8/site-packages/sklearn/linear_model/_ridge.py:147: LinAlgWarning: Ill-conditioned matrix (rcond=1.06365e-16): result may not be accurate.\n",
      "  return linalg.solve(A, Xy, sym_pos=True,\n",
      "/home/newdriver/Storage/HomeDir/Learning/spectrometer_nn/Rreg/venv/lib/python3.8/site-packages/sklearn/linear_model/_ridge.py:147: LinAlgWarning: Ill-conditioned matrix (rcond=1.06719e-16): result may not be accurate.\n",
      "  return linalg.solve(A, Xy, sym_pos=True,\n",
      "/home/newdriver/Storage/HomeDir/Learning/spectrometer_nn/Rreg/venv/lib/python3.8/site-packages/sklearn/linear_model/_ridge.py:147: LinAlgWarning: Ill-conditioned matrix (rcond=1.1081e-16): result may not be accurate.\n",
      "  return linalg.solve(A, Xy, sym_pos=True,\n",
      "/home/newdriver/Storage/HomeDir/Learning/spectrometer_nn/Rreg/venv/lib/python3.8/site-packages/sklearn/linear_model/_ridge.py:147: LinAlgWarning: Ill-conditioned matrix (rcond=1.09023e-16): result may not be accurate.\n",
      "  return linalg.solve(A, Xy, sym_pos=True,\n",
      "/home/newdriver/Storage/HomeDir/Learning/spectrometer_nn/Rreg/venv/lib/python3.8/site-packages/sklearn/linear_model/_ridge.py:147: LinAlgWarning: Ill-conditioned matrix (rcond=1.05894e-16): result may not be accurate.\n",
      "  return linalg.solve(A, Xy, sym_pos=True,\n",
      "/home/newdriver/Storage/HomeDir/Learning/spectrometer_nn/Rreg/venv/lib/python3.8/site-packages/sklearn/linear_model/_ridge.py:147: LinAlgWarning: Ill-conditioned matrix (rcond=9.98344e-17): result may not be accurate.\n",
      "  return linalg.solve(A, Xy, sym_pos=True,\n",
      "/home/newdriver/Storage/HomeDir/Learning/spectrometer_nn/Rreg/venv/lib/python3.8/site-packages/sklearn/linear_model/_ridge.py:147: LinAlgWarning: Ill-conditioned matrix (rcond=1.04988e-16): result may not be accurate.\n",
      "  return linalg.solve(A, Xy, sym_pos=True,\n",
      "/home/newdriver/Storage/HomeDir/Learning/spectrometer_nn/Rreg/venv/lib/python3.8/site-packages/sklearn/linear_model/_ridge.py:147: LinAlgWarning: Ill-conditioned matrix (rcond=1.02522e-16): result may not be accurate.\n",
      "  return linalg.solve(A, Xy, sym_pos=True,\n",
      "/home/newdriver/Storage/HomeDir/Learning/spectrometer_nn/Rreg/venv/lib/python3.8/site-packages/sklearn/linear_model/_ridge.py:147: LinAlgWarning: Ill-conditioned matrix (rcond=1.08503e-16): result may not be accurate.\n",
      "  return linalg.solve(A, Xy, sym_pos=True,\n",
      "/home/newdriver/Storage/HomeDir/Learning/spectrometer_nn/Rreg/venv/lib/python3.8/site-packages/sklearn/linear_model/_ridge.py:147: LinAlgWarning: Ill-conditioned matrix (rcond=1.03046e-16): result may not be accurate.\n",
      "  return linalg.solve(A, Xy, sym_pos=True,\n",
      "/home/newdriver/Storage/HomeDir/Learning/spectrometer_nn/Rreg/venv/lib/python3.8/site-packages/sklearn/linear_model/_ridge.py:147: LinAlgWarning: Ill-conditioned matrix (rcond=1.03858e-16): result may not be accurate.\n",
      "  return linalg.solve(A, Xy, sym_pos=True,\n",
      "/home/newdriver/Storage/HomeDir/Learning/spectrometer_nn/Rreg/venv/lib/python3.8/site-packages/sklearn/linear_model/_ridge.py:147: LinAlgWarning: Ill-conditioned matrix (rcond=1.05035e-16): result may not be accurate.\n",
      "  return linalg.solve(A, Xy, sym_pos=True,\n",
      "/home/newdriver/Storage/HomeDir/Learning/spectrometer_nn/Rreg/venv/lib/python3.8/site-packages/sklearn/linear_model/_ridge.py:147: LinAlgWarning: Ill-conditioned matrix (rcond=1.05323e-16): result may not be accurate.\n",
      "  return linalg.solve(A, Xy, sym_pos=True,\n",
      "/home/newdriver/Storage/HomeDir/Learning/spectrometer_nn/Rreg/venv/lib/python3.8/site-packages/sklearn/linear_model/_ridge.py:147: LinAlgWarning: Ill-conditioned matrix (rcond=1.09546e-16): result may not be accurate.\n",
      "  return linalg.solve(A, Xy, sym_pos=True,\n",
      "/home/newdriver/Storage/HomeDir/Learning/spectrometer_nn/Rreg/venv/lib/python3.8/site-packages/sklearn/linear_model/_ridge.py:147: LinAlgWarning: Ill-conditioned matrix (rcond=1.09674e-16): result may not be accurate.\n",
      "  return linalg.solve(A, Xy, sym_pos=True,\n",
      "/home/newdriver/Storage/HomeDir/Learning/spectrometer_nn/Rreg/venv/lib/python3.8/site-packages/sklearn/linear_model/_ridge.py:147: LinAlgWarning: Ill-conditioned matrix (rcond=1.09375e-16): result may not be accurate.\n",
      "  return linalg.solve(A, Xy, sym_pos=True,\n",
      "/home/newdriver/Storage/HomeDir/Learning/spectrometer_nn/Rreg/venv/lib/python3.8/site-packages/sklearn/linear_model/_ridge.py:147: LinAlgWarning: Ill-conditioned matrix (rcond=1.1024e-16): result may not be accurate.\n",
      "  return linalg.solve(A, Xy, sym_pos=True,\n",
      "/home/newdriver/Storage/HomeDir/Learning/spectrometer_nn/Rreg/venv/lib/python3.8/site-packages/sklearn/linear_model/_ridge.py:147: LinAlgWarning: Ill-conditioned matrix (rcond=1.08182e-16): result may not be accurate.\n",
      "  return linalg.solve(A, Xy, sym_pos=True,\n",
      "/home/newdriver/Storage/HomeDir/Learning/spectrometer_nn/Rreg/venv/lib/python3.8/site-packages/sklearn/linear_model/_ridge.py:147: LinAlgWarning: Ill-conditioned matrix (rcond=1.07188e-16): result may not be accurate.\n",
      "  return linalg.solve(A, Xy, sym_pos=True,\n",
      "/home/newdriver/Storage/HomeDir/Learning/spectrometer_nn/Rreg/venv/lib/python3.8/site-packages/sklearn/linear_model/_ridge.py:147: LinAlgWarning: Ill-conditioned matrix (rcond=1.01015e-16): result may not be accurate.\n",
      "  return linalg.solve(A, Xy, sym_pos=True,\n",
      "/home/newdriver/Storage/HomeDir/Learning/spectrometer_nn/Rreg/venv/lib/python3.8/site-packages/sklearn/linear_model/_ridge.py:147: LinAlgWarning: Ill-conditioned matrix (rcond=9.54907e-17): result may not be accurate.\n",
      "  return linalg.solve(A, Xy, sym_pos=True,\n",
      "/home/newdriver/Storage/HomeDir/Learning/spectrometer_nn/Rreg/venv/lib/python3.8/site-packages/sklearn/linear_model/_ridge.py:147: LinAlgWarning: Ill-conditioned matrix (rcond=1.08033e-16): result may not be accurate.\n",
      "  return linalg.solve(A, Xy, sym_pos=True,\n",
      "/home/newdriver/Storage/HomeDir/Learning/spectrometer_nn/Rreg/venv/lib/python3.8/site-packages/sklearn/linear_model/_ridge.py:147: LinAlgWarning: Ill-conditioned matrix (rcond=9.81933e-17): result may not be accurate.\n",
      "  return linalg.solve(A, Xy, sym_pos=True,\n",
      "/home/newdriver/Storage/HomeDir/Learning/spectrometer_nn/Rreg/venv/lib/python3.8/site-packages/sklearn/linear_model/_ridge.py:147: LinAlgWarning: Ill-conditioned matrix (rcond=9.73621e-17): result may not be accurate.\n",
      "  return linalg.solve(A, Xy, sym_pos=True,\n",
      "/home/newdriver/Storage/HomeDir/Learning/spectrometer_nn/Rreg/venv/lib/python3.8/site-packages/sklearn/linear_model/_ridge.py:147: LinAlgWarning: Ill-conditioned matrix (rcond=1.03546e-16): result may not be accurate.\n",
      "  return linalg.solve(A, Xy, sym_pos=True,\n",
      "/home/newdriver/Storage/HomeDir/Learning/spectrometer_nn/Rreg/venv/lib/python3.8/site-packages/sklearn/linear_model/_ridge.py:147: LinAlgWarning: Ill-conditioned matrix (rcond=9.91872e-17): result may not be accurate.\n",
      "  return linalg.solve(A, Xy, sym_pos=True,\n",
      "/home/newdriver/Storage/HomeDir/Learning/spectrometer_nn/Rreg/venv/lib/python3.8/site-packages/sklearn/linear_model/_ridge.py:147: LinAlgWarning: Ill-conditioned matrix (rcond=1.10297e-16): result may not be accurate.\n",
      "  return linalg.solve(A, Xy, sym_pos=True,\n",
      "/home/newdriver/Storage/HomeDir/Learning/spectrometer_nn/Rreg/venv/lib/python3.8/site-packages/sklearn/linear_model/_ridge.py:147: LinAlgWarning: Ill-conditioned matrix (rcond=9.97223e-17): result may not be accurate.\n",
      "  return linalg.solve(A, Xy, sym_pos=True,\n",
      "/home/newdriver/Storage/HomeDir/Learning/spectrometer_nn/Rreg/venv/lib/python3.8/site-packages/sklearn/linear_model/_ridge.py:147: LinAlgWarning: Ill-conditioned matrix (rcond=1.00832e-16): result may not be accurate.\n",
      "  return linalg.solve(A, Xy, sym_pos=True,\n",
      "/home/newdriver/Storage/HomeDir/Learning/spectrometer_nn/Rreg/venv/lib/python3.8/site-packages/sklearn/linear_model/_ridge.py:147: LinAlgWarning: Ill-conditioned matrix (rcond=1.01525e-16): result may not be accurate.\n",
      "  return linalg.solve(A, Xy, sym_pos=True,\n",
      "/home/newdriver/Storage/HomeDir/Learning/spectrometer_nn/Rreg/venv/lib/python3.8/site-packages/sklearn/linear_model/_ridge.py:147: LinAlgWarning: Ill-conditioned matrix (rcond=9.91536e-17): result may not be accurate.\n",
      "  return linalg.solve(A, Xy, sym_pos=True,\n",
      "/home/newdriver/Storage/HomeDir/Learning/spectrometer_nn/Rreg/venv/lib/python3.8/site-packages/sklearn/linear_model/_ridge.py:147: LinAlgWarning: Ill-conditioned matrix (rcond=1.07552e-16): result may not be accurate.\n",
      "  return linalg.solve(A, Xy, sym_pos=True,\n",
      "/home/newdriver/Storage/HomeDir/Learning/spectrometer_nn/Rreg/venv/lib/python3.8/site-packages/sklearn/linear_model/_ridge.py:147: LinAlgWarning: Ill-conditioned matrix (rcond=1.05875e-16): result may not be accurate.\n",
      "  return linalg.solve(A, Xy, sym_pos=True,\n",
      "/home/newdriver/Storage/HomeDir/Learning/spectrometer_nn/Rreg/venv/lib/python3.8/site-packages/sklearn/linear_model/_ridge.py:147: LinAlgWarning: Ill-conditioned matrix (rcond=1.03385e-16): result may not be accurate.\n",
      "  return linalg.solve(A, Xy, sym_pos=True,\n",
      "/home/newdriver/Storage/HomeDir/Learning/spectrometer_nn/Rreg/venv/lib/python3.8/site-packages/sklearn/linear_model/_ridge.py:147: LinAlgWarning: Ill-conditioned matrix (rcond=1.0366e-16): result may not be accurate.\n",
      "  return linalg.solve(A, Xy, sym_pos=True,\n",
      "/home/newdriver/Storage/HomeDir/Learning/spectrometer_nn/Rreg/venv/lib/python3.8/site-packages/sklearn/linear_model/_ridge.py:147: LinAlgWarning: Ill-conditioned matrix (rcond=1.02291e-16): result may not be accurate.\n",
      "  return linalg.solve(A, Xy, sym_pos=True,\n",
      "/home/newdriver/Storage/HomeDir/Learning/spectrometer_nn/Rreg/venv/lib/python3.8/site-packages/sklearn/linear_model/_ridge.py:147: LinAlgWarning: Ill-conditioned matrix (rcond=1.05205e-16): result may not be accurate.\n",
      "  return linalg.solve(A, Xy, sym_pos=True,\n",
      "/home/newdriver/Storage/HomeDir/Learning/spectrometer_nn/Rreg/venv/lib/python3.8/site-packages/sklearn/linear_model/_ridge.py:147: LinAlgWarning: Ill-conditioned matrix (rcond=1.03825e-16): result may not be accurate.\n",
      "  return linalg.solve(A, Xy, sym_pos=True,\n",
      "/home/newdriver/Storage/HomeDir/Learning/spectrometer_nn/Rreg/venv/lib/python3.8/site-packages/sklearn/linear_model/_ridge.py:147: LinAlgWarning: Ill-conditioned matrix (rcond=1.03479e-16): result may not be accurate.\n",
      "  return linalg.solve(A, Xy, sym_pos=True,\n",
      "/home/newdriver/Storage/HomeDir/Learning/spectrometer_nn/Rreg/venv/lib/python3.8/site-packages/sklearn/linear_model/_ridge.py:147: LinAlgWarning: Ill-conditioned matrix (rcond=9.75394e-17): result may not be accurate.\n",
      "  return linalg.solve(A, Xy, sym_pos=True,\n",
      "/home/newdriver/Storage/HomeDir/Learning/spectrometer_nn/Rreg/venv/lib/python3.8/site-packages/sklearn/linear_model/_ridge.py:147: LinAlgWarning: Ill-conditioned matrix (rcond=1.08883e-16): result may not be accurate.\n",
      "  return linalg.solve(A, Xy, sym_pos=True,\n",
      "/home/newdriver/Storage/HomeDir/Learning/spectrometer_nn/Rreg/venv/lib/python3.8/site-packages/sklearn/linear_model/_ridge.py:147: LinAlgWarning: Ill-conditioned matrix (rcond=9.8539e-17): result may not be accurate.\n",
      "  return linalg.solve(A, Xy, sym_pos=True,\n",
      "/home/newdriver/Storage/HomeDir/Learning/spectrometer_nn/Rreg/venv/lib/python3.8/site-packages/sklearn/linear_model/_ridge.py:147: LinAlgWarning: Ill-conditioned matrix (rcond=1.01424e-16): result may not be accurate.\n",
      "  return linalg.solve(A, Xy, sym_pos=True,\n",
      "/home/newdriver/Storage/HomeDir/Learning/spectrometer_nn/Rreg/venv/lib/python3.8/site-packages/sklearn/linear_model/_ridge.py:147: LinAlgWarning: Ill-conditioned matrix (rcond=1.09345e-16): result may not be accurate.\n",
      "  return linalg.solve(A, Xy, sym_pos=True,\n",
      "/home/newdriver/Storage/HomeDir/Learning/spectrometer_nn/Rreg/venv/lib/python3.8/site-packages/sklearn/linear_model/_ridge.py:147: LinAlgWarning: Ill-conditioned matrix (rcond=9.64757e-17): result may not be accurate.\n",
      "  return linalg.solve(A, Xy, sym_pos=True,\n",
      "/home/newdriver/Storage/HomeDir/Learning/spectrometer_nn/Rreg/venv/lib/python3.8/site-packages/sklearn/linear_model/_ridge.py:147: LinAlgWarning: Ill-conditioned matrix (rcond=9.8529e-17): result may not be accurate.\n",
      "  return linalg.solve(A, Xy, sym_pos=True,\n",
      "/home/newdriver/Storage/HomeDir/Learning/spectrometer_nn/Rreg/venv/lib/python3.8/site-packages/sklearn/linear_model/_ridge.py:147: LinAlgWarning: Ill-conditioned matrix (rcond=1.05111e-16): result may not be accurate.\n",
      "  return linalg.solve(A, Xy, sym_pos=True,\n",
      "/home/newdriver/Storage/HomeDir/Learning/spectrometer_nn/Rreg/venv/lib/python3.8/site-packages/sklearn/linear_model/_ridge.py:147: LinAlgWarning: Ill-conditioned matrix (rcond=1.08833e-16): result may not be accurate.\n",
      "  return linalg.solve(A, Xy, sym_pos=True,\n",
      "/home/newdriver/Storage/HomeDir/Learning/spectrometer_nn/Rreg/venv/lib/python3.8/site-packages/sklearn/linear_model/_ridge.py:147: LinAlgWarning: Ill-conditioned matrix (rcond=1.10231e-16): result may not be accurate.\n",
      "  return linalg.solve(A, Xy, sym_pos=True,\n",
      "/home/newdriver/Storage/HomeDir/Learning/spectrometer_nn/Rreg/venv/lib/python3.8/site-packages/sklearn/linear_model/_ridge.py:147: LinAlgWarning: Ill-conditioned matrix (rcond=1.02379e-16): result may not be accurate.\n",
      "  return linalg.solve(A, Xy, sym_pos=True,\n",
      "/home/newdriver/Storage/HomeDir/Learning/spectrometer_nn/Rreg/venv/lib/python3.8/site-packages/sklearn/linear_model/_ridge.py:147: LinAlgWarning: Ill-conditioned matrix (rcond=1.03475e-16): result may not be accurate.\n",
      "  return linalg.solve(A, Xy, sym_pos=True,\n",
      "/home/newdriver/Storage/HomeDir/Learning/spectrometer_nn/Rreg/venv/lib/python3.8/site-packages/sklearn/linear_model/_ridge.py:147: LinAlgWarning: Ill-conditioned matrix (rcond=1.02526e-16): result may not be accurate.\n",
      "  return linalg.solve(A, Xy, sym_pos=True,\n",
      "/home/newdriver/Storage/HomeDir/Learning/spectrometer_nn/Rreg/venv/lib/python3.8/site-packages/sklearn/linear_model/_ridge.py:147: LinAlgWarning: Ill-conditioned matrix (rcond=1.02649e-16): result may not be accurate.\n",
      "  return linalg.solve(A, Xy, sym_pos=True,\n",
      "/home/newdriver/Storage/HomeDir/Learning/spectrometer_nn/Rreg/venv/lib/python3.8/site-packages/sklearn/linear_model/_ridge.py:147: LinAlgWarning: Ill-conditioned matrix (rcond=1.10177e-16): result may not be accurate.\n",
      "  return linalg.solve(A, Xy, sym_pos=True,\n"
     ]
    },
    {
     "name": "stdout",
     "output_type": "stream",
     "text": [
      "Kernel Ridge score: 0.0029 (0.0027), 0.0011 (0.0008)\n",
      "\n"
     ]
    }
   ],
   "source": [
    "rmse_theta = cv_rmse(ridge,X=trainX,y=RealTheta)\n",
    "rmse_phi = cv_rmse(ridge,X=trainX,y=RealPhi)\n",
    "print(\"Kernel Ridge score: {:.4f} ({:.4f}), {:.4f} ({:.4f})\\n\".format(rmse_theta.mean(), rmse_theta.std(), rmse_phi.mean(), rmse_phi.std()))"
   ],
   "metadata": {
    "collapsed": false,
    "pycharm": {
     "name": "#%%\n"
    }
   }
  },
  {
   "cell_type": "code",
   "execution_count": 7,
   "outputs": [
    {
     "name": "stdout",
     "output_type": "stream",
     "text": [
      "Kernel Ridge score: 0.0285 (0.0341), 0.0104 (0.0049)\n",
      "\n"
     ]
    }
   ],
   "source": [
    "rmse_theta = cv_rmse(lasso,X=trainX,y=RealTheta)\n",
    "rmse_phi = cv_rmse(lasso,X=trainX,y=RealPhi)\n",
    "print(\"Kernel Ridge score: {:.4f} ({:.4f}), {:.4f} ({:.4f})\\n\".format(rmse_theta.mean(), rmse_theta.std(), rmse_phi.mean(), rmse_phi.std()))"
   ],
   "metadata": {
    "collapsed": false,
    "pycharm": {
     "name": "#%%\n"
    }
   }
  },
  {
   "cell_type": "code",
   "execution_count": 8,
   "outputs": [
    {
     "name": "stdout",
     "output_type": "stream",
     "text": [
      "Kernel Ridge score: 0.0285 (0.0341), 0.0104 (0.0049)\n",
      "\n"
     ]
    }
   ],
   "source": [
    "rmse_theta = cv_rmse(elasticnet,X=trainX,y=RealTheta)\n",
    "rmse_phi = cv_rmse(elasticnet,X=trainX,y=RealPhi)\n",
    "print(\"Kernel Ridge score: {:.4f} ({:.4f}), {:.4f} ({:.4f})\\n\".format(rmse_theta.mean(), rmse_theta.std(), rmse_phi.mean(), rmse_phi.std()))\n"
   ],
   "metadata": {
    "collapsed": false,
    "pycharm": {
     "name": "#%%\n"
    }
   }
  },
  {
   "cell_type": "markdown",
   "source": [
    "# Train the model with all the dataset and check the performance\n",
    "## train the model with all the dataset"
   ],
   "metadata": {
    "collapsed": false,
    "pycharm": {
     "name": "#%% md\n",
     "is_executing": true
    }
   }
  },
  {
   "cell_type": "code",
   "execution_count": null,
   "outputs": [
    {
     "name": "stdout",
     "output_type": "stream",
     "text": [
      "START FIT\n",
      "2021-04-25 16:08:11.227494 StackingCVRegressor\n"
     ]
    },
    {
     "name": "stderr",
     "output_type": "stream",
     "text": [
      "/home/newdriver/Storage/HomeDir/Learning/spectrometer_nn/Rreg/venv/lib/python3.8/site-packages/sklearn/linear_model/_ridge.py:147: LinAlgWarning: Ill-conditioned matrix (rcond=1.09481e-16): result may not be accurate.\n",
      "  return linalg.solve(A, Xy, sym_pos=True,\n",
      "/home/newdriver/Storage/HomeDir/Learning/spectrometer_nn/Rreg/venv/lib/python3.8/site-packages/sklearn/linear_model/_ridge.py:147: LinAlgWarning: Ill-conditioned matrix (rcond=1.09398e-16): result may not be accurate.\n",
      "  return linalg.solve(A, Xy, sym_pos=True,\n",
      "/home/newdriver/Storage/HomeDir/Learning/spectrometer_nn/Rreg/venv/lib/python3.8/site-packages/sklearn/linear_model/_ridge.py:147: LinAlgWarning: Ill-conditioned matrix (rcond=1.10293e-16): result may not be accurate.\n",
      "  return linalg.solve(A, Xy, sym_pos=True,\n",
      "/home/newdriver/Storage/HomeDir/Learning/spectrometer_nn/Rreg/venv/lib/python3.8/site-packages/sklearn/linear_model/_ridge.py:147: LinAlgWarning: Ill-conditioned matrix (rcond=1.03055e-16): result may not be accurate.\n",
      "  return linalg.solve(A, Xy, sym_pos=True,\n",
      "/home/newdriver/Storage/HomeDir/Learning/spectrometer_nn/Rreg/venv/lib/python3.8/site-packages/sklearn/linear_model/_ridge.py:147: LinAlgWarning: Ill-conditioned matrix (rcond=1.09063e-16): result may not be accurate.\n",
      "  return linalg.solve(A, Xy, sym_pos=True,\n",
      "/home/newdriver/Storage/HomeDir/Learning/spectrometer_nn/Rreg/venv/lib/python3.8/site-packages/sklearn/linear_model/_ridge.py:147: LinAlgWarning: Ill-conditioned matrix (rcond=1.10615e-16): result may not be accurate.\n",
      "  return linalg.solve(A, Xy, sym_pos=True,\n",
      "/home/newdriver/Storage/HomeDir/Learning/spectrometer_nn/Rreg/venv/lib/python3.8/site-packages/sklearn/linear_model/_ridge.py:147: LinAlgWarning: Ill-conditioned matrix (rcond=1.08283e-16): result may not be accurate.\n",
      "  return linalg.solve(A, Xy, sym_pos=True,\n",
      "/home/newdriver/Storage/HomeDir/Learning/spectrometer_nn/Rreg/venv/lib/python3.8/site-packages/sklearn/linear_model/_ridge.py:147: LinAlgWarning: Ill-conditioned matrix (rcond=1.06608e-16): result may not be accurate.\n",
      "  return linalg.solve(A, Xy, sym_pos=True,\n",
      "/home/newdriver/Storage/HomeDir/Learning/spectrometer_nn/Rreg/venv/lib/python3.8/site-packages/sklearn/linear_model/_ridge.py:147: LinAlgWarning: Ill-conditioned matrix (rcond=1.07423e-16): result may not be accurate.\n",
      "  return linalg.solve(A, Xy, sym_pos=True,\n",
      "/home/newdriver/Storage/HomeDir/Learning/spectrometer_nn/Rreg/venv/lib/python3.8/site-packages/sklearn/linear_model/_ridge.py:147: LinAlgWarning: Ill-conditioned matrix (rcond=1.10864e-16): result may not be accurate.\n",
      "  return linalg.solve(A, Xy, sym_pos=True,\n",
      "/home/newdriver/Storage/HomeDir/Learning/spectrometer_nn/Rreg/venv/lib/python3.8/site-packages/sklearn/linear_model/_ridge.py:147: LinAlgWarning: Ill-conditioned matrix (rcond=1.04403e-16): result may not be accurate.\n",
      "  return linalg.solve(A, Xy, sym_pos=True,\n",
      "/home/newdriver/Storage/HomeDir/Learning/spectrometer_nn/Rreg/venv/lib/python3.8/site-packages/sklearn/linear_model/_ridge.py:147: LinAlgWarning: Ill-conditioned matrix (rcond=1.04948e-16): result may not be accurate.\n",
      "  return linalg.solve(A, Xy, sym_pos=True,\n",
      "/home/newdriver/Storage/HomeDir/Learning/spectrometer_nn/Rreg/venv/lib/python3.8/site-packages/sklearn/linear_model/_ridge.py:147: LinAlgWarning: Ill-conditioned matrix (rcond=1.02277e-16): result may not be accurate.\n",
      "  return linalg.solve(A, Xy, sym_pos=True,\n",
      "/home/newdriver/Storage/HomeDir/Learning/spectrometer_nn/Rreg/venv/lib/python3.8/site-packages/sklearn/linear_model/_ridge.py:147: LinAlgWarning: Ill-conditioned matrix (rcond=1.09518e-16): result may not be accurate.\n",
      "  return linalg.solve(A, Xy, sym_pos=True,\n",
      "/home/newdriver/Storage/HomeDir/Learning/spectrometer_nn/Rreg/venv/lib/python3.8/site-packages/sklearn/linear_model/_ridge.py:147: LinAlgWarning: Ill-conditioned matrix (rcond=1.03792e-16): result may not be accurate.\n",
      "  return linalg.solve(A, Xy, sym_pos=True,\n",
      "/home/newdriver/Storage/HomeDir/Learning/spectrometer_nn/Rreg/venv/lib/python3.8/site-packages/sklearn/linear_model/_ridge.py:147: LinAlgWarning: Ill-conditioned matrix (rcond=1.08438e-16): result may not be accurate.\n",
      "  return linalg.solve(A, Xy, sym_pos=True,\n"
     ]
    },
    {
     "name": "stdout",
     "output_type": "stream",
     "text": [
      "[20:40:01] WARNING: ../src/objective/regression_obj.cu:171: reg:linear is now deprecated in favor of reg:squarederror.\n",
      "[21:17:13] WARNING: ../src/objective/regression_obj.cu:171: reg:linear is now deprecated in favor of reg:squarederror.\n",
      "[21:54:56] WARNING: ../src/objective/regression_obj.cu:171: reg:linear is now deprecated in favor of reg:squarederror.\n",
      "[22:33:45] WARNING: ../src/objective/regression_obj.cu:171: reg:linear is now deprecated in favor of reg:squarederror.\n",
      "[23:11:49] WARNING: ../src/objective/regression_obj.cu:171: reg:linear is now deprecated in favor of reg:squarederror.\n",
      "[LightGBM] [Warning] feature_fraction is set=0.2, colsample_bytree=1.0 will be ignored. Current value: feature_fraction=0.2\n",
      "[LightGBM] [Warning] bagging_freq is set=5, subsample_freq=0 will be ignored. Current value: bagging_freq=5\n",
      "[LightGBM] [Warning] bagging_fraction is set=0.75, subsample=1.0 will be ignored. Current value: bagging_fraction=0.75\n",
      "[LightGBM] [Warning] feature_fraction is set=0.2, colsample_bytree=1.0 will be ignored. Current value: feature_fraction=0.2\n",
      "[LightGBM] [Warning] bagging_freq is set=5, subsample_freq=0 will be ignored. Current value: bagging_freq=5\n",
      "[LightGBM] [Warning] bagging_fraction is set=0.75, subsample=1.0 will be ignored. Current value: bagging_fraction=0.75\n",
      "[LightGBM] [Warning] feature_fraction is set=0.2, colsample_bytree=1.0 will be ignored. Current value: feature_fraction=0.2\n",
      "[LightGBM] [Warning] bagging_freq is set=5, subsample_freq=0 will be ignored. Current value: bagging_freq=5\n",
      "[LightGBM] [Warning] bagging_fraction is set=0.75, subsample=1.0 will be ignored. Current value: bagging_fraction=0.75\n",
      "[LightGBM] [Warning] feature_fraction is set=0.2, colsample_bytree=1.0 will be ignored. Current value: feature_fraction=0.2\n",
      "[LightGBM] [Warning] bagging_freq is set=5, subsample_freq=0 will be ignored. Current value: bagging_freq=5\n",
      "[LightGBM] [Warning] bagging_fraction is set=0.75, subsample=1.0 will be ignored. Current value: bagging_fraction=0.75\n",
      "[LightGBM] [Warning] feature_fraction is set=0.2, colsample_bytree=1.0 will be ignored. Current value: feature_fraction=0.2\n",
      "[LightGBM] [Warning] bagging_freq is set=5, subsample_freq=0 will be ignored. Current value: bagging_freq=5\n",
      "[LightGBM] [Warning] bagging_fraction is set=0.75, subsample=1.0 will be ignored. Current value: bagging_fraction=0.75\n",
      "[23:52:37] WARNING: ../src/objective/regression_obj.cu:171: reg:linear is now deprecated in favor of reg:squarederror.\n"
     ]
    },
    {
     "name": "stderr",
     "output_type": "stream",
     "text": [
      "/home/newdriver/Storage/HomeDir/Learning/spectrometer_nn/Rreg/venv/lib/python3.8/site-packages/sklearn/linear_model/_ridge.py:147: LinAlgWarning: Ill-conditioned matrix (rcond=9.24411e-17): result may not be accurate.\n",
      "  return linalg.solve(A, Xy, sym_pos=True,\n",
      "/home/newdriver/Storage/HomeDir/Learning/spectrometer_nn/Rreg/venv/lib/python3.8/site-packages/sklearn/linear_model/_ridge.py:147: LinAlgWarning: Ill-conditioned matrix (rcond=9.00914e-17): result may not be accurate.\n",
      "  return linalg.solve(A, Xy, sym_pos=True,\n",
      "/home/newdriver/Storage/HomeDir/Learning/spectrometer_nn/Rreg/venv/lib/python3.8/site-packages/sklearn/linear_model/_ridge.py:147: LinAlgWarning: Ill-conditioned matrix (rcond=1.00827e-16): result may not be accurate.\n",
      "  return linalg.solve(A, Xy, sym_pos=True,\n",
      "/home/newdriver/Storage/HomeDir/Learning/spectrometer_nn/Rreg/venv/lib/python3.8/site-packages/sklearn/linear_model/_ridge.py:147: LinAlgWarning: Ill-conditioned matrix (rcond=9.87727e-17): result may not be accurate.\n",
      "  return linalg.solve(A, Xy, sym_pos=True,\n",
      "/home/newdriver/Storage/HomeDir/Learning/spectrometer_nn/Rreg/venv/lib/python3.8/site-packages/sklearn/linear_model/_ridge.py:147: LinAlgWarning: Ill-conditioned matrix (rcond=9.53679e-17): result may not be accurate.\n",
      "  return linalg.solve(A, Xy, sym_pos=True,\n",
      "/home/newdriver/Storage/HomeDir/Learning/spectrometer_nn/Rreg/venv/lib/python3.8/site-packages/sklearn/linear_model/_ridge.py:147: LinAlgWarning: Ill-conditioned matrix (rcond=1.00291e-16): result may not be accurate.\n",
      "  return linalg.solve(A, Xy, sym_pos=True,\n",
      "/home/newdriver/Storage/HomeDir/Learning/spectrometer_nn/Rreg/venv/lib/python3.8/site-packages/sklearn/linear_model/_ridge.py:147: LinAlgWarning: Ill-conditioned matrix (rcond=9.22624e-17): result may not be accurate.\n",
      "  return linalg.solve(A, Xy, sym_pos=True,\n",
      "/home/newdriver/Storage/HomeDir/Learning/spectrometer_nn/Rreg/venv/lib/python3.8/site-packages/sklearn/linear_model/_ridge.py:147: LinAlgWarning: Ill-conditioned matrix (rcond=9.44739e-17): result may not be accurate.\n",
      "  return linalg.solve(A, Xy, sym_pos=True,\n",
      "/home/newdriver/Storage/HomeDir/Learning/spectrometer_nn/Rreg/venv/lib/python3.8/site-packages/sklearn/linear_model/_ridge.py:147: LinAlgWarning: Ill-conditioned matrix (rcond=9.27375e-17): result may not be accurate.\n",
      "  return linalg.solve(A, Xy, sym_pos=True,\n",
      "/home/newdriver/Storage/HomeDir/Learning/spectrometer_nn/Rreg/venv/lib/python3.8/site-packages/sklearn/linear_model/_ridge.py:147: LinAlgWarning: Ill-conditioned matrix (rcond=9.64562e-17): result may not be accurate.\n",
      "  return linalg.solve(A, Xy, sym_pos=True,\n"
     ]
    },
    {
     "name": "stdout",
     "output_type": "stream",
     "text": [
      "[01:52:49] WARNING: ../src/objective/regression_obj.cu:171: reg:linear is now deprecated in favor of reg:squarederror.\n",
      "[LightGBM] [Warning] feature_fraction is set=0.2, colsample_bytree=1.0 will be ignored. Current value: feature_fraction=0.2\n",
      "[LightGBM] [Warning] bagging_freq is set=5, subsample_freq=0 will be ignored. Current value: bagging_freq=5\n",
      "[LightGBM] [Warning] bagging_fraction is set=0.75, subsample=1.0 will be ignored. Current value: bagging_fraction=0.75\n"
     ]
    },
    {
     "name": "stderr",
     "output_type": "stream",
     "text": [
      "/home/newdriver/Storage/HomeDir/Learning/spectrometer_nn/Rreg/venv/lib/python3.8/site-packages/sklearn/linear_model/_ridge.py:147: LinAlgWarning: Ill-conditioned matrix (rcond=1.10103e-16): result may not be accurate.\n",
      "  return linalg.solve(A, Xy, sym_pos=True,\n",
      "/home/newdriver/Storage/HomeDir/Learning/spectrometer_nn/Rreg/venv/lib/python3.8/site-packages/sklearn/linear_model/_ridge.py:147: LinAlgWarning: Ill-conditioned matrix (rcond=1.06506e-16): result may not be accurate.\n",
      "  return linalg.solve(A, Xy, sym_pos=True,\n",
      "/home/newdriver/Storage/HomeDir/Learning/spectrometer_nn/Rreg/venv/lib/python3.8/site-packages/sklearn/linear_model/_ridge.py:147: LinAlgWarning: Ill-conditioned matrix (rcond=1.07998e-16): result may not be accurate.\n",
      "  return linalg.solve(A, Xy, sym_pos=True,\n",
      "/home/newdriver/Storage/HomeDir/Learning/spectrometer_nn/Rreg/venv/lib/python3.8/site-packages/sklearn/linear_model/_ridge.py:147: LinAlgWarning: Ill-conditioned matrix (rcond=1.08791e-16): result may not be accurate.\n",
      "  return linalg.solve(A, Xy, sym_pos=True,\n",
      "/home/newdriver/Storage/HomeDir/Learning/spectrometer_nn/Rreg/venv/lib/python3.8/site-packages/sklearn/linear_model/_ridge.py:147: LinAlgWarning: Ill-conditioned matrix (rcond=1.06138e-16): result may not be accurate.\n",
      "  return linalg.solve(A, Xy, sym_pos=True,\n",
      "/home/newdriver/Storage/HomeDir/Learning/spectrometer_nn/Rreg/venv/lib/python3.8/site-packages/sklearn/linear_model/_ridge.py:147: LinAlgWarning: Ill-conditioned matrix (rcond=1.08319e-16): result may not be accurate.\n",
      "  return linalg.solve(A, Xy, sym_pos=True,\n",
      "/home/newdriver/Storage/HomeDir/Learning/spectrometer_nn/Rreg/venv/lib/python3.8/site-packages/sklearn/linear_model/_ridge.py:147: LinAlgWarning: Ill-conditioned matrix (rcond=1.08158e-16): result may not be accurate.\n",
      "  return linalg.solve(A, Xy, sym_pos=True,\n",
      "/home/newdriver/Storage/HomeDir/Learning/spectrometer_nn/Rreg/venv/lib/python3.8/site-packages/sklearn/linear_model/_ridge.py:147: LinAlgWarning: Ill-conditioned matrix (rcond=1.08208e-16): result may not be accurate.\n",
      "  return linalg.solve(A, Xy, sym_pos=True,\n",
      "/home/newdriver/Storage/HomeDir/Learning/spectrometer_nn/Rreg/venv/lib/python3.8/site-packages/sklearn/linear_model/_ridge.py:147: LinAlgWarning: Ill-conditioned matrix (rcond=1.05109e-16): result may not be accurate.\n",
      "  return linalg.solve(A, Xy, sym_pos=True,\n",
      "/home/newdriver/Storage/HomeDir/Learning/spectrometer_nn/Rreg/venv/lib/python3.8/site-packages/sklearn/linear_model/_ridge.py:147: LinAlgWarning: Ill-conditioned matrix (rcond=1.108e-16): result may not be accurate.\n",
      "  return linalg.solve(A, Xy, sym_pos=True,\n",
      "/home/newdriver/Storage/HomeDir/Learning/spectrometer_nn/Rreg/venv/lib/python3.8/site-packages/sklearn/linear_model/_ridge.py:147: LinAlgWarning: Ill-conditioned matrix (rcond=1.05633e-16): result may not be accurate.\n",
      "  return linalg.solve(A, Xy, sym_pos=True,\n"
     ]
    },
    {
     "name": "stdout",
     "output_type": "stream",
     "text": [
      "[07:33:31] WARNING: ../src/objective/regression_obj.cu:171: reg:linear is now deprecated in favor of reg:squarederror.\n",
      "[08:09:38] WARNING: ../src/objective/regression_obj.cu:171: reg:linear is now deprecated in favor of reg:squarederror.\n",
      "[08:46:05] WARNING: ../src/objective/regression_obj.cu:171: reg:linear is now deprecated in favor of reg:squarederror.\n",
      "[09:22:31] WARNING: ../src/objective/regression_obj.cu:171: reg:linear is now deprecated in favor of reg:squarederror.\n",
      "[09:58:47] WARNING: ../src/objective/regression_obj.cu:171: reg:linear is now deprecated in favor of reg:squarederror.\n",
      "[LightGBM] [Warning] feature_fraction is set=0.2, colsample_bytree=1.0 will be ignored. Current value: feature_fraction=0.2\n",
      "[LightGBM] [Warning] bagging_freq is set=5, subsample_freq=0 will be ignored. Current value: bagging_freq=5\n",
      "[LightGBM] [Warning] bagging_fraction is set=0.75, subsample=1.0 will be ignored. Current value: bagging_fraction=0.75\n",
      "[LightGBM] [Warning] feature_fraction is set=0.2, colsample_bytree=1.0 will be ignored. Current value: feature_fraction=0.2\n",
      "[LightGBM] [Warning] bagging_freq is set=5, subsample_freq=0 will be ignored. Current value: bagging_freq=5\n",
      "[LightGBM] [Warning] bagging_fraction is set=0.75, subsample=1.0 will be ignored. Current value: bagging_fraction=0.75\n",
      "[LightGBM] [Warning] feature_fraction is set=0.2, colsample_bytree=1.0 will be ignored. Current value: feature_fraction=0.2\n",
      "[LightGBM] [Warning] bagging_freq is set=5, subsample_freq=0 will be ignored. Current value: bagging_freq=5\n",
      "[LightGBM] [Warning] bagging_fraction is set=0.75, subsample=1.0 will be ignored. Current value: bagging_fraction=0.75\n",
      "[LightGBM] [Warning] feature_fraction is set=0.2, colsample_bytree=1.0 will be ignored. Current value: feature_fraction=0.2\n",
      "[LightGBM] [Warning] bagging_freq is set=5, subsample_freq=0 will be ignored. Current value: bagging_freq=5\n",
      "[LightGBM] [Warning] bagging_fraction is set=0.75, subsample=1.0 will be ignored. Current value: bagging_fraction=0.75\n",
      "[10:37:18] WARNING: ../src/objective/regression_obj.cu:171: reg:linear is now deprecated in favor of reg:squarederror.\n"
     ]
    },
    {
     "name": "stderr",
     "output_type": "stream",
     "text": [
      "/home/newdriver/Storage/HomeDir/Learning/spectrometer_nn/Rreg/venv/lib/python3.8/site-packages/sklearn/linear_model/_ridge.py:147: LinAlgWarning: Ill-conditioned matrix (rcond=9.24411e-17): result may not be accurate.\n",
      "  return linalg.solve(A, Xy, sym_pos=True,\n",
      "/home/newdriver/Storage/HomeDir/Learning/spectrometer_nn/Rreg/venv/lib/python3.8/site-packages/sklearn/linear_model/_ridge.py:147: LinAlgWarning: Ill-conditioned matrix (rcond=9.00914e-17): result may not be accurate.\n",
      "  return linalg.solve(A, Xy, sym_pos=True,\n",
      "/home/newdriver/Storage/HomeDir/Learning/spectrometer_nn/Rreg/venv/lib/python3.8/site-packages/sklearn/linear_model/_ridge.py:147: LinAlgWarning: Ill-conditioned matrix (rcond=1.00827e-16): result may not be accurate.\n",
      "  return linalg.solve(A, Xy, sym_pos=True,\n",
      "/home/newdriver/Storage/HomeDir/Learning/spectrometer_nn/Rreg/venv/lib/python3.8/site-packages/sklearn/linear_model/_ridge.py:147: LinAlgWarning: Ill-conditioned matrix (rcond=9.87727e-17): result may not be accurate.\n",
      "  return linalg.solve(A, Xy, sym_pos=True,\n",
      "/home/newdriver/Storage/HomeDir/Learning/spectrometer_nn/Rreg/venv/lib/python3.8/site-packages/sklearn/linear_model/_ridge.py:147: LinAlgWarning: Ill-conditioned matrix (rcond=9.53679e-17): result may not be accurate.\n",
      "  return linalg.solve(A, Xy, sym_pos=True,\n",
      "/home/newdriver/Storage/HomeDir/Learning/spectrometer_nn/Rreg/venv/lib/python3.8/site-packages/sklearn/linear_model/_ridge.py:147: LinAlgWarning: Ill-conditioned matrix (rcond=1.00291e-16): result may not be accurate.\n",
      "  return linalg.solve(A, Xy, sym_pos=True,\n",
      "/home/newdriver/Storage/HomeDir/Learning/spectrometer_nn/Rreg/venv/lib/python3.8/site-packages/sklearn/linear_model/_ridge.py:147: LinAlgWarning: Ill-conditioned matrix (rcond=9.22624e-17): result may not be accurate.\n",
      "  return linalg.solve(A, Xy, sym_pos=True,\n",
      "/home/newdriver/Storage/HomeDir/Learning/spectrometer_nn/Rreg/venv/lib/python3.8/site-packages/sklearn/linear_model/_ridge.py:147: LinAlgWarning: Ill-conditioned matrix (rcond=9.44739e-17): result may not be accurate.\n",
      "  return linalg.solve(A, Xy, sym_pos=True,\n",
      "/home/newdriver/Storage/HomeDir/Learning/spectrometer_nn/Rreg/venv/lib/python3.8/site-packages/sklearn/linear_model/_ridge.py:147: LinAlgWarning: Ill-conditioned matrix (rcond=9.27375e-17): result may not be accurate.\n",
      "  return linalg.solve(A, Xy, sym_pos=True,\n",
      "/home/newdriver/Storage/HomeDir/Learning/spectrometer_nn/Rreg/venv/lib/python3.8/site-packages/sklearn/linear_model/_ridge.py:147: LinAlgWarning: Ill-conditioned matrix (rcond=9.64562e-17): result may not be accurate.\n",
      "  return linalg.solve(A, Xy, sym_pos=True,\n"
     ]
    },
    {
     "name": "stdout",
     "output_type": "stream",
     "text": [
      "[12:33:34] WARNING: ../src/objective/regression_obj.cu:171: reg:linear is now deprecated in favor of reg:squarederror.\n",
      "[LightGBM] [Warning] feature_fraction is set=0.2, colsample_bytree=1.0 will be ignored. Current value: feature_fraction=0.2\n",
      "[LightGBM] [Warning] bagging_freq is set=5, subsample_freq=0 will be ignored. Current value: bagging_freq=5\n",
      "[LightGBM] [Warning] bagging_fraction is set=0.75, subsample=1.0 will be ignored. Current value: bagging_fraction=0.75\n",
      "2021-04-26 13:30:55.960874 elasticnet\n",
      "2021-04-26 13:33:34.480487 lasso\n",
      "2021-04-26 13:35:55.924410 ridge\n"
     ]
    },
    {
     "name": "stderr",
     "output_type": "stream",
     "text": [
      "/home/newdriver/Storage/HomeDir/Learning/spectrometer_nn/Rreg/venv/lib/python3.8/site-packages/sklearn/linear_model/_ridge.py:147: LinAlgWarning: Ill-conditioned matrix (rcond=9.24411e-17): result may not be accurate.\n",
      "  return linalg.solve(A, Xy, sym_pos=True,\n",
      "/home/newdriver/Storage/HomeDir/Learning/spectrometer_nn/Rreg/venv/lib/python3.8/site-packages/sklearn/linear_model/_ridge.py:147: LinAlgWarning: Ill-conditioned matrix (rcond=9.00914e-17): result may not be accurate.\n",
      "  return linalg.solve(A, Xy, sym_pos=True,\n",
      "/home/newdriver/Storage/HomeDir/Learning/spectrometer_nn/Rreg/venv/lib/python3.8/site-packages/sklearn/linear_model/_ridge.py:147: LinAlgWarning: Ill-conditioned matrix (rcond=1.00827e-16): result may not be accurate.\n",
      "  return linalg.solve(A, Xy, sym_pos=True,\n",
      "/home/newdriver/Storage/HomeDir/Learning/spectrometer_nn/Rreg/venv/lib/python3.8/site-packages/sklearn/linear_model/_ridge.py:147: LinAlgWarning: Ill-conditioned matrix (rcond=9.87727e-17): result may not be accurate.\n",
      "  return linalg.solve(A, Xy, sym_pos=True,\n",
      "/home/newdriver/Storage/HomeDir/Learning/spectrometer_nn/Rreg/venv/lib/python3.8/site-packages/sklearn/linear_model/_ridge.py:147: LinAlgWarning: Ill-conditioned matrix (rcond=9.53679e-17): result may not be accurate.\n",
      "  return linalg.solve(A, Xy, sym_pos=True,\n",
      "/home/newdriver/Storage/HomeDir/Learning/spectrometer_nn/Rreg/venv/lib/python3.8/site-packages/sklearn/linear_model/_ridge.py:147: LinAlgWarning: Ill-conditioned matrix (rcond=1.00291e-16): result may not be accurate.\n",
      "  return linalg.solve(A, Xy, sym_pos=True,\n",
      "/home/newdriver/Storage/HomeDir/Learning/spectrometer_nn/Rreg/venv/lib/python3.8/site-packages/sklearn/linear_model/_ridge.py:147: LinAlgWarning: Ill-conditioned matrix (rcond=9.22624e-17): result may not be accurate.\n",
      "  return linalg.solve(A, Xy, sym_pos=True,\n",
      "/home/newdriver/Storage/HomeDir/Learning/spectrometer_nn/Rreg/venv/lib/python3.8/site-packages/sklearn/linear_model/_ridge.py:147: LinAlgWarning: Ill-conditioned matrix (rcond=9.44739e-17): result may not be accurate.\n",
      "  return linalg.solve(A, Xy, sym_pos=True,\n",
      "/home/newdriver/Storage/HomeDir/Learning/spectrometer_nn/Rreg/venv/lib/python3.8/site-packages/sklearn/linear_model/_ridge.py:147: LinAlgWarning: Ill-conditioned matrix (rcond=9.27375e-17): result may not be accurate.\n",
      "  return linalg.solve(A, Xy, sym_pos=True,\n",
      "/home/newdriver/Storage/HomeDir/Learning/spectrometer_nn/Rreg/venv/lib/python3.8/site-packages/sklearn/linear_model/_ridge.py:147: LinAlgWarning: Ill-conditioned matrix (rcond=9.64562e-17): result may not be accurate.\n",
      "  return linalg.solve(A, Xy, sym_pos=True,\n",
      "/home/newdriver/Storage/HomeDir/Learning/spectrometer_nn/Rreg/venv/lib/python3.8/site-packages/sklearn/linear_model/_ridge.py:147: LinAlgWarning: Ill-conditioned matrix (rcond=9.24411e-17): result may not be accurate.\n",
      "  return linalg.solve(A, Xy, sym_pos=True,\n",
      "/home/newdriver/Storage/HomeDir/Learning/spectrometer_nn/Rreg/venv/lib/python3.8/site-packages/sklearn/linear_model/_ridge.py:147: LinAlgWarning: Ill-conditioned matrix (rcond=9.00914e-17): result may not be accurate.\n",
      "  return linalg.solve(A, Xy, sym_pos=True,\n",
      "/home/newdriver/Storage/HomeDir/Learning/spectrometer_nn/Rreg/venv/lib/python3.8/site-packages/sklearn/linear_model/_ridge.py:147: LinAlgWarning: Ill-conditioned matrix (rcond=1.00827e-16): result may not be accurate.\n",
      "  return linalg.solve(A, Xy, sym_pos=True,\n",
      "/home/newdriver/Storage/HomeDir/Learning/spectrometer_nn/Rreg/venv/lib/python3.8/site-packages/sklearn/linear_model/_ridge.py:147: LinAlgWarning: Ill-conditioned matrix (rcond=9.87727e-17): result may not be accurate.\n",
      "  return linalg.solve(A, Xy, sym_pos=True,\n",
      "/home/newdriver/Storage/HomeDir/Learning/spectrometer_nn/Rreg/venv/lib/python3.8/site-packages/sklearn/linear_model/_ridge.py:147: LinAlgWarning: Ill-conditioned matrix (rcond=9.53679e-17): result may not be accurate.\n",
      "  return linalg.solve(A, Xy, sym_pos=True,\n",
      "/home/newdriver/Storage/HomeDir/Learning/spectrometer_nn/Rreg/venv/lib/python3.8/site-packages/sklearn/linear_model/_ridge.py:147: LinAlgWarning: Ill-conditioned matrix (rcond=1.00291e-16): result may not be accurate.\n",
      "  return linalg.solve(A, Xy, sym_pos=True,\n",
      "/home/newdriver/Storage/HomeDir/Learning/spectrometer_nn/Rreg/venv/lib/python3.8/site-packages/sklearn/linear_model/_ridge.py:147: LinAlgWarning: Ill-conditioned matrix (rcond=9.22624e-17): result may not be accurate.\n",
      "  return linalg.solve(A, Xy, sym_pos=True,\n",
      "/home/newdriver/Storage/HomeDir/Learning/spectrometer_nn/Rreg/venv/lib/python3.8/site-packages/sklearn/linear_model/_ridge.py:147: LinAlgWarning: Ill-conditioned matrix (rcond=9.44739e-17): result may not be accurate.\n",
      "  return linalg.solve(A, Xy, sym_pos=True,\n",
      "/home/newdriver/Storage/HomeDir/Learning/spectrometer_nn/Rreg/venv/lib/python3.8/site-packages/sklearn/linear_model/_ridge.py:147: LinAlgWarning: Ill-conditioned matrix (rcond=9.27375e-17): result may not be accurate.\n",
      "  return linalg.solve(A, Xy, sym_pos=True,\n",
      "/home/newdriver/Storage/HomeDir/Learning/spectrometer_nn/Rreg/venv/lib/python3.8/site-packages/sklearn/linear_model/_ridge.py:147: LinAlgWarning: Ill-conditioned matrix (rcond=9.64562e-17): result may not be accurate.\n",
      "  return linalg.solve(A, Xy, sym_pos=True,\n"
     ]
    },
    {
     "name": "stdout",
     "output_type": "stream",
     "text": [
      "2021-04-26 13:37:12.587594 svr\n"
     ]
    }
   ],
   "source": [
    "print(\"START FIT\")\n",
    "print(datetime.now(), 'StackingCVRegressor')\n",
    "stack_gen_model_theta = stack_gen.fit(np.array(trainX), np.array(RealTheta))\n",
    "stack_gen_model_phi = stack_gen.fit(np.array(trainX), np.array(RealPhi))\n",
    "\n",
    "print(datetime.now(), 'elasticnet')\n",
    "elasticnet_model_full_data_theta = elasticnet.fit(trainX, RealTheta)\n",
    "elasticnet_model_full_data_phi   = elasticnet.fit(trainX, RealPhi)\n",
    "\n",
    "print(datetime.now(), 'lasso')\n",
    "lasso_model_full_data_theta = lasso.fit(trainX,RealTheta)\n",
    "lasso_model_full_data_phi = lasso.fit(trainX,RealPhi)\n",
    "\n",
    "print(datetime.now(), 'ridge')\n",
    "ridge_model_full_data_theta = ridge.fit(trainX,RealTheta)\n",
    "ridge_model_full_data_phi = ridge.fit(trainX,RealPhi)\n",
    "\n",
    "print(datetime.now(), 'svr')\n",
    "svr_model_full_data_theta = svr.fit(trainX, RealTheta)\n",
    "svr_model_full_data_phi = svr.fit(trainX, RealPhi)\n",
    "\n",
    "print(datetime.now(), 'GradientBoosting')\n",
    "gbr_model_full_data_theta = gbr.fit(trainX, RealTheta)\n",
    "gbr_model_full_data_phi = gbr.fit(trainX, RealPhi)\n",
    "\n",
    "print(datetime.now(), 'xgboost')\n",
    "xgb_model_full_data_theta = xgboost.fit(trainX, RealTheta)\n",
    "xgb_model_full_data_phi = xgboost.fit(trainX, RealPhi)\n",
    "\n",
    "print(datetime.now(), 'lightgbm')\n",
    "lgb_model_full_data_theta = lightgbm.fit(trainX, RealTheta)\n",
    "lgb_model_full_data_phi = lightgbm.fit(trainX, RealPhi)"
   ],
   "metadata": {
    "collapsed": false,
    "pycharm": {
     "name": "#%%\n",
     "is_executing": true
    }
   }
  },
  {
   "cell_type": "markdown",
   "source": [
    "valiate the models"
   ],
   "metadata": {
    "collapsed": false,
    "pycharm": {
     "name": "#%% md\n",
     "is_executing": true
    }
   },
   "outputs": []
  },
  {
   "cell_type": "code",
   "execution_count": null,
   "outputs": [],
   "source": [
    "def modelValidation(modelTheta, modelPhi):\n",
    "    pass"
   ],
   "metadata": {
    "collapsed": false,
    "pycharm": {
     "name": "#%%\n"
    }
   }
  }
 ],
 "metadata": {
  "kernelspec": {
   "display_name": "Python 3",
   "language": "python",
   "name": "python3"
  },
  "language_info": {
   "codemirror_mode": {
    "name": "ipython",
    "version": 2
   },
   "file_extension": ".py",
   "mimetype": "text/x-python",
   "name": "python",
   "nbconvert_exporter": "python",
   "pygments_lexer": "ipython2",
   "version": "2.7.6"
  }
 },
 "nbformat": 4,
 "nbformat_minor": 0
}